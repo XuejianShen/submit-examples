{
 "cells": [
  {
   "cell_type": "code",
   "execution_count": 1,
   "id": "5613650e-34c1-4ffc-9619-325e68f93b81",
   "metadata": {},
   "outputs": [],
   "source": [
    "from dask_gateway import Gateway, GatewayCluster"
   ]
  },
  {
   "cell_type": "code",
   "execution_count": 2,
   "id": "f35a25d8-e2ff-4ce2-bab6-cdb0311af44e",
   "metadata": {},
   "outputs": [],
   "source": [
    "gateway = Gateway(\n",
    "    address=\"http://submit.mit.edu:6820\",\n",
    "    proxy_address=\"http://submit.mit.edu:6821\",\n",
    ")"
   ]
  },
  {
   "cell_type": "code",
   "execution_count": 3,
   "id": "b51a8aad-8f5a-4350-a4b8-3252b577738e",
   "metadata": {},
   "outputs": [
    {
     "data": {
      "text/plain": [
       "[ClusterReport<name=310ce20ba9d844098b599230be32af9b, status=RUNNING>,\n",
       " ClusterReport<name=5b4eb8c3e3374bddb68b291c85acbdd0, status=RUNNING>]"
      ]
     },
     "execution_count": 3,
     "metadata": {},
     "output_type": "execute_result"
    }
   ],
   "source": [
    "gateway.list_clusters()"
   ]
  },
  {
   "cell_type": "code",
   "execution_count": 4,
   "id": "c22f9fb0-cb5b-49a5-aff6-a4b6c4cef791",
   "metadata": {},
   "outputs": [],
   "source": [
    "options = gateway.cluster_options()"
   ]
  },
  {
   "cell_type": "code",
   "execution_count": 5,
   "id": "a360a39a-4411-4ee5-ab51-a28c56b35505",
   "metadata": {},
   "outputs": [
    {
     "data": {
      "application/vnd.jupyter.widget-view+json": {
       "model_id": "a9e78dc597bc4adc99b7507dd92dda2c",
       "version_major": 2,
       "version_minor": 0
      },
      "text/plain": [
       "VBox(children=(HTML(value='<h2>Cluster Options</h2>'), GridBox(children=(HTML(value=\"<p style='font-weight: bo…"
      ]
     },
     "metadata": {},
     "output_type": "display_data"
    }
   ],
   "source": [
    "options #If ipywidgets is installed, you can change the cluster options below (type you conda environment)"
   ]
  },
  {
   "cell_type": "code",
   "execution_count": 6,
   "id": "76d71026-cb0f-4848-8b9a-7e7e6de0955a",
   "metadata": {},
   "outputs": [
    {
     "name": "stdout",
     "output_type": "stream",
     "text": [
      "Option: worker_cores - Value: 1\n",
      "Option: worker_memory - Value: 1.0\n",
      "Option: environment - Value: base\n"
     ]
    }
   ],
   "source": [
    "# Iterate over the available options and print their details\n",
    "for option_name, option in options.items():\n",
    "    try:\n",
    "        print(f\"Option: {option_name} - Value: {option}\")\n",
    "    except AttributeError as e:\n",
    "        print(f\"Failed to access option '{option_name}':\", e)"
   ]
  },
  {
   "cell_type": "code",
   "execution_count": 7,
   "id": "9d2ab5bb-e2b4-4bac-8775-85e49bc26108",
   "metadata": {},
   "outputs": [],
   "source": [
    "# Optionally, set specific options if needed\n",
    "options['worker_cores'] = 2  # Example: setting worker cores to 2\n",
    "options['worker_memory'] = 4.0  # Example: setting worker memory to 4.0 GB\n",
    "options['environment'] = 'AF' #put the conda environment name that you want here"
   ]
  },
  {
   "cell_type": "code",
   "execution_count": 8,
   "id": "2c411836-d1d7-4d82-8f26-5ca9de15f57e",
   "metadata": {},
   "outputs": [
    {
     "name": "stdout",
     "output_type": "stream",
     "text": [
      "Cluster created successfully\n"
     ]
    }
   ],
   "source": [
    "from dask_gateway import Gateway, GatewayClusterError\n",
    "# Try to create a new cluster with the specified options\n",
    "try:\n",
    "    cluster = gateway.new_cluster(options)\n",
    "    print(\"Cluster created successfully\")\n",
    "except GatewayClusterError as e:\n",
    "    cluster_name = None\n",
    "    if \"failed to start\" in str(e):\n",
    "        cluster_name = e.args[0].split(\"'\")[1]\n",
    "    print(f\"Failed to create cluster: {e}\")\n",
    "\n",
    "    if cluster_name:\n",
    "        # Attempt to fetch the logs for the failed cluster\n",
    "        try:\n",
    "            cluster = gateway.connect(cluster_name)\n",
    "            logs = cluster.get_logs()\n",
    "            print(\"Cluster logs:\")\n",
    "            print(logs)\n",
    "        except Exception as log_e:\n",
    "            print(f\"Failed to fetch logs for cluster '{cluster_name}': {log_e}\")\n",
    "    else:\n",
    "        print(\"Cluster name could not be extracted for log retrieval.\")"
   ]
  },
  {
   "cell_type": "code",
   "execution_count": 9,
   "id": "5c9f6747-f1c9-445a-8ee0-e17e36ff2e94",
   "metadata": {},
   "outputs": [
    {
     "data": {
      "application/vnd.jupyter.widget-view+json": {
       "model_id": "8c646fee04ff48cb885a3863280e1235",
       "version_major": 2,
       "version_minor": 0
      },
      "text/plain": [
       "VBox(children=(HTML(value='<h2>GatewayCluster</h2>'), HBox(children=(HTML(value='\\n<div>\\n<style scoped>\\n    …"
      ]
     },
     "metadata": {},
     "output_type": "display_data"
    }
   ],
   "source": [
    "cluster #You can scale the cluster manually below or you can set it to use adaptive scaling"
   ]
  },
  {
   "cell_type": "code",
   "execution_count": null,
   "id": "0fee9bad-5b9f-40e2-8e52-2d4a4134d78e",
   "metadata": {},
   "outputs": [],
   "source": [
    "cluster.scale()"
   ]
  },
  {
   "cell_type": "raw",
   "id": "26185204-2aa5-4c11-9f0b-e30becf64e3b",
   "metadata": {},
   "source": []
  },
  {
   "cell_type": "code",
   "execution_count": 15,
   "id": "7852948b-2617-4193-9c43-f4184fcad1b0",
   "metadata": {},
   "outputs": [],
   "source": [
    "client = cluster.get_client()"
   ]
  },
  {
   "cell_type": "code",
   "execution_count": 16,
   "id": "5ae706be-2e61-4a6b-ae0b-aac281ab7dad",
   "metadata": {},
   "outputs": [
    {
     "data": {
      "text/html": [
       "<div>\n",
       "    <div style=\"width: 24px; height: 24px; background-color: #e1e1e1; border: 3px solid #9D9D9D; border-radius: 5px; position: absolute;\"> </div>\n",
       "    <div style=\"margin-left: 48px;\">\n",
       "        <h3 style=\"margin-bottom: 0px;\">Client</h3>\n",
       "        <p style=\"color: #9D9D9D; margin-bottom: 0px;\">Client-ff10ba96-656d-11ef-a374-b8cef6003cfc</p>\n",
       "        <table style=\"width: 100%; text-align: left;\">\n",
       "\n",
       "        <tr>\n",
       "        \n",
       "            <td style=\"text-align: left;\"><strong>Connection method:</strong> Cluster object</td>\n",
       "            <td style=\"text-align: left;\"><strong>Cluster type:</strong> dask_gateway.GatewayCluster</td>\n",
       "        \n",
       "        </tr>\n",
       "\n",
       "        \n",
       "            <tr>\n",
       "                <td style=\"text-align: left;\">\n",
       "                    <strong>Dashboard: </strong> <a href=\"http://submit.mit.edu:6820/clusters/fed2e6f2abcd49289acc4b2fde86dacd/status\" target=\"_blank\">http://submit.mit.edu:6820/clusters/fed2e6f2abcd49289acc4b2fde86dacd/status</a>\n",
       "                </td>\n",
       "                <td style=\"text-align: left;\"></td>\n",
       "            </tr>\n",
       "        \n",
       "\n",
       "        </table>\n",
       "\n",
       "        \n",
       "\n",
       "        \n",
       "            <details>\n",
       "            <summary style=\"margin-bottom: 20px;\"><h3 style=\"display: inline;\">Cluster Info</h3></summary>\n",
       "            <div style='background-color: #f2f2f2; display: inline-block; padding: 10px; border: 1px solid #999999;'>\n",
       "  <h3>GatewayCluster</h3>\n",
       "  <ul>\n",
       "    <li><b>Name: </b>fed2e6f2abcd49289acc4b2fde86dacd\n",
       "    <li><b>Dashboard: </b><a href='http://submit.mit.edu:6820/clusters/fed2e6f2abcd49289acc4b2fde86dacd/status' target='_blank'>http://submit.mit.edu:6820/clusters/fed2e6f2abcd49289acc4b2fde86dacd/status</a>\n",
       "  </ul>\n",
       "</div>\n",
       "\n",
       "            </details>\n",
       "        \n",
       "\n",
       "    </div>\n",
       "</div>"
      ],
      "text/plain": [
       "<Client: 'tls://18.4.134.76:38305' processes=0 threads=0, memory=0 B>"
      ]
     },
     "execution_count": 16,
     "metadata": {},
     "output_type": "execute_result"
    }
   ],
   "source": [
    "client"
   ]
  },
  {
   "cell_type": "code",
   "execution_count": 17,
   "id": "ebc02622-7147-453b-be12-28e7f4affa4c",
   "metadata": {},
   "outputs": [],
   "source": [
    "import numpy as np\n",
    "import dask.array as da"
   ]
  },
  {
   "cell_type": "code",
   "execution_count": 18,
   "id": "610303fe-d791-4be9-99ee-54654b7cf576",
   "metadata": {},
   "outputs": [
    {
     "name": "stderr",
     "output_type": "stream",
     "text": [
      "/work/submit/freerc/miniforge3/envs/AF/lib/python3.9/site-packages/dask/array/routines.py:326: PerformanceWarning: Increasing number of chunks by factor of 10\n",
      "  intermediate = blockwise(\n"
     ]
    }
   ],
   "source": [
    "x = da.random.random((100, 100), chunks=(10, 10))\n",
    "y = da.random.random((100, 100), chunks=(10, 10))\n",
    "\n",
    "# Perform a matrix multiplication\n",
    "z = da.dot(x, y)\n",
    "\n",
    "# Compute the result (this will trigger the distributed computation)\n",
    "result = z.compute()"
   ]
  },
  {
   "cell_type": "code",
   "execution_count": 19,
   "id": "b4daa3cf-4572-4be9-8138-08b742080fcd",
   "metadata": {},
   "outputs": [
    {
     "data": {
      "text/plain": [
       "array([[27.34846011, 27.67445794, 27.97154035, ..., 25.88894165,\n",
       "        26.94553653, 25.3116628 ],\n",
       "       [25.2026391 , 27.35171109, 25.90871407, ..., 25.51597468,\n",
       "        27.45140399, 24.12873174],\n",
       "       [23.94169729, 25.63426158, 23.26259635, ..., 23.75644834,\n",
       "        25.73457245, 22.17038899],\n",
       "       ...,\n",
       "       [23.1896605 , 24.59618487, 22.3355991 , ..., 22.66537874,\n",
       "        24.69327374, 23.15148908],\n",
       "       [25.30974692, 26.84353189, 25.04249372, ..., 25.15469876,\n",
       "        27.19384263, 23.23868815],\n",
       "       [25.94445709, 28.63267463, 28.33337995, ..., 25.56051863,\n",
       "        29.54683178, 25.22011342]])"
      ]
     },
     "execution_count": 19,
     "metadata": {},
     "output_type": "execute_result"
    }
   ],
   "source": [
    "result"
   ]
  },
  {
   "cell_type": "code",
   "execution_count": null,
   "id": "7046bd83-8e04-465d-ba14-30a9ce67ed61",
   "metadata": {},
   "outputs": [],
   "source": []
  }
 ],
 "metadata": {
  "kernelspec": {
   "display_name": "AF",
   "language": "python",
   "name": "af"
  },
  "language_info": {
   "codemirror_mode": {
    "name": "ipython",
    "version": 3
   },
   "file_extension": ".py",
   "mimetype": "text/x-python",
   "name": "python",
   "nbconvert_exporter": "python",
   "pygments_lexer": "ipython3",
   "version": "3.9.19"
  }
 },
 "nbformat": 4,
 "nbformat_minor": 5
}
