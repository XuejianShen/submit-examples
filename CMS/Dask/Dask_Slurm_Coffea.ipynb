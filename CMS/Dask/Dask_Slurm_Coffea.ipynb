{
 "cells": [
  {
   "cell_type": "markdown",
   "id": "89478bce-c68d-4738-b62d-b288e49503ba",
   "metadata": {},
   "source": [
    "# Dask through Jupyter Notebooks"
   ]
  },
  {
   "cell_type": "markdown",
   "id": "0a66b82e-fde3-4595-b4f9-24e25e6ae57d",
   "metadata": {},
   "source": [
    "This notebook will guide you through using Dask to analyze NanoAOD root files using a Slurm Cluster on SubMIT. This notebook utilizes a conda environment and then exports that environment in the slurm jobs. Follow the README for instructions on the conda environment. "
   ]
  },
  {
   "cell_type": "code",
   "execution_count": 1,
   "id": "36c07901-136b-4e4e-9146-33a52a8d671e",
   "metadata": {
    "tags": []
   },
   "outputs": [
    {
     "name": "stderr",
     "output_type": "stream",
     "text": [
      "/work/submit/freerc/miniforge3/envs/dask/lib/python3.9/site-packages/coffea/util.py:154: FutureWarning: In coffea version v0.8.0 (target date: 31 Dec 2022), this will be an error.\n",
      "(Set coffea.deprecations_as_errors = True to get a stack trace now.)\n",
      "ImportError: coffea.hist is deprecated\n",
      "  warnings.warn(message, FutureWarning)\n",
      "/work/submit/freerc/miniforge3/envs/dask/lib/python3.9/site-packages/dask_jobqueue/core.py:20: FutureWarning: tmpfile is deprecated and will be removed in a future release. Please use dask.utils.tmpfile instead.\n",
      "  from distributed.utils import tmpfile\n"
     ]
    }
   ],
   "source": [
    "import os\n",
    "import sys\n",
    "import json\n",
    "import time\n",
    "import random\n",
    "import numpy as np\n",
    "from coffea import hist, processor\n",
    "\n",
    "from dask_jobqueue import SLURMCluster\n",
    "from distributed import Client\n",
    "from dask.distributed import performance_report"
   ]
  },
  {
   "cell_type": "markdown",
   "id": "c841c2aa-987c-4a20-8911-a8923f3d36f1",
   "metadata": {},
   "source": [
    "We set up a coffea ABC Processor to analyze the ROOT files. Here we grab the Muon and Electron collection and add some simple selections using awkward."
   ]
  },
  {
   "cell_type": "code",
   "execution_count": 2,
   "id": "768afee5-9257-4b71-a695-40c32101a1a1",
   "metadata": {},
   "outputs": [],
   "source": [
    "import awkward as ak\n",
    "import vector\n",
    "vector.register_awkward()\n",
    "\n",
    "class Simple_Process(processor.ProcessorABC):\n",
    "    def __init__(self, isMC: int, era: int, sample: str) -> None:\n",
    "        self.gensumweight = 1.0\n",
    "        self.era = era\n",
    "        self.isMC = isMC\n",
    "        self.sample = sample\n",
    "\n",
    "        #Set up for the histograms\n",
    "        self._accumulator = processor.dict_accumulator({\n",
    "            \"N_Muons\": hist.Hist(\n",
    "                \"Events\",\n",
    "                hist.Bin(\"NMuons\", \"Num Muons\", 10, 0, 10)\n",
    "            ),   \n",
    "            \"N_Electrons\": hist.Hist(\n",
    "                \"Events\",\n",
    "                hist.Bin(\"NElectrons\", \"Num Electrons\", 10, 0, 10)\n",
    "            ), \n",
    "        })\n",
    "\n",
    "    @property\n",
    "    def accumulator(self):\n",
    "        return self._accumulator\n",
    "    \n",
    "    def process(self, events):\n",
    "        output = self.accumulator.identity()\n",
    "        dataset = events.metadata['dataset']\n",
    "        Muons = ak.zip({\n",
    "              \"pt\": events.Muon.pt,\n",
    "              \"eta\": events.Muon.eta,\n",
    "              \"phi\": events.Muon.phi,\n",
    "              \"mass\": events.Muon.mass\n",
    "        }, with_name=\"Momentum4D\") \n",
    "        cut = (events.Muon.pt > 10) & \\\n",
    "            (abs(events.Muon.eta) <= 2.4) & \\\n",
    "            (events.Muon.mediumId == 1) \n",
    "        Muons = Muons[cut]\n",
    "        \n",
    "        output[\"N_Muons\"].fill(\n",
    "            NMuons = ak.num(Muons),\n",
    "        ) \n",
    "        \n",
    "        Electrons = ak.zip({\n",
    "               \"pt\": events.Electron.pt,\n",
    "               \"eta\": events.Electron.eta,\n",
    "               \"phi\": events.Electron.phi,\n",
    "               \"mass\": events.Electron.mass\n",
    "        }, with_name=\"Momentum4D\") \n",
    "        cut_ele = (events.Electron.pt > 10) & \\\n",
    "            (abs(events.Electron.eta) <= 2.4) & \\\n",
    "            (events.Electron.mvaFall17V2Iso_WP90 == 1) \n",
    "        Electrons = Electrons[cut_ele]\n",
    "        \n",
    "        output[\"N_Electrons\"].fill(\n",
    "            NElectrons = ak.num(Electrons),\n",
    "        ) \n",
    "        return output\n",
    "\n",
    "    def postprocess(self, accumulator):\n",
    "        return accumulator"
   ]
  },
  {
   "cell_type": "code",
   "execution_count": 3,
   "id": "a2ae7fe0-0bda-471a-b79b-cc6e25849edd",
   "metadata": {},
   "outputs": [],
   "source": [
    "def check_port(port):\n",
    "    import socket\n",
    "    sock = socket.socket(socket.AF_INET, socket.SOCK_STREAM)\n",
    "    try:\n",
    "        sock.bind((\"0.0.0.0\", port))\n",
    "        available = True\n",
    "    except:\n",
    "        available = False\n",
    "    sock.close()\n",
    "    return available"
   ]
  },
  {
   "cell_type": "markdown",
   "id": "a7f4b491-1ea5-4798-8186-8e184177ae20",
   "metadata": {},
   "source": [
    "The following section defines additional parts of the slurm Dask job. Here we source the bashrc to prepare Conda. We also pass in the x509 proxy. In order to share the proxy across the SubMIT machines you should move your proxy to your HOME directory."
   ]
  },
  {
   "cell_type": "code",
   "execution_count": 4,
   "id": "4a03cb39-ca96-48a9-ba57-c14bac3982f0",
   "metadata": {},
   "outputs": [],
   "source": [
    "slurm_env = [\n",
    "     'export XRD_RUNFORKHANDLER=1',\n",
    "     'export XRD_STREAMTIMEOUT=10',\n",
    "     f'source {os.environ[\"HOME\"]}/.bashrc',\n",
    "     f'conda activate dask',\n",
    "     f'export X509_USER_PROXY={os.environ[\"HOME\"]}/x509up_u206148'\n",
    "]\n",
    "\n",
    "extra_args=[\n",
    "     \"--output=dask_job_output_%j.out\",\n",
    "     \"--error=dask_job_output_%j.err\",\n",
    "     \"--partition=submit\",\n",
    "     \"--clusters=submit\",\n",
    "]"
   ]
  },
  {
   "cell_type": "code",
   "execution_count": 5,
   "id": "93adef70-3f14-4ace-bad2-6c5156f2d6c4",
   "metadata": {},
   "outputs": [],
   "source": [
    "n_port       = 6820\n",
    "w_port       = 9765\n",
    "cores        = 1\n",
    "processes    = 1\n",
    "memory       = \"5 GB\"\n",
    "chunksize    = 15000\n",
    "maxchunks    = None"
   ]
  },
  {
   "cell_type": "markdown",
   "id": "c66c9ee4-6c47-4931-8844-b0b89b2353d8",
   "metadata": {},
   "source": [
    "The following sets up the processor and json file. If you want to change files you can simply modify the json file"
   ]
  },
  {
   "cell_type": "code",
   "execution_count": 6,
   "id": "4d5cf7c3-16f8-403b-9445-d5afbb9accdc",
   "metadata": {},
   "outputs": [],
   "source": [
    "#Set up the processor\n",
    "processor_instance = Simple_Process(isMC=1, era='2018', sample='test')\n",
    "\n",
    "# load dataset\n",
    "with open(\"Rucio_JSON_Maker/sample.json\") as f:\n",
    "    sample_dict = json.load(f)\n",
    "for key in sample_dict.keys():\n",
    "    sample_dict[key] = sample_dict[key][:]"
   ]
  },
  {
   "cell_type": "markdown",
   "id": "7578929b-790e-409d-bfdb-9befceae8eb1",
   "metadata": {},
   "source": [
    "The next section forms the Slurm Cluster. You can set up various parameters of the cluster here."
   ]
  },
  {
   "cell_type": "code",
   "execution_count": 7,
   "id": "161ab5ca-0d06-4c30-96bb-24fa3915ce82",
   "metadata": {},
   "outputs": [
    {
     "name": "stderr",
     "output_type": "stream",
     "text": [
      "/work/submit/freerc/miniforge3/envs/dask/lib/python3.9/site-packages/distributed/node.py:177: UserWarning: Port 8000 is already in use.\n",
      "Perhaps you already have a cluster running?\n",
      "Hosting the HTTP server on port 14802 instead\n",
      "  warnings.warn(\n"
     ]
    }
   ],
   "source": [
    "if not check_port(n_port):\n",
    "    raise RuntimeError(\"Port '{}' is occupied on this node. Try another one.\".format(n_port))\n",
    "\n",
    "import socket\n",
    "cluster = SLURMCluster(\n",
    "        queue='all',\n",
    "        project=\"SUEP_Slurm\",\n",
    "        cores=cores,\n",
    "        processes=processes,\n",
    "        memory=memory,\n",
    "        #retries=10,\n",
    "        walltime='00:30:00',\n",
    "        scheduler_options={\n",
    "              'port': n_port,\n",
    "              'dashboard_address': 8000,\n",
    "              'host': socket.gethostname()\n",
    "        },\n",
    "        job_extra=extra_args,\n",
    "        env_extra=slurm_env,\n",
    ")"
   ]
  },
  {
   "cell_type": "code",
   "execution_count": 8,
   "id": "9298d20e-338a-489d-9e06-8f45d8fa3240",
   "metadata": {},
   "outputs": [
    {
     "name": "stdout",
     "output_type": "stream",
     "text": [
      "<Client: 'tcp://18.12.2.18:6820' processes=0 threads=0, memory=0 B>\n"
     ]
    }
   ],
   "source": [
    "cluster.adapt(minimum=1, maximum=250)\n",
    "client = Client(cluster)\n",
    "print(client)"
   ]
  },
  {
   "cell_type": "markdown",
   "id": "25cb8d52-2382-48f9-9da3-e7ed4fbd0532",
   "metadata": {},
   "source": [
    "# Running the processor\n",
    "Now we will run the code with a performance report. This will analyze all of the input ROOT files and will store the histograms in output. Then we can analyze the output and make plots."
   ]
  },
  {
   "cell_type": "code",
   "execution_count": 10,
   "id": "0d7312b5-e2da-4548-af9f-860e7646d63b",
   "metadata": {
    "tags": []
   },
   "outputs": [
    {
     "name": "stdout",
     "output_type": "stream",
     "text": [
      "[########################################] | 100% Completed |  1min 12.9s\r"
     ]
    }
   ],
   "source": [
    "with performance_report(filename=\"dask-report.html\"):\n",
    "    output = processor.run_uproot_job(sample_dict,\n",
    "             treename='Events',\n",
    "             processor_instance=processor_instance,\n",
    "             executor=processor.dask_executor,\n",
    "             executor_args={\n",
    "                           'client': client,\n",
    "                           #'skipbadfiles': skipbadfiles,\n",
    "                           'schema': processor.NanoAODSchema,\n",
    "                           'xrootdtimeout': 10,\n",
    "                           'retries': 3,\n",
    "                           },\n",
    "             chunksize=chunksize,\n",
    "             maxchunks=maxchunks)"
   ]
  },
  {
   "cell_type": "code",
   "execution_count": 10,
   "id": "2b330d1a-1607-4936-a71a-d16fa59b0244",
   "metadata": {},
   "outputs": [
    {
     "data": {
      "text/plain": [
       "<Hist (NMuons) instance at 0x7f66c4e3aac0>"
      ]
     },
     "execution_count": 10,
     "metadata": {},
     "output_type": "execute_result"
    }
   ],
   "source": [
    "output['N_Muons']"
   ]
  },
  {
   "cell_type": "code",
   "execution_count": 13,
   "id": "bbe2822f-d725-47f2-9d38-f6e2d5a0ceea",
   "metadata": {},
   "outputs": [
    {
     "name": "stderr",
     "output_type": "stream",
     "text": [
      "/home/submit/freerc/miniforge3/envs/dask/lib/python3.9/site-packages/numpy/core/_methods.py:44: RuntimeWarning: invalid value encountered in reduce\n",
      "  return umr_minimum(a, axis, None, out, keepdims, initial, where)\n",
      "/home/submit/freerc/miniforge3/envs/dask/lib/python3.9/site-packages/numpy/core/_methods.py:40: RuntimeWarning: invalid value encountered in reduce\n",
      "  return umr_maximum(a, axis, None, out, keepdims, initial, where)\n"
     ]
    },
    {
     "data": {
      "text/plain": [
       "<AxesSubplot:xlabel='Num Muons', ylabel='Events'>"
      ]
     },
     "execution_count": 13,
     "metadata": {},
     "output_type": "execute_result"
    },
    {
     "data": {
      "image/png": "[encoded data removed]",
      "text/plain": [
       "<Figure size 432x288 with 1 Axes>"
      ]
     },
     "metadata": {
      "needs_background": "light"
     },
     "output_type": "display_data"
    }
   ],
   "source": [
    "import mplhep as hep\n",
    "#import hist\n",
    "from coffea import hist\n",
    "\n",
    "# {\"ALICE\" | \"ATLAS\" | \"CMS\" | \"LHCb1\" | \"LHCb2\"}\n",
    "hep.cms.label(data=False, lumi=60, year=2018)\n",
    "\n",
    "import matplotlib.pyplot as plt\n",
    "hist.plot1d(output['N_Muons'])"
   ]
  },
  {
   "cell_type": "code",
   "execution_count": 14,
   "id": "0801beab-7cc9-465e-b177-8330359fafa9",
   "metadata": {},
   "outputs": [
    {
     "name": "stderr",
     "output_type": "stream",
     "text": [
      "/home/submit/freerc/miniforge3/envs/dask/lib/python3.9/site-packages/numpy/core/_methods.py:44: RuntimeWarning: invalid value encountered in reduce\n",
      "  return umr_minimum(a, axis, None, out, keepdims, initial, where)\n",
      "/home/submit/freerc/miniforge3/envs/dask/lib/python3.9/site-packages/numpy/core/_methods.py:40: RuntimeWarning: invalid value encountered in reduce\n",
      "  return umr_maximum(a, axis, None, out, keepdims, initial, where)\n"
     ]
    },
    {
     "data": {
      "text/plain": [
       "<AxesSubplot:xlabel='Num Electrons', ylabel='Events'>"
      ]
     },
     "execution_count": 14,
     "metadata": {},
     "output_type": "execute_result"
    },
    {
     "data": {
      "image/png": "[encoded data removed]",
      "text/plain": [
       "<Figure size 432x288 with 1 Axes>"
      ]
     },
     "metadata": {
      "needs_background": "light"
     },
     "output_type": "display_data"
    },
    {
     "name": "stderr",
     "output_type": "stream",
     "text": [
      "Remove worker <WorkerState 'tcp://18.12.2.9:40586', name: SLURMCluster-123, status: running, memory: 0, processing: 0>\n",
      "Lost all workers\n",
      "Register worker <WorkerState 'tcp://18.12.2.18:23426', name: SLURMCluster-123, status: undefined, memory: 0, processing: 0>\n",
      "Starting worker compute stream, tcp://18.12.2.18:23426\n"
     ]
    }
   ],
   "source": [
    "hep.cms.label(data=False, lumi=60, year=2018)\n",
    "hist.plot1d(output['N_Electrons'])"
   ]
  },
  {
   "cell_type": "code",
   "execution_count": null,
   "id": "20a9b88c-3816-412f-9417-3c305379090f",
   "metadata": {},
   "outputs": [],
   "source": []
  }
 ],
 "metadata": {
  "kernelspec": {
   "display_name": "dask",
   "language": "python",
   "name": "dask"
  },
  "language_info": {
   "codemirror_mode": {
    "name": "ipython",
    "version": 3
   },
   "file_extension": ".py",
   "mimetype": "text/x-python",
   "name": "python",
   "nbconvert_exporter": "python",
   "pygments_lexer": "ipython3",
   "version": "3.9.13"
  }
 },
 "nbformat": 4,
 "nbformat_minor": 5
}
