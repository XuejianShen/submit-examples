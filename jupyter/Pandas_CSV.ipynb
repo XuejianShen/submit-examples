{
 "cells": [
  {
   "cell_type": "markdown",
   "id": "f8dac45d-677c-46fb-ab71-e60ec932a982",
   "metadata": {},
   "source": [
    "# Code to read a CSV file into a Pandas DataFrame and basic operations\n",
    "\n",
    "This notebook will guide you through opening and reading a csv file and store the data into a pandas dataframe. The CSV is formed in the Uproot_Tree_Plotter tutorial but is no necessary to run through this tutorial"
   ]
  },
  {
   "cell_type": "code",
   "execution_count": 1,
   "id": "b7cc9b4b-0085-4bb4-9e02-642edc76221a",
   "metadata": {},
   "outputs": [],
   "source": [
    "import pandas as pd\n",
    "import numpy as np"
   ]
  },
  {
   "cell_type": "markdown",
   "id": "266dbead-d327-4561-967a-d226c959c796",
   "metadata": {},
   "source": [
    "We will read in the csv file into a pandas dataframe. The CSV is seprated by commas so we will use this delimter in order to read the file."
   ]
  },
  {
   "cell_type": "code",
   "execution_count": 4,
   "id": "490ede72-e0dc-4789-b381-9a65582f9e00",
   "metadata": {},
   "outputs": [],
   "source": [
    "df = pd.read_csv('Sample_data.csv', delimiter = ',')"
   ]
  },
  {
   "cell_type": "markdown",
   "id": "a0864ba2-f19b-4178-941d-7917be7de630",
   "metadata": {},
   "source": [
    "We now have our information stored into a dataframe. This dataframe contains information about the muons from the previous tutorial. Now we can use pandas to see what is in this collection and manipulate it."
   ]
  },
  {
   "cell_type": "code",
   "execution_count": 13,
   "id": "4a737fdb-6c83-4923-bd14-0aa16e6e47de",
   "metadata": {},
   "outputs": [
    {
     "data": {
      "text/html": [
       "<div>\n",
       "<style scoped>\n",
       "    .dataframe tbody tr th:only-of-type {\n",
       "        vertical-align: middle;\n",
       "    }\n",
       "\n",
       "    .dataframe tbody tr th {\n",
       "        vertical-align: top;\n",
       "    }\n",
       "\n",
       "    .dataframe thead th {\n",
       "        text-align: right;\n",
       "    }\n",
       "</style>\n",
       "<table border=\"1\" class=\"dataframe\">\n",
       "  <thead>\n",
       "    <tr style=\"text-align: right;\">\n",
       "      <th></th>\n",
       "      <th>entry</th>\n",
       "      <th>subentry</th>\n",
       "      <th>pt</th>\n",
       "      <th>eta</th>\n",
       "      <th>phi</th>\n",
       "      <th>mass</th>\n",
       "    </tr>\n",
       "  </thead>\n",
       "  <tbody>\n",
       "    <tr>\n",
       "      <th>0</th>\n",
       "      <td>0</td>\n",
       "      <td>0</td>\n",
       "      <td>41.156140</td>\n",
       "      <td>-0.454712</td>\n",
       "      <td>-2.491699</td>\n",
       "      <td>0.105713</td>\n",
       "    </tr>\n",
       "    <tr>\n",
       "      <th>1</th>\n",
       "      <td>0</td>\n",
       "      <td>1</td>\n",
       "      <td>40.389810</td>\n",
       "      <td>-0.233673</td>\n",
       "      <td>0.681396</td>\n",
       "      <td>0.105713</td>\n",
       "    </tr>\n",
       "    <tr>\n",
       "      <th>2</th>\n",
       "      <td>2</td>\n",
       "      <td>0</td>\n",
       "      <td>29.009573</td>\n",
       "      <td>1.445312</td>\n",
       "      <td>-2.372070</td>\n",
       "      <td>0.105713</td>\n",
       "    </tr>\n",
       "    <tr>\n",
       "      <th>3</th>\n",
       "      <td>2</td>\n",
       "      <td>1</td>\n",
       "      <td>14.167344</td>\n",
       "      <td>1.373779</td>\n",
       "      <td>1.144287</td>\n",
       "      <td>0.105713</td>\n",
       "    </tr>\n",
       "    <tr>\n",
       "      <th>4</th>\n",
       "      <td>4</td>\n",
       "      <td>0</td>\n",
       "      <td>93.018745</td>\n",
       "      <td>-0.760254</td>\n",
       "      <td>0.094955</td>\n",
       "      <td>0.105713</td>\n",
       "    </tr>\n",
       "    <tr>\n",
       "      <th>...</th>\n",
       "      <td>...</td>\n",
       "      <td>...</td>\n",
       "      <td>...</td>\n",
       "      <td>...</td>\n",
       "      <td>...</td>\n",
       "      <td>...</td>\n",
       "    </tr>\n",
       "    <tr>\n",
       "      <th>7005</th>\n",
       "      <td>13293</td>\n",
       "      <td>0</td>\n",
       "      <td>55.728530</td>\n",
       "      <td>1.270996</td>\n",
       "      <td>0.187378</td>\n",
       "      <td>0.105713</td>\n",
       "    </tr>\n",
       "    <tr>\n",
       "      <th>7006</th>\n",
       "      <td>13293</td>\n",
       "      <td>1</td>\n",
       "      <td>40.600178</td>\n",
       "      <td>0.774902</td>\n",
       "      <td>-1.062012</td>\n",
       "      <td>0.105713</td>\n",
       "    </tr>\n",
       "    <tr>\n",
       "      <th>7007</th>\n",
       "      <td>13296</td>\n",
       "      <td>0</td>\n",
       "      <td>55.219284</td>\n",
       "      <td>0.991577</td>\n",
       "      <td>1.410156</td>\n",
       "      <td>0.105713</td>\n",
       "    </tr>\n",
       "    <tr>\n",
       "      <th>7008</th>\n",
       "      <td>13296</td>\n",
       "      <td>1</td>\n",
       "      <td>45.488670</td>\n",
       "      <td>2.251953</td>\n",
       "      <td>2.749023</td>\n",
       "      <td>0.105713</td>\n",
       "    </tr>\n",
       "    <tr>\n",
       "      <th>7009</th>\n",
       "      <td>13298</td>\n",
       "      <td>0</td>\n",
       "      <td>51.894005</td>\n",
       "      <td>-1.284668</td>\n",
       "      <td>2.360840</td>\n",
       "      <td>0.105713</td>\n",
       "    </tr>\n",
       "  </tbody>\n",
       "</table>\n",
       "<p>7010 rows × 6 columns</p>\n",
       "</div>"
      ],
      "text/plain": [
       "      entry  subentry         pt       eta       phi      mass\n",
       "0         0         0  41.156140 -0.454712 -2.491699  0.105713\n",
       "1         0         1  40.389810 -0.233673  0.681396  0.105713\n",
       "2         2         0  29.009573  1.445312 -2.372070  0.105713\n",
       "3         2         1  14.167344  1.373779  1.144287  0.105713\n",
       "4         4         0  93.018745 -0.760254  0.094955  0.105713\n",
       "...     ...       ...        ...       ...       ...       ...\n",
       "7005  13293         0  55.728530  1.270996  0.187378  0.105713\n",
       "7006  13293         1  40.600178  0.774902 -1.062012  0.105713\n",
       "7007  13296         0  55.219284  0.991577  1.410156  0.105713\n",
       "7008  13296         1  45.488670  2.251953  2.749023  0.105713\n",
       "7009  13298         0  51.894005 -1.284668  2.360840  0.105713\n",
       "\n",
       "[7010 rows x 6 columns]"
      ]
     },
     "execution_count": 13,
     "metadata": {},
     "output_type": "execute_result"
    }
   ],
   "source": [
    "df"
   ]
  },
  {
   "cell_type": "code",
   "execution_count": 34,
   "id": "1ddb0018-7cb8-45b7-b05f-ed507a87e2cc",
   "metadata": {},
   "outputs": [
    {
     "data": {
      "text/plain": [
       "0       41.156140\n",
       "1       40.389810\n",
       "2       29.009573\n",
       "3       14.167344\n",
       "4       93.018745\n",
       "          ...    \n",
       "7005    55.728530\n",
       "7006    40.600178\n",
       "7007    55.219284\n",
       "7008    45.488670\n",
       "7009    51.894005\n",
       "Name: pt, Length: 7010, dtype: float64"
      ]
     },
     "execution_count": 34,
     "metadata": {},
     "output_type": "execute_result"
    }
   ],
   "source": [
    "df.pt"
   ]
  },
  {
   "cell_type": "markdown",
   "id": "440beb2d-9e9d-44cf-8758-5d70e551da6d",
   "metadata": {},
   "source": [
    "For this dataframe, each entry represents an event, while each subentry represents a muon in the event. Lets break this up to see it easier."
   ]
  },
  {
   "cell_type": "code",
   "execution_count": 37,
   "id": "57423aa5-af7c-4130-96bd-60c95a8a53cc",
   "metadata": {},
   "outputs": [],
   "source": [
    "df.set_index(['entry','subentry',df.index], inplace=True)"
   ]
  },
  {
   "cell_type": "code",
   "execution_count": 38,
   "id": "5653146a-3edf-437d-b5ec-1b219e86f432",
   "metadata": {},
   "outputs": [
    {
     "data": {
      "text/html": [
       "<div>\n",
       "<style scoped>\n",
       "    .dataframe tbody tr th:only-of-type {\n",
       "        vertical-align: middle;\n",
       "    }\n",
       "\n",
       "    .dataframe tbody tr th {\n",
       "        vertical-align: top;\n",
       "    }\n",
       "\n",
       "    .dataframe thead th {\n",
       "        text-align: right;\n",
       "    }\n",
       "</style>\n",
       "<table border=\"1\" class=\"dataframe\">\n",
       "  <thead>\n",
       "    <tr style=\"text-align: right;\">\n",
       "      <th></th>\n",
       "      <th></th>\n",
       "      <th></th>\n",
       "      <th>pt</th>\n",
       "      <th>eta</th>\n",
       "      <th>phi</th>\n",
       "      <th>mass</th>\n",
       "    </tr>\n",
       "    <tr>\n",
       "      <th>entry</th>\n",
       "      <th>subentry</th>\n",
       "      <th></th>\n",
       "      <th></th>\n",
       "      <th></th>\n",
       "      <th></th>\n",
       "      <th></th>\n",
       "    </tr>\n",
       "  </thead>\n",
       "  <tbody>\n",
       "    <tr>\n",
       "      <th rowspan=\"2\" valign=\"top\">0</th>\n",
       "      <th>0</th>\n",
       "      <th>0</th>\n",
       "      <td>41.156140</td>\n",
       "      <td>-0.454712</td>\n",
       "      <td>-2.491699</td>\n",
       "      <td>0.105713</td>\n",
       "    </tr>\n",
       "    <tr>\n",
       "      <th>1</th>\n",
       "      <th>1</th>\n",
       "      <td>40.389810</td>\n",
       "      <td>-0.233673</td>\n",
       "      <td>0.681396</td>\n",
       "      <td>0.105713</td>\n",
       "    </tr>\n",
       "    <tr>\n",
       "      <th rowspan=\"2\" valign=\"top\">2</th>\n",
       "      <th>0</th>\n",
       "      <th>2</th>\n",
       "      <td>29.009573</td>\n",
       "      <td>1.445312</td>\n",
       "      <td>-2.372070</td>\n",
       "      <td>0.105713</td>\n",
       "    </tr>\n",
       "    <tr>\n",
       "      <th>1</th>\n",
       "      <th>3</th>\n",
       "      <td>14.167344</td>\n",
       "      <td>1.373779</td>\n",
       "      <td>1.144287</td>\n",
       "      <td>0.105713</td>\n",
       "    </tr>\n",
       "    <tr>\n",
       "      <th>4</th>\n",
       "      <th>0</th>\n",
       "      <th>4</th>\n",
       "      <td>93.018745</td>\n",
       "      <td>-0.760254</td>\n",
       "      <td>0.094955</td>\n",
       "      <td>0.105713</td>\n",
       "    </tr>\n",
       "    <tr>\n",
       "      <th>...</th>\n",
       "      <th>...</th>\n",
       "      <th>...</th>\n",
       "      <td>...</td>\n",
       "      <td>...</td>\n",
       "      <td>...</td>\n",
       "      <td>...</td>\n",
       "    </tr>\n",
       "    <tr>\n",
       "      <th rowspan=\"2\" valign=\"top\">13293</th>\n",
       "      <th>0</th>\n",
       "      <th>7005</th>\n",
       "      <td>55.728530</td>\n",
       "      <td>1.270996</td>\n",
       "      <td>0.187378</td>\n",
       "      <td>0.105713</td>\n",
       "    </tr>\n",
       "    <tr>\n",
       "      <th>1</th>\n",
       "      <th>7006</th>\n",
       "      <td>40.600178</td>\n",
       "      <td>0.774902</td>\n",
       "      <td>-1.062012</td>\n",
       "      <td>0.105713</td>\n",
       "    </tr>\n",
       "    <tr>\n",
       "      <th rowspan=\"2\" valign=\"top\">13296</th>\n",
       "      <th>0</th>\n",
       "      <th>7007</th>\n",
       "      <td>55.219284</td>\n",
       "      <td>0.991577</td>\n",
       "      <td>1.410156</td>\n",
       "      <td>0.105713</td>\n",
       "    </tr>\n",
       "    <tr>\n",
       "      <th>1</th>\n",
       "      <th>7008</th>\n",
       "      <td>45.488670</td>\n",
       "      <td>2.251953</td>\n",
       "      <td>2.749023</td>\n",
       "      <td>0.105713</td>\n",
       "    </tr>\n",
       "    <tr>\n",
       "      <th>13298</th>\n",
       "      <th>0</th>\n",
       "      <th>7009</th>\n",
       "      <td>51.894005</td>\n",
       "      <td>-1.284668</td>\n",
       "      <td>2.360840</td>\n",
       "      <td>0.105713</td>\n",
       "    </tr>\n",
       "  </tbody>\n",
       "</table>\n",
       "<p>7010 rows × 4 columns</p>\n",
       "</div>"
      ],
      "text/plain": [
       "                            pt       eta       phi      mass\n",
       "entry subentry                                              \n",
       "0     0        0     41.156140 -0.454712 -2.491699  0.105713\n",
       "      1        1     40.389810 -0.233673  0.681396  0.105713\n",
       "2     0        2     29.009573  1.445312 -2.372070  0.105713\n",
       "      1        3     14.167344  1.373779  1.144287  0.105713\n",
       "4     0        4     93.018745 -0.760254  0.094955  0.105713\n",
       "...                        ...       ...       ...       ...\n",
       "13293 0        7005  55.728530  1.270996  0.187378  0.105713\n",
       "      1        7006  40.600178  0.774902 -1.062012  0.105713\n",
       "13296 0        7007  55.219284  0.991577  1.410156  0.105713\n",
       "      1        7008  45.488670  2.251953  2.749023  0.105713\n",
       "13298 0        7009  51.894005 -1.284668  2.360840  0.105713\n",
       "\n",
       "[7010 rows x 4 columns]"
      ]
     },
     "execution_count": 38,
     "metadata": {},
     "output_type": "execute_result"
    }
   ],
   "source": [
    "df"
   ]
  },
  {
   "cell_type": "markdown",
   "id": "b4b869d5-b28d-4c3e-963c-f0b82b39c568",
   "metadata": {},
   "source": [
    "Now that we have changed this to a MultiIndex we can grab some useful information by taking advantage of the subentries. Lets take a look at the first 2 muons in terms of the pt. We can plot those quantities quickly with boost histogram using mpl-hep for style."
   ]
  },
  {
   "cell_type": "code",
   "execution_count": 46,
   "id": "1c776ffa-eeec-4e0a-a36f-a79bf53f9d3f",
   "metadata": {},
   "outputs": [],
   "source": [
    "Leading_pt = df.pt.xs(0, level='subentry')\n",
    "Trailing_pt = df.pt.xs(1, level='subentry')"
   ]
  },
  {
   "cell_type": "code",
   "execution_count": 47,
   "id": "3543ef76-a2cb-4caf-b043-b3b5e954933f",
   "metadata": {},
   "outputs": [
    {
     "data": {
      "text/plain": [
       "entry      \n",
       "0      0       41.156140\n",
       "2      2       29.009573\n",
       "4      4       93.018745\n",
       "9      6       35.238907\n",
       "11     7       27.201418\n",
       "                 ...    \n",
       "13288  7001    39.552364\n",
       "13292  7003    48.596127\n",
       "13293  7005    55.728530\n",
       "13296  7007    55.219284\n",
       "13298  7009    51.894005\n",
       "Name: pt, Length: 4381, dtype: float64"
      ]
     },
     "execution_count": 47,
     "metadata": {},
     "output_type": "execute_result"
    }
   ],
   "source": [
    "Leading_pt"
   ]
  },
  {
   "cell_type": "code",
   "execution_count": 58,
   "id": "4f51964c-a27c-4743-a707-f83aa505d249",
   "metadata": {},
   "outputs": [
    {
     "name": "stderr",
     "output_type": "stream",
     "text": [
      "/home/submit/freerc/miniforge3/envs/notebook/lib/python3.8/site-packages/hist/__init__.py:52: UserWarning: Misspelling error, 'axes' should be 'axis'\n",
      "  warnings.warn(msg)\n",
      "/home/submit/freerc/miniforge3/envs/notebook/lib/python3.8/site-packages/hist/__init__.py:52: UserWarning: Misspelling error, 'axes' should be 'axis'\n",
      "  warnings.warn(msg)\n"
     ]
    },
    {
     "data": {
      "text/plain": [
       "[StairsArtists(stairs=<matplotlib.patches.StepPatch object at 0x7f9d38994e20>, errorbar=<ErrorbarContainer object of 3 artists>, legend_artist=<ErrorbarContainer object of 3 artists>)]"
      ]
     },
     "execution_count": 58,
     "metadata": {},
     "output_type": "execute_result"
    },
    {
     "data": {
      "image/png": "[encoded data removed]",
      "text/plain": [
       "<Figure size 1200x900 with 1 Axes>"
      ]
     },
     "metadata": {},
     "output_type": "display_data"
    }
   ],
   "source": [
    "import mplhep as hep\n",
    "import hist\n",
    "\n",
    "#hep.cms.label(data=False, year='2018')\n",
    "hep.style.use(\"LHCb1\")\n",
    "# {\"ALICE\" | \"ATLAS\" | \"CMS\" | \"LHCb1\" | \"LHCb2\"}\n",
    "\n",
    "hpt = hist.Hist(hist.axes.Regular(25,0,100,name=\"Muon_pt\"))\n",
    "hpt.fill(Muon_pt=Leading_pt)\n",
    "hpt.plot()\n",
    "hpt2 = hist.Hist(hist.axes.Regular(25,0,100,name=\"Muon_pt\"))\n",
    "hpt2.fill(Muon_pt=Trailing_pt)\n",
    "hpt2.plot()"
   ]
  },
  {
   "cell_type": "code",
   "execution_count": null,
   "id": "6d15ae72-44a6-4b04-b08f-fd07a0dfec1f",
   "metadata": {},
   "outputs": [],
   "source": []
  }
 ],
 "metadata": {
  "kernelspec": {
   "display_name": "notebook",
   "language": "python",
   "name": "notebook"
  },
  "language_info": {
   "codemirror_mode": {
    "name": "ipython",
    "version": 3
   },
   "file_extension": ".py",
   "mimetype": "text/x-python",
   "name": "python",
   "nbconvert_exporter": "python",
   "pygments_lexer": "ipython3",
   "version": "3.8.12"
  }
 },
 "nbformat": 4,
 "nbformat_minor": 5
}
