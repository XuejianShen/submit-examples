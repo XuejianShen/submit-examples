{
 "cells": [
  {
   "cell_type": "markdown",
   "id": "89478bce-c68d-4738-b62d-b288e49503ba",
   "metadata": {},
   "source": [
    "# Dask through Jupyter Notebooks"
   ]
  },
  {
   "cell_type": "markdown",
   "id": "0a66b82e-fde3-4595-b4f9-24e25e6ae57d",
   "metadata": {},
   "source": [
    "This notebook will guide you through using Dask to analyze NanoAOD root files using a Slurm Cluster on SubMIT. This notebook utilizes a conda environment and then exports that environment in the slurm jobs. Follow the README for instructions on the conda environment. "
   ]
  },
  {
   "cell_type": "code",
   "execution_count": 1,
   "id": "36c07901-136b-4e4e-9146-33a52a8d671e",
   "metadata": {
    "collapsed": true,
    "jupyter": {
     "outputs_hidden": true
    },
    "tags": []
   },
   "outputs": [
    {
     "name": "stderr",
     "output_type": "stream",
     "text": [
      "/home/submit/freerc/miniforge3/envs/dask/lib/python3.9/site-packages/dask_jobqueue/core.py:20: FutureWarning: tmpfile is deprecated and will be removed in a future release. Please use dask.utils.tmpfile instead.\n",
      "  from distributed.utils import tmpfile\n"
     ]
    }
   ],
   "source": [
    "import os\n",
    "import sys\n",
    "import json\n",
    "import time\n",
    "import random\n",
    "import numpy as np\n",
    "from coffea import hist, processor\n",
    "\n",
    "from dask_jobqueue import SLURMCluster\n",
    "from distributed import Client\n",
    "from dask.distributed import performance_report"
   ]
  },
  {
   "cell_type": "markdown",
   "id": "c841c2aa-987c-4a20-8911-a8923f3d36f1",
   "metadata": {},
   "source": [
    "We set up a coffea ABC Processor to analyze the ROOT files. Here we grab the Muon and Electron collection and add some simple selections using awkward."
   ]
  },
  {
   "cell_type": "code",
   "execution_count": 2,
   "id": "768afee5-9257-4b71-a695-40c32101a1a1",
   "metadata": {},
   "outputs": [],
   "source": [
    "import awkward as ak\n",
    "import vector\n",
    "vector.register_awkward()\n",
    "\n",
    "class Simple_Process(processor.ProcessorABC):\n",
    "    def __init__(self, isMC: int, era: int, sample: str) -> None:\n",
    "        self.gensumweight = 1.0\n",
    "        self.era = era\n",
    "        self.isMC = isMC\n",
    "        self.sample = sample\n",
    "\n",
    "        #Set up for the histograms\n",
    "        self._accumulator = processor.dict_accumulator({\n",
    "            \"N_Muons\": hist.Hist(\n",
    "                \"Events\",\n",
    "                hist.Bin(\"NMuons\", \"Num Muons\", 10, 0, 10)\n",
    "            ),   \n",
    "            \"N_Electrons\": hist.Hist(\n",
    "                \"Events\",\n",
    "                hist.Bin(\"NElectrons\", \"Num Electrons\", 10, 0, 10)\n",
    "            ), \n",
    "        })\n",
    "\n",
    "    @property\n",
    "    def accumulator(self):\n",
    "        return self._accumulator\n",
    "    \n",
    "    def process(self, events):\n",
    "        output = self.accumulator.identity()\n",
    "        dataset = events.metadata['dataset']\n",
    "        Muons = ak.zip({\n",
    "              \"pt\": events.Muon.pt,\n",
    "              \"eta\": events.Muon.eta,\n",
    "              \"phi\": events.Muon.phi,\n",
    "              \"mass\": events.Muon.mass\n",
    "        }, with_name=\"Momentum4D\") \n",
    "        cut = (events.Muon.pt > 10) & \\\n",
    "            (abs(events.Muon.eta) <= 2.4) & \\\n",
    "            (events.Muon.mediumId == 1) \n",
    "        Muons = Muons[cut]\n",
    "        \n",
    "        output[\"N_Muons\"].fill(\n",
    "            NMuons = ak.num(Muons),\n",
    "        ) \n",
    "        \n",
    "        Electrons = ak.zip({\n",
    "               \"pt\": events.Electron.pt,\n",
    "               \"eta\": events.Electron.eta,\n",
    "               \"phi\": events.Electron.phi,\n",
    "               \"mass\": events.Electron.mass\n",
    "        }, with_name=\"Momentum4D\") \n",
    "        cut_ele = (events.Electron.pt > 10) & \\\n",
    "            (abs(events.Electron.eta) <= 2.4) & \\\n",
    "            (events.Electron.mvaFall17V2Iso_WP90 == 1) \n",
    "        Electrons = Electrons[cut_ele]\n",
    "        \n",
    "        output[\"N_Electrons\"].fill(\n",
    "            NElectrons = ak.num(Electrons),\n",
    "        ) \n",
    "        return output\n",
    "\n",
    "    def postprocess(self, accumulator):\n",
    "        return accumulator"
   ]
  },
  {
   "cell_type": "code",
   "execution_count": 3,
   "id": "a2ae7fe0-0bda-471a-b79b-cc6e25849edd",
   "metadata": {},
   "outputs": [],
   "source": [
    "def check_port(port):\n",
    "    import socket\n",
    "    sock = socket.socket(socket.AF_INET, socket.SOCK_STREAM)\n",
    "    try:\n",
    "        sock.bind((\"0.0.0.0\", port))\n",
    "        available = True\n",
    "    except:\n",
    "        available = False\n",
    "    sock.close()\n",
    "    return available"
   ]
  },
  {
   "cell_type": "markdown",
   "id": "a7f4b491-1ea5-4798-8186-8e184177ae20",
   "metadata": {},
   "source": [
    "The following section defines additional parts of the slurm Dask job. Here we source the bashrc to prepare Conda. We also pass in the x509 proxy. In order to share the proxy across the SubMIT machines you should move your proxy to your HOME directory."
   ]
  },
  {
   "cell_type": "code",
   "execution_count": 4,
   "id": "4a03cb39-ca96-48a9-ba57-c14bac3982f0",
   "metadata": {},
   "outputs": [],
   "source": [
    "slurm_env = [\n",
    "     'export XRD_RUNFORKHANDLER=1',\n",
    "     'export XRD_STREAMTIMEOUT=10',\n",
    "     f'source {os.environ[\"HOME\"]}/.bashrc',\n",
    "     f'conda activate dask',\n",
    "     f'export X509_USER_PROXY={os.environ[\"HOME\"]}/x509up_u206148'\n",
    "]\n",
    "\n",
    "extra_args=[\n",
    "     \"--output=dask_job_output_%j.out\",\n",
    "     \"--error=dask_job_output_%j.err\",\n",
    "     \"--partition=submit\",\n",
    "     \"--clusters=submit\",\n",
    "]"
   ]
  },
  {
   "cell_type": "code",
   "execution_count": 5,
   "id": "93adef70-3f14-4ace-bad2-6c5156f2d6c4",
   "metadata": {},
   "outputs": [],
   "source": [
    "n_port       = 6820\n",
    "w_port       = 9765\n",
    "cores        = 1\n",
    "processes    = 1\n",
    "memory       = \"5 GB\"\n",
    "chunksize    = 15000\n",
    "maxchunks    = None"
   ]
  },
  {
   "cell_type": "markdown",
   "id": "c66c9ee4-6c47-4931-8844-b0b89b2353d8",
   "metadata": {},
   "source": [
    "The following sets up the processor and json file. If you want to change files you can simply modify the json file"
   ]
  },
  {
   "cell_type": "code",
   "execution_count": 6,
   "id": "4d5cf7c3-16f8-403b-9445-d5afbb9accdc",
   "metadata": {},
   "outputs": [],
   "source": [
    "#Set up the processor\n",
    "processor_instance = Simple_Process(isMC=1, era='2018', sample='test')\n",
    "\n",
    "# load dataset\n",
    "with open(\"samples.json\") as f:\n",
    "    sample_dict = json.load(f)\n",
    "for key in sample_dict.keys():\n",
    "    sample_dict[key] = sample_dict[key][:]"
   ]
  },
  {
   "cell_type": "markdown",
   "id": "7578929b-790e-409d-bfdb-9befceae8eb1",
   "metadata": {},
   "source": [
    "The next section forms the Slurm Cluster. You can set up various parameters of the cluster here."
   ]
  },
  {
   "cell_type": "code",
   "execution_count": 7,
   "id": "161ab5ca-0d06-4c30-96bb-24fa3915ce82",
   "metadata": {},
   "outputs": [
    {
     "name": "stderr",
     "output_type": "stream",
     "text": [
      "/home/submit/freerc/miniforge3/envs/dask/lib/python3.9/site-packages/distributed/node.py:160: UserWarning: Port 8000 is already in use.\n",
      "Perhaps you already have a cluster running?\n",
      "Hosting the HTTP server on port 5435 instead\n",
      "  warnings.warn(\n",
      "WARNING:bokeh.server.util:Host wildcard '*' will allow connections originating from multiple (or possibly all) hostnames or IPs. Use non-wildcard values to restrict access explicitly\n",
      "Clear task state\n",
      "  Scheduler at:     tcp://18.12.2.18:6820\n",
      "  dashboard at:           18.12.2.18:5435\n"
     ]
    }
   ],
   "source": [
    "if not check_port(n_port):\n",
    "    raise RuntimeError(\"Port '{}' is occupied on this node. Try another one.\".format(n_port))\n",
    "\n",
    "import socket\n",
    "cluster = SLURMCluster(\n",
    "        queue='all',\n",
    "        project=\"SUEP_Slurm\",\n",
    "        cores=cores,\n",
    "        processes=processes,\n",
    "        memory=memory,\n",
    "        #retries=10,\n",
    "        walltime='00:30:00',\n",
    "        scheduler_options={\n",
    "              'port': n_port,\n",
    "              'dashboard_address': 8000,\n",
    "              'host': socket.gethostname()\n",
    "        },\n",
    "        job_extra=extra_args,\n",
    "        env_extra=slurm_env,\n",
    ")"
   ]
  },
  {
   "cell_type": "code",
   "execution_count": 8,
   "id": "9298d20e-338a-489d-9e06-8f45d8fa3240",
   "metadata": {},
   "outputs": [
    {
     "name": "stderr",
     "output_type": "stream",
     "text": [
      "Receive client connection: Client-71e593b4-820c-11ec-ab4e-000af7bd3c78\n"
     ]
    },
    {
     "name": "stdout",
     "output_type": "stream",
     "text": [
      "<Client: 'tcp://18.12.2.18:6820' processes=0 threads=0, memory=0 B>\n"
     ]
    }
   ],
   "source": [
    "cluster.adapt(minimum=1, maximum=250)\n",
    "client = Client(cluster)\n",
    "print(client)"
   ]
  },
  {
   "cell_type": "markdown",
   "id": "25cb8d52-2382-48f9-9da3-e7ed4fbd0532",
   "metadata": {},
   "source": [
    "# Running the processor\n",
    "Now we will run the code with a performance report. This will analyze all of the input ROOT files and will store the histograms in output. Then we can analyze the output and make plots."
   ]
  },
  {
   "cell_type": "code",
   "execution_count": 9,
   "id": "0d7312b5-e2da-4548-af9f-860e7646d63b",
   "metadata": {
    "collapsed": true,
    "jupyter": {
     "outputs_hidden": true
    },
    "tags": []
   },
   "outputs": [
    {
     "name": "stderr",
     "output_type": "stream",
     "text": [
      "Run out-of-band function 'lambda'\n"
     ]
    },
    {
     "name": "stdout",
     "output_type": "stream",
     "text": [
      "[                                        ] | 0% Completed |  3.1s"
     ]
    },
    {
     "name": "stderr",
     "output_type": "stream",
     "text": [
      "Register worker <WorkerState 'tcp://18.12.2.18:6306', name: SLURMCluster-0, status: undefined, memory: 0, processing: 0>\n",
      "Starting worker compute stream, tcp://18.12.2.18:6306\n"
     ]
    },
    {
     "name": "stdout",
     "output_type": "stream",
     "text": [
      "[###                                     ] | 7% Completed |  7.1s"
     ]
    },
    {
     "name": "stderr",
     "output_type": "stream",
     "text": [
      "Register worker <WorkerState 'tcp://18.12.2.18:7028', name: SLURMCluster-1, status: undefined, memory: 0, processing: 0>\n",
      "Starting worker compute stream, tcp://18.12.2.18:7028\n"
     ]
    },
    {
     "name": "stdout",
     "output_type": "stream",
     "text": [
      "[###                                     ] | 7% Completed | 10.1s"
     ]
    },
    {
     "name": "stderr",
     "output_type": "stream",
     "text": [
      "Register worker <WorkerState 'tcp://18.12.2.18:15690', name: SLURMCluster-2, status: undefined, memory: 0, processing: 0>\n",
      "Starting worker compute stream, tcp://18.12.2.18:15690\n"
     ]
    },
    {
     "name": "stdout",
     "output_type": "stream",
     "text": [
      "[###                                     ] | 7% Completed | 10.2s"
     ]
    },
    {
     "name": "stderr",
     "output_type": "stream",
     "text": [
      "Register worker <WorkerState 'tcp://18.12.2.18:12208', name: SLURMCluster-3, status: undefined, memory: 0, processing: 0>\n",
      "Starting worker compute stream, tcp://18.12.2.18:12208\n",
      "Register worker <WorkerState 'tcp://18.12.2.18:2450', name: SLURMCluster-6, status: undefined, memory: 0, processing: 0>\n",
      "Starting worker compute stream, tcp://18.12.2.18:2450\n",
      "Register worker <WorkerState 'tcp://18.12.2.18:4695', name: SLURMCluster-4, status: undefined, memory: 0, processing: 0>\n",
      "Starting worker compute stream, tcp://18.12.2.18:4695\n",
      "Register worker <WorkerState 'tcp://18.12.2.18:26626', name: SLURMCluster-5, status: undefined, memory: 0, processing: 0>\n",
      "Starting worker compute stream, tcp://18.12.2.18:26626\n"
     ]
    },
    {
     "name": "stdout",
     "output_type": "stream",
     "text": [
      "[###############                         ] | 38% Completed | 16.1s"
     ]
    },
    {
     "name": "stderr",
     "output_type": "stream",
     "text": [
      "Retire worker names ('SLURMCluster-6', 'SLURMCluster-3', 'SLURMCluster-4', 'SLURMCluster-2')\n",
      "Retire workers {<WorkerState 'tcp://18.12.2.18:2450', name: SLURMCluster-6, status: running, memory: 0, processing: 0>, <WorkerState 'tcp://18.12.2.18:15690', name: SLURMCluster-2, status: running, memory: 1, processing: 0>, <WorkerState 'tcp://18.12.2.18:12208', name: SLURMCluster-3, status: running, memory: 0, processing: 0>, <WorkerState 'tcp://18.12.2.18:4695', name: SLURMCluster-4, status: running, memory: 1, processing: 0>}\n",
      "Moving 2 keys to other workers\n"
     ]
    },
    {
     "name": "stdout",
     "output_type": "stream",
     "text": [
      "[###############                         ] | 38% Completed | 22.5s"
     ]
    },
    {
     "name": "stderr",
     "output_type": "stream",
     "text": [
      "Closing worker tcp://18.12.2.18:2450\n",
      "Remove worker <WorkerState 'tcp://18.12.2.18:2450', name: SLURMCluster-6, status: running, memory: 0, processing: 1>\n",
      "Closing worker tcp://18.12.2.18:15690\n",
      "Remove worker <WorkerState 'tcp://18.12.2.18:15690', name: SLURMCluster-2, status: running, memory: 1, processing: 1>\n",
      "Closing worker tcp://18.12.2.18:12208\n",
      "Remove worker <WorkerState 'tcp://18.12.2.18:12208', name: SLURMCluster-3, status: running, memory: 0, processing: 2>\n",
      "Closing worker tcp://18.12.2.18:4695\n",
      "Remove worker <WorkerState 'tcp://18.12.2.18:4695', name: SLURMCluster-4, status: running, memory: 1, processing: 2>\n"
     ]
    },
    {
     "name": "stdout",
     "output_type": "stream",
     "text": [
      "[########################                ] | 61% Completed | 28.0s"
     ]
    },
    {
     "name": "stderr",
     "output_type": "stream",
     "text": [
      "Register worker <WorkerState 'tcp://18.12.2.2:41489', name: SLURMCluster-8, status: undefined, memory: 0, processing: 0>\n",
      "Starting worker compute stream, tcp://18.12.2.2:41489\n",
      "Register worker <WorkerState 'tcp://18.12.2.2:36340', name: SLURMCluster-7, status: undefined, memory: 0, processing: 0>\n",
      "Starting worker compute stream, tcp://18.12.2.2:36340\n",
      "Register worker <WorkerState 'tcp://18.12.2.2:45503', name: SLURMCluster-6, status: undefined, memory: 0, processing: 0>\n",
      "Starting worker compute stream, tcp://18.12.2.2:45503\n"
     ]
    },
    {
     "name": "stdout",
     "output_type": "stream",
     "text": [
      "[########################                ] | 61% Completed | 28.1s"
     ]
    },
    {
     "name": "stderr",
     "output_type": "stream",
     "text": [
      "Retire worker names ('SLURMCluster-6', 'SLURMCluster-8')\n",
      "Retire workers {<WorkerState 'tcp://18.12.2.2:45503', name: SLURMCluster-6, status: running, memory: 0, processing: 0>, <WorkerState 'tcp://18.12.2.2:41489', name: SLURMCluster-8, status: running, memory: 0, processing: 0>}\n",
      "Closing worker tcp://18.12.2.2:45503\n",
      "Remove worker <WorkerState 'tcp://18.12.2.2:45503', name: SLURMCluster-6, status: running, memory: 0, processing: 0>\n",
      "Closing worker tcp://18.12.2.2:41489\n",
      "Remove worker <WorkerState 'tcp://18.12.2.2:41489', name: SLURMCluster-8, status: running, memory: 0, processing: 0>\n"
     ]
    },
    {
     "name": "stdout",
     "output_type": "stream",
     "text": [
      "[##############################          ] | 76% Completed | 34.1s"
     ]
    },
    {
     "name": "stderr",
     "output_type": "stream",
     "text": [
      "Retire worker names ('SLURMCluster-5',)\n",
      "Retire workers {<WorkerState 'tcp://18.12.2.18:26626', name: SLURMCluster-5, status: running, memory: 2, processing: 0>}\n",
      "Moving 2 keys to other workers\n",
      "Closing worker tcp://18.12.2.18:26626\n",
      "Remove worker <WorkerState 'tcp://18.12.2.18:26626', name: SLURMCluster-5, status: running, memory: 2, processing: 0>\n"
     ]
    },
    {
     "name": "stdout",
     "output_type": "stream",
     "text": [
      "[##############################          ] | 76% Completed | 35.1s"
     ]
    },
    {
     "name": "stderr",
     "output_type": "stream",
     "text": [
      "Retire worker names ('SLURMCluster-7',)\n",
      "Retire workers {<WorkerState 'tcp://18.12.2.2:36340', name: SLURMCluster-7, status: running, memory: 1, processing: 0>}\n",
      "Moving 1 keys to other workers\n",
      "Closing worker tcp://18.12.2.2:36340\n",
      "Remove worker <WorkerState 'tcp://18.12.2.2:36340', name: SLURMCluster-7, status: running, memory: 1, processing: 0>\n"
     ]
    },
    {
     "name": "stdout",
     "output_type": "stream",
     "text": [
      "[#################################       ] | 84% Completed | 38.0s"
     ]
    },
    {
     "name": "stderr",
     "output_type": "stream",
     "text": [
      "Retire worker names ('SLURMCluster-1',)\n",
      "Retire workers {<WorkerState 'tcp://18.12.2.18:7028', name: SLURMCluster-1, status: running, memory: 5, processing: 0>}\n",
      "Moving 5 keys to other workers\n",
      "Closing worker tcp://18.12.2.18:7028\n"
     ]
    },
    {
     "name": "stdout",
     "output_type": "stream",
     "text": [
      "[#################################       ] | 84% Completed | 38.1s"
     ]
    },
    {
     "name": "stderr",
     "output_type": "stream",
     "text": [
      "Remove worker <WorkerState 'tcp://18.12.2.18:7028', name: SLURMCluster-1, status: running, memory: 5, processing: 0>\n"
     ]
    },
    {
     "name": "stdout",
     "output_type": "stream",
     "text": [
      "[                                        ] | 1% Completed |  3.5s9s"
     ]
    },
    {
     "name": "stderr",
     "output_type": "stream",
     "text": [
      "Register worker <WorkerState 'tcp://18.12.2.18:12165', name: SLURMCluster-12, status: undefined, memory: 0, processing: 0>\n",
      "Starting worker compute stream, tcp://18.12.2.18:12165\n",
      "Register worker <WorkerState 'tcp://18.12.2.18:24056', name: SLURMCluster-9, status: undefined, memory: 0, processing: 0>\n",
      "Starting worker compute stream, tcp://18.12.2.18:24056\n",
      "Register worker <WorkerState 'tcp://18.12.2.18:15219', name: SLURMCluster-11, status: undefined, memory: 0, processing: 0>\n",
      "Starting worker compute stream, tcp://18.12.2.18:15219\n",
      "Register worker <WorkerState 'tcp://18.12.2.18:19172', name: SLURMCluster-13, status: undefined, memory: 0, processing: 0>\n",
      "Starting worker compute stream, tcp://18.12.2.18:19172\n",
      "Register worker <WorkerState 'tcp://18.12.2.18:2075', name: SLURMCluster-10, status: undefined, memory: 0, processing: 0>\n",
      "Starting worker compute stream, tcp://18.12.2.18:2075\n",
      "Register worker <WorkerState 'tcp://18.12.2.18:3510', name: SLURMCluster-8, status: undefined, memory: 0, processing: 0>\n",
      "Starting worker compute stream, tcp://18.12.2.18:3510\n"
     ]
    },
    {
     "name": "stdout",
     "output_type": "stream",
     "text": [
      "[                                        ] | 1% Completed |  6.5s"
     ]
    },
    {
     "name": "stderr",
     "output_type": "stream",
     "text": [
      "Register worker <WorkerState 'tcp://18.12.2.18:28893', name: SLURMCluster-14, status: undefined, memory: 0, processing: 0>\n",
      "Starting worker compute stream, tcp://18.12.2.18:28893\n"
     ]
    },
    {
     "name": "stdout",
     "output_type": "stream",
     "text": [
      "[                                        ] | 1% Completed |  9.5s"
     ]
    },
    {
     "name": "stderr",
     "output_type": "stream",
     "text": [
      "Register worker <WorkerState 'tcp://18.12.2.18:27189', name: SLURMCluster-17, status: undefined, memory: 0, processing: 0>\n",
      "Starting worker compute stream, tcp://18.12.2.18:27189\n"
     ]
    },
    {
     "name": "stdout",
     "output_type": "stream",
     "text": [
      "[                                        ] | 1% Completed |  9.6s"
     ]
    },
    {
     "name": "stderr",
     "output_type": "stream",
     "text": [
      "Register worker <WorkerState 'tcp://18.12.2.18:26134', name: SLURMCluster-15, status: undefined, memory: 0, processing: 0>\n",
      "Starting worker compute stream, tcp://18.12.2.18:26134\n"
     ]
    },
    {
     "name": "stdout",
     "output_type": "stream",
     "text": [
      "[                                        ] | 1% Completed | 10.9s"
     ]
    },
    {
     "name": "stderr",
     "output_type": "stream",
     "text": [
      "Register worker <WorkerState 'tcp://18.12.2.2:41663', name: SLURMCluster-18, status: undefined, memory: 0, processing: 0>\n",
      "Starting worker compute stream, tcp://18.12.2.2:41663\n",
      "Register worker <WorkerState 'tcp://18.12.2.2:45045', name: SLURMCluster-16, status: undefined, memory: 0, processing: 0>\n",
      "Starting worker compute stream, tcp://18.12.2.2:45045\n"
     ]
    },
    {
     "name": "stdout",
     "output_type": "stream",
     "text": [
      "[#                                       ] | 2% Completed | 13.8s"
     ]
    },
    {
     "name": "stderr",
     "output_type": "stream",
     "text": [
      "Register worker <WorkerState 'tcp://18.12.2.2:33696', name: SLURMCluster-21, status: undefined, memory: 0, processing: 0>\n",
      "Starting worker compute stream, tcp://18.12.2.2:33696\n",
      "Register worker <WorkerState 'tcp://18.12.2.2:33379', name: SLURMCluster-23, status: undefined, memory: 0, processing: 0>\n",
      "Starting worker compute stream, tcp://18.12.2.2:33379\n",
      "Register worker <WorkerState 'tcp://18.12.2.2:45082', name: SLURMCluster-19, status: undefined, memory: 0, processing: 0>\n",
      "Starting worker compute stream, tcp://18.12.2.2:45082\n",
      "Register worker <WorkerState 'tcp://18.12.2.2:33917', name: SLURMCluster-24, status: undefined, memory: 0, processing: 0>\n",
      "Starting worker compute stream, tcp://18.12.2.2:33917\n",
      "Register worker <WorkerState 'tcp://18.12.2.2:41251', name: SLURMCluster-22, status: undefined, memory: 0, processing: 0>\n",
      "Starting worker compute stream, tcp://18.12.2.2:41251\n",
      "Register worker <WorkerState 'tcp://18.12.2.2:36109', name: SLURMCluster-20, status: undefined, memory: 0, processing: 0>\n",
      "Starting worker compute stream, tcp://18.12.2.2:36109\n"
     ]
    },
    {
     "name": "stdout",
     "output_type": "stream",
     "text": [
      "[#                                       ] | 2% Completed | 14.1s"
     ]
    },
    {
     "name": "stderr",
     "output_type": "stream",
     "text": [
      "Register worker <WorkerState 'tcp://18.12.2.2:39729', name: SLURMCluster-26, status: undefined, memory: 0, processing: 0>\n",
      "Starting worker compute stream, tcp://18.12.2.2:39729\n",
      "Register worker <WorkerState 'tcp://18.12.2.2:40629', name: SLURMCluster-25, status: undefined, memory: 0, processing: 0>\n",
      "Starting worker compute stream, tcp://18.12.2.2:40629\n"
     ]
    },
    {
     "name": "stdout",
     "output_type": "stream",
     "text": [
      "[##                                      ] | 5% Completed | 18.6s"
     ]
    },
    {
     "name": "stderr",
     "output_type": "stream",
     "text": [
      "Register worker <WorkerState 'tcp://18.12.2.6:45984', name: SLURMCluster-38, status: undefined, memory: 0, processing: 0>\n",
      "Starting worker compute stream, tcp://18.12.2.6:45984\n",
      "Register worker <WorkerState 'tcp://18.12.2.6:37950', name: SLURMCluster-71, status: undefined, memory: 0, processing: 0>\n",
      "Starting worker compute stream, tcp://18.12.2.6:37950\n",
      "Register worker <WorkerState 'tcp://18.12.2.6:42943', name: SLURMCluster-47, status: undefined, memory: 0, processing: 0>\n"
     ]
    },
    {
     "name": "stdout",
     "output_type": "stream",
     "text": [
      "[##                                      ] | 5% Completed | 18.7s"
     ]
    },
    {
     "name": "stderr",
     "output_type": "stream",
     "text": [
      "Starting worker compute stream, tcp://18.12.2.6:42943\n",
      "Register worker <WorkerState 'tcp://18.12.2.6:39276', name: SLURMCluster-42, status: undefined, memory: 0, processing: 0>\n",
      "Starting worker compute stream, tcp://18.12.2.6:39276\n",
      "Register worker <WorkerState 'tcp://18.12.2.6:44349', name: SLURMCluster-52, status: undefined, memory: 0, processing: 0>\n",
      "Starting worker compute stream, tcp://18.12.2.6:44349\n",
      "Register worker <WorkerState 'tcp://18.12.2.6:42745', name: SLURMCluster-66, status: undefined, memory: 0, processing: 0>\n",
      "Starting worker compute stream, tcp://18.12.2.6:42745\n",
      "Register worker <WorkerState 'tcp://18.12.2.6:33320', name: SLURMCluster-40, status: undefined, memory: 0, processing: 0>\n",
      "Starting worker compute stream, tcp://18.12.2.6:33320\n",
      "Register worker <WorkerState 'tcp://18.12.2.6:42854', name: SLURMCluster-39, status: undefined, memory: 0, processing: 0>\n",
      "Starting worker compute stream, tcp://18.12.2.6:42854\n",
      "Register worker <WorkerState 'tcp://18.12.2.6:41726', name: SLURMCluster-37, status: undefined, memory: 0, processing: 0>\n",
      "Starting worker compute stream, tcp://18.12.2.6:41726\n",
      "Register worker <WorkerState 'tcp://18.12.2.6:39194', name: SLURMCluster-41, status: undefined, memory: 0, processing: 0>\n",
      "Starting worker compute stream, tcp://18.12.2.6:39194\n"
     ]
    },
    {
     "name": "stdout",
     "output_type": "stream",
     "text": [
      "[##                                      ] | 5% Completed | 19.1s"
     ]
    },
    {
     "name": "stderr",
     "output_type": "stream",
     "text": [
      "Retire worker names ('SLURMCluster-29',)\n"
     ]
    },
    {
     "name": "stdout",
     "output_type": "stream",
     "text": [
      "[##                                      ] | 5% Completed | 19.3s"
     ]
    },
    {
     "name": "stderr",
     "output_type": "stream",
     "text": [
      "Register worker <WorkerState 'tcp://18.12.2.7:44420', name: SLURMCluster-43, status: undefined, memory: 0, processing: 0>\n",
      "Starting worker compute stream, tcp://18.12.2.7:44420\n",
      "Register worker <WorkerState 'tcp://18.12.2.7:42179', name: SLURMCluster-53, status: undefined, memory: 0, processing: 0>\n",
      "Starting worker compute stream, tcp://18.12.2.7:42179\n",
      "Register worker <WorkerState 'tcp://18.12.2.7:44537', name: SLURMCluster-61, status: undefined, memory: 0, processing: 0>\n",
      "Starting worker compute stream, tcp://18.12.2.7:44537\n",
      "Register worker <WorkerState 'tcp://18.12.2.7:45375', name: SLURMCluster-63, status: undefined, memory: 0, processing: 0>\n",
      "Starting worker compute stream, tcp://18.12.2.7:45375\n",
      "Register worker <WorkerState 'tcp://18.12.2.7:46294', name: SLURMCluster-49, status: undefined, memory: 0, processing: 0>\n",
      "Starting worker compute stream, tcp://18.12.2.7:46294\n",
      "Register worker <WorkerState 'tcp://18.12.2.7:40557', name: SLURMCluster-54, status: undefined, memory: 0, processing: 0>\n",
      "Starting worker compute stream, tcp://18.12.2.7:40557\n",
      "Register worker <WorkerState 'tcp://18.12.2.7:42948', name: SLURMCluster-56, status: undefined, memory: 0, processing: 0>\n",
      "Starting worker compute stream, tcp://18.12.2.7:42948\n",
      "Register worker <WorkerState 'tcp://18.12.2.7:35776', name: SLURMCluster-51, status: undefined, memory: 0, processing: 0>\n",
      "Starting worker compute stream, tcp://18.12.2.7:35776\n",
      "Register worker <WorkerState 'tcp://18.12.2.7:41593', name: SLURMCluster-50, status: undefined, memory: 0, processing: 0>\n",
      "Starting worker compute stream, tcp://18.12.2.7:41593\n",
      "Register worker <WorkerState 'tcp://18.12.2.7:36861', name: SLURMCluster-45, status: undefined, memory: 0, processing: 0>\n",
      "Starting worker compute stream, tcp://18.12.2.7:36861\n"
     ]
    },
    {
     "name": "stdout",
     "output_type": "stream",
     "text": [
      "[##                                      ] | 5% Completed | 19.6s"
     ]
    },
    {
     "name": "stderr",
     "output_type": "stream",
     "text": [
      "Register worker <WorkerState 'tcp://18.12.2.5:14518', name: SLURMCluster-31, status: undefined, memory: 0, processing: 0>\n",
      "Starting worker compute stream, tcp://18.12.2.5:14518\n",
      "Register worker <WorkerState 'tcp://18.12.2.5:12113', name: SLURMCluster-27, status: undefined, memory: 0, processing: 0>\n",
      "Starting worker compute stream, tcp://18.12.2.5:12113\n",
      "Register worker <WorkerState 'tcp://18.12.2.5:12121', name: SLURMCluster-28, status: undefined, memory: 0, processing: 0>\n",
      "Starting worker compute stream, tcp://18.12.2.5:12121\n",
      "Register worker <WorkerState 'tcp://18.12.2.5:15913', name: SLURMCluster-32, status: undefined, memory: 0, processing: 0>\n",
      "Starting worker compute stream, tcp://18.12.2.5:15913\n",
      "Register worker <WorkerState 'tcp://18.12.2.5:3017', name: SLURMCluster-30, status: undefined, memory: 0, processing: 0>\n",
      "Starting worker compute stream, tcp://18.12.2.5:3017\n",
      "Register worker <WorkerState 'tcp://18.12.2.5:18937', name: SLURMCluster-35, status: undefined, memory: 0, processing: 0>\n",
      "Starting worker compute stream, tcp://18.12.2.5:18937\n",
      "Register worker <WorkerState 'tcp://18.12.2.5:27823', name: SLURMCluster-36, status: undefined, memory: 0, processing: 0>\n",
      "Starting worker compute stream, tcp://18.12.2.5:27823\n",
      "Register worker <WorkerState 'tcp://18.12.2.5:31927', name: SLURMCluster-34, status: undefined, memory: 0, processing: 0>\n",
      "Starting worker compute stream, tcp://18.12.2.5:31927\n",
      "Register worker <WorkerState 'tcp://18.12.2.5:18931', name: SLURMCluster-33, status: undefined, memory: 0, processing: 0>\n",
      "Starting worker compute stream, tcp://18.12.2.5:18931\n"
     ]
    },
    {
     "name": "stdout",
     "output_type": "stream",
     "text": [
      "[##                                      ] | 5% Completed | 20.2s"
     ]
    },
    {
     "name": "stderr",
     "output_type": "stream",
     "text": [
      "Register worker <WorkerState 'tcp://18.12.2.8:22555', name: SLURMCluster-57, status: undefined, memory: 0, processing: 0>\n",
      "Starting worker compute stream, tcp://18.12.2.8:22555\n",
      "Register worker <WorkerState 'tcp://18.12.2.8:26631', name: SLURMCluster-69, status: undefined, memory: 0, processing: 0>\n",
      "Starting worker compute stream, tcp://18.12.2.8:26631\n",
      "Register worker <WorkerState 'tcp://18.12.2.8:21678', name: SLURMCluster-73, status: undefined, memory: 0, processing: 0>\n",
      "Starting worker compute stream, tcp://18.12.2.8:21678\n",
      "Register worker <WorkerState 'tcp://18.12.2.8:25328', name: SLURMCluster-55, status: undefined, memory: 0, processing: 0>\n",
      "Starting worker compute stream, tcp://18.12.2.8:25328\n"
     ]
    },
    {
     "name": "stdout",
     "output_type": "stream",
     "text": [
      "[##                                      ] | 6% Completed | 22.2s"
     ]
    },
    {
     "name": "stderr",
     "output_type": "stream",
     "text": [
      "Retire worker names ('SLURMCluster-74',)\n"
     ]
    },
    {
     "name": "stdout",
     "output_type": "stream",
     "text": [
      "[##                                      ] | 6% Completed | 23.1s"
     ]
    },
    {
     "name": "stderr",
     "output_type": "stream",
     "text": [
      "Register worker <WorkerState 'tcp://18.12.2.8:29132', name: SLURMCluster-58, status: undefined, memory: 0, processing: 0>\n",
      "Starting worker compute stream, tcp://18.12.2.8:29132\n",
      "Register worker <WorkerState 'tcp://18.12.2.8:4400', name: SLURMCluster-65, status: undefined, memory: 0, processing: 0>\n",
      "Starting worker compute stream, tcp://18.12.2.8:4400\n",
      "Register worker <WorkerState 'tcp://18.12.2.8:8227', name: SLURMCluster-46, status: undefined, memory: 0, processing: 0>\n",
      "Starting worker compute stream, tcp://18.12.2.8:8227\n",
      "Register worker <WorkerState 'tcp://18.12.2.8:24121', name: SLURMCluster-59, status: undefined, memory: 0, processing: 0>\n",
      "Starting worker compute stream, tcp://18.12.2.8:24121\n",
      "Register worker <WorkerState 'tcp://18.12.2.8:22717', name: SLURMCluster-64, status: undefined, memory: 0, processing: 0>\n",
      "Starting worker compute stream, tcp://18.12.2.8:22717\n",
      "Retire worker names ('SLURMCluster-67',)\n"
     ]
    },
    {
     "name": "stdout",
     "output_type": "stream",
     "text": [
      "[##                                      ] | 6% Completed | 23.2s"
     ]
    },
    {
     "name": "stderr",
     "output_type": "stream",
     "text": [
      "Register worker <WorkerState 'tcp://18.12.2.8:9768', name: SLURMCluster-70, status: undefined, memory: 0, processing: 0>\n",
      "Starting worker compute stream, tcp://18.12.2.8:9768\n"
     ]
    },
    {
     "name": "stdout",
     "output_type": "stream",
     "text": [
      "[##                                      ] | 6% Completed | 23.8s"
     ]
    },
    {
     "name": "stderr",
     "output_type": "stream",
     "text": [
      "Register worker <WorkerState 'tcp://18.12.2.9:42401', name: SLURMCluster-68, status: undefined, memory: 0, processing: 0>\n",
      "Starting worker compute stream, tcp://18.12.2.9:42401\n",
      "Register worker <WorkerState 'tcp://18.12.2.9:33542', name: SLURMCluster-72, status: undefined, memory: 0, processing: 0>\n",
      "Starting worker compute stream, tcp://18.12.2.9:33542\n",
      "Register worker <WorkerState 'tcp://18.12.2.9:43699', name: SLURMCluster-60, status: undefined, memory: 0, processing: 0>\n",
      "Starting worker compute stream, tcp://18.12.2.9:43699\n",
      "Register worker <WorkerState 'tcp://18.12.2.9:36185', name: SLURMCluster-44, status: undefined, memory: 0, processing: 0>\n",
      "Starting worker compute stream, tcp://18.12.2.9:36185\n",
      "Register worker <WorkerState 'tcp://18.12.2.9:38895', name: SLURMCluster-62, status: undefined, memory: 0, processing: 0>\n",
      "Starting worker compute stream, tcp://18.12.2.9:38895\n",
      "Register worker <WorkerState 'tcp://18.12.2.9:43372', name: SLURMCluster-48, status: undefined, memory: 0, processing: 0>\n",
      "Starting worker compute stream, tcp://18.12.2.9:43372\n"
     ]
    },
    {
     "name": "stdout",
     "output_type": "stream",
     "text": [
      "[####                                    ] | 12% Completed | 31.2s"
     ]
    },
    {
     "name": "stderr",
     "output_type": "stream",
     "text": [
      "Retire worker names ('SLURMCluster-61',)\n",
      "Retire workers {<WorkerState 'tcp://18.12.2.7:44537', name: SLURMCluster-61, status: running, memory: 2, processing: 0>}\n",
      "Moving 1 keys to other workers\n"
     ]
    },
    {
     "name": "stdout",
     "output_type": "stream",
     "text": [
      "[#####                                   ] | 13% Completed | 32.1s"
     ]
    },
    {
     "name": "stderr",
     "output_type": "stream",
     "text": [
      "Closing worker tcp://18.12.2.7:44537\n",
      "Remove worker <WorkerState 'tcp://18.12.2.7:44537', name: SLURMCluster-61, status: running, memory: 2, processing: 0>\n"
     ]
    },
    {
     "name": "stdout",
     "output_type": "stream",
     "text": [
      "[#####                                   ] | 13% Completed | 32.2s"
     ]
    },
    {
     "name": "stderr",
     "output_type": "stream",
     "text": [
      "Retire worker names ('SLURMCluster-17', 'SLURMCluster-52')\n",
      "Retire workers {<WorkerState 'tcp://18.12.2.6:44349', name: SLURMCluster-52, status: running, memory: 2, processing: 0>, <WorkerState 'tcp://18.12.2.18:27189', name: SLURMCluster-17, status: running, memory: 2, processing: 0>}\n",
      "Moving 2 keys to other workers\n",
      "Closing worker tcp://18.12.2.6:44349\n",
      "Remove worker <WorkerState 'tcp://18.12.2.6:44349', name: SLURMCluster-52, status: running, memory: 2, processing: 0>\n",
      "Closing worker tcp://18.12.2.18:27189\n",
      "Remove worker <WorkerState 'tcp://18.12.2.18:27189', name: SLURMCluster-17, status: running, memory: 2, processing: 0>\n"
     ]
    },
    {
     "name": "stdout",
     "output_type": "stream",
     "text": [
      "[#####                                   ] | 14% Completed | 33.1s"
     ]
    },
    {
     "name": "stderr",
     "output_type": "stream",
     "text": [
      "Retire worker names ('SLURMCluster-53',)\n",
      "Retire workers {<WorkerState 'tcp://18.12.2.7:42179', name: SLURMCluster-53, status: running, memory: 2, processing: 0>}\n",
      "Moving 1 keys to other workers\n",
      "Closing worker tcp://18.12.2.7:42179\n",
      "Remove worker <WorkerState 'tcp://18.12.2.7:42179', name: SLURMCluster-53, status: running, memory: 2, processing: 0>\n"
     ]
    },
    {
     "name": "stdout",
     "output_type": "stream",
     "text": [
      "[#####                                   ] | 14% Completed | 34.1s"
     ]
    },
    {
     "name": "stderr",
     "output_type": "stream",
     "text": [
      "Retire worker names ('SLURMCluster-28',)\n",
      "Retire workers {<WorkerState 'tcp://18.12.2.5:12121', name: SLURMCluster-28, status: running, memory: 2, processing: 0>}\n",
      "Moving 1 keys to other workers\n",
      "Closing worker tcp://18.12.2.5:12121\n",
      "Remove worker <WorkerState 'tcp://18.12.2.5:12121', name: SLURMCluster-28, status: running, memory: 2, processing: 0>\n"
     ]
    },
    {
     "name": "stdout",
     "output_type": "stream",
     "text": [
      "[######                                  ] | 16% Completed | 35.2s"
     ]
    },
    {
     "name": "stderr",
     "output_type": "stream",
     "text": [
      "Retire worker names ('SLURMCluster-0',)\n",
      "Retire workers {<WorkerState 'tcp://18.12.2.18:6306', name: SLURMCluster-0, status: running, memory: 3, processing: 0>}\n",
      "Moving 2 keys to other workers\n",
      "Closing worker tcp://18.12.2.18:6306\n",
      "Remove worker <WorkerState 'tcp://18.12.2.18:6306', name: SLURMCluster-0, status: running, memory: 3, processing: 0>\n"
     ]
    },
    {
     "name": "stdout",
     "output_type": "stream",
     "text": [
      "[#######                                 ] | 18% Completed | 37.1s"
     ]
    },
    {
     "name": "stderr",
     "output_type": "stream",
     "text": [
      "Retire worker names ('SLURMCluster-18',)\n",
      "Retire workers {<WorkerState 'tcp://18.12.2.2:41663', name: SLURMCluster-18, status: running, memory: 2, processing: 0>}\n",
      "Moving 1 keys to other workers\n"
     ]
    },
    {
     "name": "stdout",
     "output_type": "stream",
     "text": [
      "[#######                                 ] | 18% Completed | 37.2s"
     ]
    },
    {
     "name": "stderr",
     "output_type": "stream",
     "text": [
      "Closing worker tcp://18.12.2.2:41663\n",
      "Remove worker <WorkerState 'tcp://18.12.2.2:41663', name: SLURMCluster-18, status: running, memory: 2, processing: 0>\n"
     ]
    },
    {
     "name": "stdout",
     "output_type": "stream",
     "text": [
      "[#######                                 ] | 19% Completed | 38.1s"
     ]
    },
    {
     "name": "stderr",
     "output_type": "stream",
     "text": [
      "Retire worker names ('SLURMCluster-12',)\n",
      "Retire workers {<WorkerState 'tcp://18.12.2.18:12165', name: SLURMCluster-12, status: running, memory: 2, processing: 0>}\n",
      "Moving 1 keys to other workers\n",
      "Closing worker tcp://18.12.2.18:12165\n",
      "Remove worker <WorkerState 'tcp://18.12.2.18:12165', name: SLURMCluster-12, status: running, memory: 2, processing: 0>\n"
     ]
    },
    {
     "name": "stdout",
     "output_type": "stream",
     "text": [
      "[#########                               ] | 22% Completed | 39.1s"
     ]
    },
    {
     "name": "stderr",
     "output_type": "stream",
     "text": [
      "Retire worker names ('SLURMCluster-8',)\n",
      "Retire workers {<WorkerState 'tcp://18.12.2.18:3510', name: SLURMCluster-8, status: running, memory: 2, processing: 0>}\n",
      "Moving 1 keys to other workers\n",
      "Closing worker tcp://18.12.2.18:3510\n",
      "Remove worker <WorkerState 'tcp://18.12.2.18:3510', name: SLURMCluster-8, status: running, memory: 2, processing: 0>\n"
     ]
    },
    {
     "name": "stdout",
     "output_type": "stream",
     "text": [
      "[#########                               ] | 24% Completed | 40.2s"
     ]
    },
    {
     "name": "stderr",
     "output_type": "stream",
     "text": [
      "Retire worker names ('SLURMCluster-11',)\n",
      "Retire workers {<WorkerState 'tcp://18.12.2.18:15219', name: SLURMCluster-11, status: running, memory: 2, processing: 0>}\n",
      "Moving 1 keys to other workers\n",
      "Closing worker tcp://18.12.2.18:15219\n",
      "Remove worker <WorkerState 'tcp://18.12.2.18:15219', name: SLURMCluster-11, status: running, memory: 2, processing: 0>\n"
     ]
    },
    {
     "name": "stdout",
     "output_type": "stream",
     "text": [
      "[###########                             ] | 28% Completed | 41.1s"
     ]
    },
    {
     "name": "stderr",
     "output_type": "stream",
     "text": [
      "Retire worker names ('SLURMCluster-14', 'SLURMCluster-9')\n",
      "Retire workers {<WorkerState 'tcp://18.12.2.18:24056', name: SLURMCluster-9, status: running, memory: 2, processing: 0>, <WorkerState 'tcp://18.12.2.18:28893', name: SLURMCluster-14, status: running, memory: 3, processing: 0>}\n",
      "Moving 3 keys to other workers\n"
     ]
    },
    {
     "name": "stdout",
     "output_type": "stream",
     "text": [
      "[###########                             ] | 28% Completed | 41.2s"
     ]
    },
    {
     "name": "stderr",
     "output_type": "stream",
     "text": [
      "Closing worker tcp://18.12.2.18:24056\n",
      "Remove worker <WorkerState 'tcp://18.12.2.18:24056', name: SLURMCluster-9, status: running, memory: 2, processing: 0>\n",
      "Closing worker tcp://18.12.2.18:28893\n",
      "Remove worker <WorkerState 'tcp://18.12.2.18:28893', name: SLURMCluster-14, status: running, memory: 3, processing: 0>\n"
     ]
    },
    {
     "name": "stdout",
     "output_type": "stream",
     "text": [
      "[###########                             ] | 28% Completed | 42.1s"
     ]
    },
    {
     "name": "stderr",
     "output_type": "stream",
     "text": [
      "Retire worker names ('SLURMCluster-58',)\n",
      "Retire workers {<WorkerState 'tcp://18.12.2.8:29132', name: SLURMCluster-58, status: running, memory: 2, processing: 0>}\n",
      "Moving 1 keys to other workers\n",
      "Closing worker tcp://18.12.2.8:29132\n",
      "Remove worker <WorkerState 'tcp://18.12.2.8:29132', name: SLURMCluster-58, status: running, memory: 2, processing: 0>\n"
     ]
    },
    {
     "name": "stdout",
     "output_type": "stream",
     "text": [
      "[###########                             ] | 28% Completed | 43.1s"
     ]
    },
    {
     "name": "stderr",
     "output_type": "stream",
     "text": [
      "Retire worker names ('SLURMCluster-10', 'SLURMCluster-48')\n",
      "Retire workers {<WorkerState 'tcp://18.12.2.9:43372', name: SLURMCluster-48, status: running, memory: 2, processing: 0>, <WorkerState 'tcp://18.12.2.18:2075', name: SLURMCluster-10, status: running, memory: 3, processing: 0>}\n",
      "Moving 3 keys to other workers\n",
      "Closing worker tcp://18.12.2.9:43372\n",
      "Remove worker <WorkerState 'tcp://18.12.2.9:43372', name: SLURMCluster-48, status: running, memory: 2, processing: 0>\n",
      "Closing worker tcp://18.12.2.18:2075\n",
      "Remove worker <WorkerState 'tcp://18.12.2.18:2075', name: SLURMCluster-10, status: running, memory: 3, processing: 0>\n"
     ]
    },
    {
     "name": "stdout",
     "output_type": "stream",
     "text": [
      "[###########                             ] | 29% Completed | 44.1s"
     ]
    },
    {
     "name": "stderr",
     "output_type": "stream",
     "text": [
      "Retire worker names ('SLURMCluster-60',)\n",
      "Retire workers {<WorkerState 'tcp://18.12.2.9:43699', name: SLURMCluster-60, status: running, memory: 2, processing: 0>}\n",
      "Moving 1 keys to other workers\n",
      "Closing worker tcp://18.12.2.9:43699\n",
      "Remove worker <WorkerState 'tcp://18.12.2.9:43699', name: SLURMCluster-60, status: running, memory: 2, processing: 0>\n"
     ]
    },
    {
     "name": "stdout",
     "output_type": "stream",
     "text": [
      "[############                            ] | 30% Completed | 46.2s"
     ]
    },
    {
     "name": "stderr",
     "output_type": "stream",
     "text": [
      "Retire worker names ('SLURMCluster-44',)\n",
      "Retire workers {<WorkerState 'tcp://18.12.2.9:36185', name: SLURMCluster-44, status: running, memory: 2, processing: 0>}\n",
      "Moving 1 keys to other workers\n",
      "Closing worker tcp://18.12.2.9:36185\n",
      "Remove worker <WorkerState 'tcp://18.12.2.9:36185', name: SLURMCluster-44, status: running, memory: 2, processing: 0>\n"
     ]
    },
    {
     "name": "stdout",
     "output_type": "stream",
     "text": [
      "[############                            ] | 31% Completed | 48.1s"
     ]
    },
    {
     "name": "stderr",
     "output_type": "stream",
     "text": [
      "Retire worker names ('SLURMCluster-20',)\n",
      "Retire workers {<WorkerState 'tcp://18.12.2.2:36109', name: SLURMCluster-20, status: running, memory: 2, processing: 0>}\n",
      "Moving 1 keys to other workers\n"
     ]
    },
    {
     "name": "stdout",
     "output_type": "stream",
     "text": [
      "[############                            ] | 31% Completed | 48.2s"
     ]
    },
    {
     "name": "stderr",
     "output_type": "stream",
     "text": [
      "Closing worker tcp://18.12.2.2:36109\n",
      "Remove worker <WorkerState 'tcp://18.12.2.2:36109', name: SLURMCluster-20, status: running, memory: 2, processing: 0>\n"
     ]
    },
    {
     "name": "stdout",
     "output_type": "stream",
     "text": [
      "[#############                           ] | 33% Completed | 49.1s"
     ]
    },
    {
     "name": "stderr",
     "output_type": "stream",
     "text": [
      "Retire worker names ('SLURMCluster-16',)\n",
      "Retire workers {<WorkerState 'tcp://18.12.2.2:45045', name: SLURMCluster-16, status: running, memory: 4, processing: 0>}\n",
      "Moving 3 keys to other workers\n"
     ]
    },
    {
     "name": "stdout",
     "output_type": "stream",
     "text": [
      "[#############                           ] | 33% Completed | 49.2s"
     ]
    },
    {
     "name": "stderr",
     "output_type": "stream",
     "text": [
      "Closing worker tcp://18.12.2.2:45045\n",
      "Remove worker <WorkerState 'tcp://18.12.2.2:45045', name: SLURMCluster-16, status: running, memory: 4, processing: 0>\n"
     ]
    },
    {
     "name": "stdout",
     "output_type": "stream",
     "text": [
      "[##############                          ] | 36% Completed | 51.1s"
     ]
    },
    {
     "name": "stderr",
     "output_type": "stream",
     "text": [
      "Retire worker names ('SLURMCluster-34',)\n",
      "Retire workers {<WorkerState 'tcp://18.12.2.5:31927', name: SLURMCluster-34, status: running, memory: 2, processing: 0>}\n",
      "Moving 1 keys to other workers\n",
      "Closing worker tcp://18.12.2.5:31927\n",
      "Remove worker <WorkerState 'tcp://18.12.2.5:31927', name: SLURMCluster-34, status: running, memory: 2, processing: 0>\n"
     ]
    },
    {
     "name": "stdout",
     "output_type": "stream",
     "text": [
      "[##############                          ] | 36% Completed | 52.1s"
     ]
    },
    {
     "name": "stderr",
     "output_type": "stream",
     "text": [
      "Retire worker names ('SLURMCluster-19',)\n",
      "Retire workers {<WorkerState 'tcp://18.12.2.2:45082', name: SLURMCluster-19, status: running, memory: 2, processing: 0>}\n",
      "Moving 1 keys to other workers\n",
      "Closing worker tcp://18.12.2.2:45082\n",
      "Remove worker <WorkerState 'tcp://18.12.2.2:45082', name: SLURMCluster-19, status: running, memory: 2, processing: 0>\n"
     ]
    },
    {
     "name": "stdout",
     "output_type": "stream",
     "text": [
      "[##################                      ] | 45% Completed | 55.1s"
     ]
    },
    {
     "name": "stderr",
     "output_type": "stream",
     "text": [
      "Retire worker names ('SLURMCluster-36', 'SLURMCluster-41')\n",
      "Retire workers {<WorkerState 'tcp://18.12.2.5:27823', name: SLURMCluster-36, status: running, memory: 3, processing: 0>, <WorkerState 'tcp://18.12.2.6:39194', name: SLURMCluster-41, status: running, memory: 2, processing: 0>}\n",
      "Moving 3 keys to other workers\n"
     ]
    },
    {
     "name": "stdout",
     "output_type": "stream",
     "text": [
      "[##################                      ] | 45% Completed | 55.2s"
     ]
    },
    {
     "name": "stderr",
     "output_type": "stream",
     "text": [
      "Closing worker tcp://18.12.2.5:27823\n",
      "Remove worker <WorkerState 'tcp://18.12.2.5:27823', name: SLURMCluster-36, status: running, memory: 3, processing: 0>\n",
      "Closing worker tcp://18.12.2.6:39194\n",
      "Remove worker <WorkerState 'tcp://18.12.2.6:39194', name: SLURMCluster-41, status: running, memory: 2, processing: 0>\n"
     ]
    },
    {
     "name": "stdout",
     "output_type": "stream",
     "text": [
      "[##################                      ] | 46% Completed | 56.1s"
     ]
    },
    {
     "name": "stderr",
     "output_type": "stream",
     "text": [
      "Retire worker names ('SLURMCluster-43', 'SLURMCluster-62', 'SLURMCluster-46')\n",
      "Retire workers {<WorkerState 'tcp://18.12.2.8:8227', name: SLURMCluster-46, status: running, memory: 2, processing: 0>, <WorkerState 'tcp://18.12.2.7:44420', name: SLURMCluster-43, status: running, memory: 2, processing: 0>, <WorkerState 'tcp://18.12.2.9:38895', name: SLURMCluster-62, status: running, memory: 5, processing: 0>}\n",
      "Moving 6 keys to other workers\n",
      "Closing worker tcp://18.12.2.8:8227\n",
      "Remove worker <WorkerState 'tcp://18.12.2.8:8227', name: SLURMCluster-46, status: running, memory: 2, processing: 0>\n",
      "Closing worker tcp://18.12.2.7:44420\n",
      "Remove worker <WorkerState 'tcp://18.12.2.7:44420', name: SLURMCluster-43, status: running, memory: 2, processing: 0>\n",
      "Closing worker tcp://18.12.2.9:38895\n",
      "Remove worker <WorkerState 'tcp://18.12.2.9:38895', name: SLURMCluster-62, status: running, memory: 5, processing: 0>\n"
     ]
    },
    {
     "name": "stdout",
     "output_type": "stream",
     "text": [
      "[###################                     ] | 49% Completed | 57.1s"
     ]
    },
    {
     "name": "stderr",
     "output_type": "stream",
     "text": [
      "Retire worker names ('SLURMCluster-50', 'SLURMCluster-49', 'SLURMCluster-70')\n",
      "Retire workers {<WorkerState 'tcp://18.12.2.7:41593', name: SLURMCluster-50, status: running, memory: 3, processing: 0>, <WorkerState 'tcp://18.12.2.7:46294', name: SLURMCluster-49, status: running, memory: 2, processing: 0>, <WorkerState 'tcp://18.12.2.8:9768', name: SLURMCluster-70, status: running, memory: 2, processing: 0>}\n",
      "Moving 4 keys to other workers\n",
      "Closing worker tcp://18.12.2.7:41593\n",
      "Remove worker <WorkerState 'tcp://18.12.2.7:41593', name: SLURMCluster-50, status: running, memory: 3, processing: 0>\n",
      "Closing worker tcp://18.12.2.7:46294\n",
      "Remove worker <WorkerState 'tcp://18.12.2.7:46294', name: SLURMCluster-49, status: running, memory: 2, processing: 0>\n",
      "Closing worker tcp://18.12.2.8:9768\n",
      "Remove worker <WorkerState 'tcp://18.12.2.8:9768', name: SLURMCluster-70, status: running, memory: 2, processing: 0>\n"
     ]
    },
    {
     "name": "stdout",
     "output_type": "stream",
     "text": [
      "[####################                    ] | 52% Completed | 58.2s"
     ]
    },
    {
     "name": "stderr",
     "output_type": "stream",
     "text": [
      "Retire worker names ('SLURMCluster-59',)\n",
      "Retire workers {<WorkerState 'tcp://18.12.2.8:24121', name: SLURMCluster-59, status: running, memory: 2, processing: 0>}\n",
      "Moving 1 keys to other workers\n",
      "Closing worker tcp://18.12.2.8:24121\n",
      "Remove worker <WorkerState 'tcp://18.12.2.8:24121', name: SLURMCluster-59, status: running, memory: 2, processing: 0>\n"
     ]
    },
    {
     "name": "stdout",
     "output_type": "stream",
     "text": [
      "[####################                    ] | 52% Completed | 59.2s"
     ]
    },
    {
     "name": "stderr",
     "output_type": "stream",
     "text": [
      "Retire worker names ('SLURMCluster-45', 'SLURMCluster-38')\n",
      "Retire workers {<WorkerState 'tcp://18.12.2.6:45984', name: SLURMCluster-38, status: running, memory: 2, processing: 0>, <WorkerState 'tcp://18.12.2.7:36861', name: SLURMCluster-45, status: running, memory: 3, processing: 0>}\n",
      "Moving 3 keys to other workers\n",
      "Closing worker tcp://18.12.2.6:45984\n",
      "Remove worker <WorkerState 'tcp://18.12.2.6:45984', name: SLURMCluster-38, status: running, memory: 2, processing: 0>\n",
      "Closing worker tcp://18.12.2.7:36861\n",
      "Remove worker <WorkerState 'tcp://18.12.2.7:36861', name: SLURMCluster-45, status: running, memory: 3, processing: 0>\n"
     ]
    },
    {
     "name": "stdout",
     "output_type": "stream",
     "text": [
      "[####################                    ] | 52% Completed |  1min  0.1s"
     ]
    },
    {
     "name": "stderr",
     "output_type": "stream",
     "text": [
      "Retire worker names ('SLURMCluster-54', 'SLURMCluster-27')\n",
      "Retire workers {<WorkerState 'tcp://18.12.2.7:40557', name: SLURMCluster-54, status: running, memory: 4, processing: 0>, <WorkerState 'tcp://18.12.2.5:12113', name: SLURMCluster-27, status: running, memory: 5, processing: 0>}\n",
      "Moving 7 keys to other workers\n",
      "Closing worker tcp://18.12.2.7:40557\n",
      "Remove worker <WorkerState 'tcp://18.12.2.7:40557', name: SLURMCluster-54, status: running, memory: 4, processing: 0>\n",
      "Closing worker tcp://18.12.2.5:12113\n",
      "Remove worker <WorkerState 'tcp://18.12.2.5:12113', name: SLURMCluster-27, status: running, memory: 5, processing: 0>\n"
     ]
    },
    {
     "name": "stdout",
     "output_type": "stream",
     "text": [
      "[########################                ] | 60% Completed |  1min  4.1s"
     ]
    },
    {
     "name": "stderr",
     "output_type": "stream",
     "text": [
      "Retire worker names ('SLURMCluster-30', 'SLURMCluster-25')\n",
      "Retire workers {<WorkerState 'tcp://18.12.2.5:3017', name: SLURMCluster-30, status: running, memory: 3, processing: 0>, <WorkerState 'tcp://18.12.2.2:40629', name: SLURMCluster-25, status: running, memory: 6, processing: 0>}\n",
      "Moving 7 keys to other workers\n",
      "Closing worker tcp://18.12.2.5:3017\n",
      "Remove worker <WorkerState 'tcp://18.12.2.5:3017', name: SLURMCluster-30, status: running, memory: 3, processing: 0>\n",
      "Closing worker tcp://18.12.2.2:40629\n",
      "Remove worker <WorkerState 'tcp://18.12.2.2:40629', name: SLURMCluster-25, status: running, memory: 6, processing: 0>\n"
     ]
    },
    {
     "name": "stdout",
     "output_type": "stream",
     "text": [
      "[########################                ] | 60% Completed |  1min  5.1s"
     ]
    },
    {
     "name": "stderr",
     "output_type": "stream",
     "text": [
      "Retire worker names ('SLURMCluster-21', 'SLURMCluster-42')\n",
      "Retire workers {<WorkerState 'tcp://18.12.2.2:33696', name: SLURMCluster-21, status: running, memory: 3, processing: 0>, <WorkerState 'tcp://18.12.2.6:39276', name: SLURMCluster-42, status: running, memory: 6, processing: 0>}\n",
      "Moving 7 keys to other workers\n",
      "Closing worker tcp://18.12.2.2:33696\n",
      "Remove worker <WorkerState 'tcp://18.12.2.2:33696', name: SLURMCluster-21, status: running, memory: 3, processing: 0>\n",
      "Closing worker tcp://18.12.2.6:39276\n",
      "Remove worker <WorkerState 'tcp://18.12.2.6:39276', name: SLURMCluster-42, status: running, memory: 6, processing: 0>\n"
     ]
    },
    {
     "name": "stdout",
     "output_type": "stream",
     "text": [
      "[########################                ] | 61% Completed |  1min  6.1s"
     ]
    },
    {
     "name": "stderr",
     "output_type": "stream",
     "text": [
      "Retire worker names ('SLURMCluster-47',)\n",
      "Retire workers {<WorkerState 'tcp://18.12.2.6:42943', name: SLURMCluster-47, status: running, memory: 3, processing: 0>}\n",
      "Moving 2 keys to other workers\n",
      "Closing worker tcp://18.12.2.6:42943\n",
      "Remove worker <WorkerState 'tcp://18.12.2.6:42943', name: SLURMCluster-47, status: running, memory: 3, processing: 0>\n"
     ]
    },
    {
     "name": "stdout",
     "output_type": "stream",
     "text": [
      "[#########################               ] | 62% Completed |  1min  8.2s"
     ]
    },
    {
     "name": "stderr",
     "output_type": "stream",
     "text": [
      "Retire worker names ('SLURMCluster-13', 'SLURMCluster-40')\n",
      "Retire workers {<WorkerState 'tcp://18.12.2.18:19172', name: SLURMCluster-13, status: running, memory: 5, processing: 0>, <WorkerState 'tcp://18.12.2.6:33320', name: SLURMCluster-40, status: running, memory: 3, processing: 0>}\n",
      "Moving 6 keys to other workers\n",
      "Closing worker tcp://18.12.2.18:19172\n",
      "Remove worker <WorkerState 'tcp://18.12.2.18:19172', name: SLURMCluster-13, status: running, memory: 5, processing: 0>\n",
      "Closing worker tcp://18.12.2.6:33320\n",
      "Remove worker <WorkerState 'tcp://18.12.2.6:33320', name: SLURMCluster-40, status: running, memory: 3, processing: 0>\n"
     ]
    },
    {
     "name": "stdout",
     "output_type": "stream",
     "text": [
      "[#########################               ] | 62% Completed |  1min 10.1s"
     ]
    },
    {
     "name": "stderr",
     "output_type": "stream",
     "text": [
      "Retire worker names ('SLURMCluster-69',)\n",
      "Retire workers {<WorkerState 'tcp://18.12.2.8:26631', name: SLURMCluster-69, status: running, memory: 3, processing: 0>}\n",
      "Moving 2 keys to other workers\n",
      "Closing worker tcp://18.12.2.8:26631\n",
      "Remove worker <WorkerState 'tcp://18.12.2.8:26631', name: SLURMCluster-69, status: running, memory: 3, processing: 0>\n"
     ]
    },
    {
     "name": "stdout",
     "output_type": "stream",
     "text": [
      "[############################            ] | 70% Completed |  1min 14.2s"
     ]
    },
    {
     "name": "stderr",
     "output_type": "stream",
     "text": [
      "Retire worker names ('SLURMCluster-32',)\n",
      "Retire workers {<WorkerState 'tcp://18.12.2.5:15913', name: SLURMCluster-32, status: running, memory: 4, processing: 0>}\n",
      "Moving 3 keys to other workers\n",
      "Closing worker tcp://18.12.2.5:15913\n",
      "Remove worker <WorkerState 'tcp://18.12.2.5:15913', name: SLURMCluster-32, status: running, memory: 4, processing: 0>\n"
     ]
    },
    {
     "name": "stdout",
     "output_type": "stream",
     "text": [
      "[#############################           ] | 73% Completed |  1min 15.1s"
     ]
    },
    {
     "name": "stderr",
     "output_type": "stream",
     "text": [
      "Retire worker names ('SLURMCluster-31',)\n",
      "Retire workers {<WorkerState 'tcp://18.12.2.5:14518', name: SLURMCluster-31, status: running, memory: 4, processing: 0>}\n",
      "Moving 3 keys to other workers\n"
     ]
    },
    {
     "name": "stdout",
     "output_type": "stream",
     "text": [
      "[#############################           ] | 73% Completed |  1min 15.2s"
     ]
    },
    {
     "name": "stderr",
     "output_type": "stream",
     "text": [
      "Closing worker tcp://18.12.2.5:14518\n",
      "Remove worker <WorkerState 'tcp://18.12.2.5:14518', name: SLURMCluster-31, status: running, memory: 4, processing: 0>\n"
     ]
    },
    {
     "name": "stdout",
     "output_type": "stream",
     "text": [
      "[#############################           ] | 73% Completed |  1min 16.1s"
     ]
    },
    {
     "name": "stderr",
     "output_type": "stream",
     "text": [
      "Retire worker names ('SLURMCluster-35', 'SLURMCluster-15', 'SLURMCluster-73')\n",
      "Retire workers {<WorkerState 'tcp://18.12.2.18:26134', name: SLURMCluster-15, status: running, memory: 4, processing: 0>, <WorkerState 'tcp://18.12.2.8:21678', name: SLURMCluster-73, status: running, memory: 5, processing: 0>, <WorkerState 'tcp://18.12.2.5:18937', name: SLURMCluster-35, status: running, memory: 6, processing: 0>}\n",
      "Moving 12 keys to other workers\n"
     ]
    },
    {
     "name": "stdout",
     "output_type": "stream",
     "text": [
      "[#############################           ] | 73% Completed |  1min 16.6s"
     ]
    },
    {
     "name": "stderr",
     "output_type": "stream",
     "text": [
      "Closing worker tcp://18.12.2.18:26134\n",
      "Remove worker <WorkerState 'tcp://18.12.2.18:26134', name: SLURMCluster-15, status: running, memory: 4, processing: 0>\n",
      "Closing worker tcp://18.12.2.8:21678\n",
      "Remove worker <WorkerState 'tcp://18.12.2.8:21678', name: SLURMCluster-73, status: running, memory: 5, processing: 0>\n",
      "Closing worker tcp://18.12.2.5:18937\n",
      "Remove worker <WorkerState 'tcp://18.12.2.5:18937', name: SLURMCluster-35, status: running, memory: 6, processing: 0>\n"
     ]
    },
    {
     "name": "stdout",
     "output_type": "stream",
     "text": [
      "[#############################           ] | 73% Completed |  1min 17.1s"
     ]
    },
    {
     "name": "stderr",
     "output_type": "stream",
     "text": [
      "Retire worker names ('SLURMCluster-51',)\n",
      "Retire workers {<WorkerState 'tcp://18.12.2.7:35776', name: SLURMCluster-51, status: running, memory: 3, processing: 0>}\n",
      "Moving 2 keys to other workers\n"
     ]
    },
    {
     "name": "stdout",
     "output_type": "stream",
     "text": [
      "[#############################           ] | 73% Completed |  1min 17.2s"
     ]
    },
    {
     "name": "stderr",
     "output_type": "stream",
     "text": [
      "Closing worker tcp://18.12.2.7:35776\n",
      "Remove worker <WorkerState 'tcp://18.12.2.7:35776', name: SLURMCluster-51, status: running, memory: 3, processing: 0>\n"
     ]
    },
    {
     "name": "stdout",
     "output_type": "stream",
     "text": [
      "[##############################          ] | 76% Completed |  1min 19.1s"
     ]
    },
    {
     "name": "stderr",
     "output_type": "stream",
     "text": [
      "Retire worker names ('SLURMCluster-23',)\n",
      "Retire workers {<WorkerState 'tcp://18.12.2.2:33379', name: SLURMCluster-23, status: running, memory: 4, processing: 0>}\n",
      "Moving 3 keys to other workers\n",
      "Closing worker tcp://18.12.2.2:33379\n",
      "Remove worker <WorkerState 'tcp://18.12.2.2:33379', name: SLURMCluster-23, status: running, memory: 4, processing: 0>\n"
     ]
    },
    {
     "name": "stdout",
     "output_type": "stream",
     "text": [
      "[###############################         ] | 78% Completed |  1min 20.1s"
     ]
    },
    {
     "name": "stderr",
     "output_type": "stream",
     "text": [
      "Retire worker names ('SLURMCluster-66',)\n",
      "Retire workers {<WorkerState 'tcp://18.12.2.6:42745', name: SLURMCluster-66, status: running, memory: 5, processing: 0>}\n",
      "Moving 4 keys to other workers\n",
      "Closing worker tcp://18.12.2.6:42745\n",
      "Remove worker <WorkerState 'tcp://18.12.2.6:42745', name: SLURMCluster-66, status: running, memory: 5, processing: 0>\n"
     ]
    },
    {
     "name": "stdout",
     "output_type": "stream",
     "text": [
      "[################################        ] | 80% Completed |  1min 21.2s"
     ]
    },
    {
     "name": "stderr",
     "output_type": "stream",
     "text": [
      "Retire worker names ('SLURMCluster-26',)\n",
      "Retire workers {<WorkerState 'tcp://18.12.2.2:39729', name: SLURMCluster-26, status: running, memory: 4, processing: 0>}\n",
      "Moving 3 keys to other workers\n",
      "Closing worker tcp://18.12.2.2:39729\n",
      "Remove worker <WorkerState 'tcp://18.12.2.2:39729', name: SLURMCluster-26, status: running, memory: 4, processing: 0>\n"
     ]
    },
    {
     "name": "stdout",
     "output_type": "stream",
     "text": [
      "[################################        ] | 80% Completed |  1min 22.2s"
     ]
    },
    {
     "name": "stderr",
     "output_type": "stream",
     "text": [
      "Retire worker names ('SLURMCluster-33', 'SLURMCluster-72')\n",
      "Retire workers {<WorkerState 'tcp://18.12.2.9:33542', name: SLURMCluster-72, status: running, memory: 6, processing: 0>, <WorkerState 'tcp://18.12.2.5:18931', name: SLURMCluster-33, status: running, memory: 5, processing: 0>}\n",
      "Moving 9 keys to other workers\n",
      "Closing worker tcp://18.12.2.9:33542\n",
      "Remove worker <WorkerState 'tcp://18.12.2.9:33542', name: SLURMCluster-72, status: running, memory: 6, processing: 0>\n",
      "Closing worker tcp://18.12.2.5:18931\n",
      "Remove worker <WorkerState 'tcp://18.12.2.5:18931', name: SLURMCluster-33, status: running, memory: 5, processing: 0>\n"
     ]
    },
    {
     "name": "stdout",
     "output_type": "stream",
     "text": [
      "[################################        ] | 80% Completed |  1min 23.1s"
     ]
    },
    {
     "name": "stderr",
     "output_type": "stream",
     "text": [
      "Retire worker names ('SLURMCluster-68',)\n",
      "Retire workers {<WorkerState 'tcp://18.12.2.9:42401', name: SLURMCluster-68, status: running, memory: 5, processing: 0>}\n",
      "Moving 4 keys to other workers\n",
      "Closing worker tcp://18.12.2.9:42401\n",
      "Remove worker <WorkerState 'tcp://18.12.2.9:42401', name: SLURMCluster-68, status: running, memory: 5, processing: 0>\n"
     ]
    },
    {
     "name": "stdout",
     "output_type": "stream",
     "text": [
      "[##################################      ] | 86% Completed |  1min 26.2s"
     ]
    },
    {
     "name": "stderr",
     "output_type": "stream",
     "text": [
      "Retire worker names ('SLURMCluster-63', 'SLURMCluster-37')\n",
      "Retire workers {<WorkerState 'tcp://18.12.2.7:45375', name: SLURMCluster-63, status: running, memory: 4, processing: 0>, <WorkerState 'tcp://18.12.2.6:41726', name: SLURMCluster-37, status: running, memory: 7, processing: 0>}\n",
      "Moving 9 keys to other workers\n",
      "Closing worker tcp://18.12.2.7:45375\n",
      "Remove worker <WorkerState 'tcp://18.12.2.7:45375', name: SLURMCluster-63, status: running, memory: 4, processing: 0>\n",
      "Closing worker tcp://18.12.2.6:41726\n",
      "Remove worker <WorkerState 'tcp://18.12.2.6:41726', name: SLURMCluster-37, status: running, memory: 7, processing: 0>\n"
     ]
    },
    {
     "name": "stdout",
     "output_type": "stream",
     "text": [
      "[##################################      ] | 86% Completed |  1min 27.1s"
     ]
    },
    {
     "name": "stderr",
     "output_type": "stream",
     "text": [
      "Retire worker names ('SLURMCluster-39',)\n",
      "Retire workers {<WorkerState 'tcp://18.12.2.6:42854', name: SLURMCluster-39, status: running, memory: 5, processing: 0>}\n",
      "Moving 4 keys to other workers\n"
     ]
    },
    {
     "name": "stdout",
     "output_type": "stream",
     "text": [
      "[##################################      ] | 86% Completed |  1min 27.2s"
     ]
    },
    {
     "name": "stderr",
     "output_type": "stream",
     "text": [
      "Closing worker tcp://18.12.2.6:42854\n",
      "Remove worker <WorkerState 'tcp://18.12.2.6:42854', name: SLURMCluster-39, status: running, memory: 5, processing: 0>\n"
     ]
    },
    {
     "name": "stdout",
     "output_type": "stream",
     "text": [
      "[##################################      ] | 86% Completed |  1min 28.1s"
     ]
    },
    {
     "name": "stderr",
     "output_type": "stream",
     "text": [
      "Retire worker names ('SLURMCluster-65',)\n",
      "Retire workers {<WorkerState 'tcp://18.12.2.8:4400', name: SLURMCluster-65, status: running, memory: 8, processing: 0>}\n",
      "Moving 7 keys to other workers\n",
      "Closing worker tcp://18.12.2.8:4400\n",
      "Remove worker <WorkerState 'tcp://18.12.2.8:4400', name: SLURMCluster-65, status: running, memory: 8, processing: 0>\n"
     ]
    },
    {
     "name": "stdout",
     "output_type": "stream",
     "text": [
      "[####################################    ] | 90% Completed |  1min 32.1s"
     ]
    },
    {
     "name": "stderr",
     "output_type": "stream",
     "text": [
      "Retire worker names ('SLURMCluster-57',)\n",
      "Retire workers {<WorkerState 'tcp://18.12.2.8:22555', name: SLURMCluster-57, status: running, memory: 8, processing: 0>}\n",
      "Moving 7 keys to other workers\n"
     ]
    },
    {
     "name": "stdout",
     "output_type": "stream",
     "text": [
      "[####################################    ] | 90% Completed |  1min 32.2s"
     ]
    },
    {
     "name": "stderr",
     "output_type": "stream",
     "text": [
      "Closing worker tcp://18.12.2.8:22555\n",
      "Remove worker <WorkerState 'tcp://18.12.2.8:22555', name: SLURMCluster-57, status: running, memory: 8, processing: 0>\n"
     ]
    },
    {
     "name": "stdout",
     "output_type": "stream",
     "text": [
      "[####################################    ] | 90% Completed |  1min 33.1s"
     ]
    },
    {
     "name": "stderr",
     "output_type": "stream",
     "text": [
      "Retire worker names ('SLURMCluster-64',)\n",
      "Retire workers {<WorkerState 'tcp://18.12.2.8:22717', name: SLURMCluster-64, status: running, memory: 9, processing: 0>}\n",
      "Moving 8 keys to other workers\n",
      "Closing worker tcp://18.12.2.8:22717\n",
      "Remove worker <WorkerState 'tcp://18.12.2.8:22717', name: SLURMCluster-64, status: running, memory: 9, processing: 0>\n"
     ]
    },
    {
     "name": "stdout",
     "output_type": "stream",
     "text": [
      "[####################################    ] | 90% Completed |  1min 34.1s"
     ]
    },
    {
     "name": "stderr",
     "output_type": "stream",
     "text": [
      "Retire worker names ('SLURMCluster-71',)\n",
      "Retire workers {<WorkerState 'tcp://18.12.2.6:37950', name: SLURMCluster-71, status: running, memory: 13, processing: 0>}\n",
      "Moving 12 keys to other workers\n",
      "Closing worker tcp://18.12.2.6:37950\n",
      "Remove worker <WorkerState 'tcp://18.12.2.6:37950', name: SLURMCluster-71, status: running, memory: 13, processing: 0>\n"
     ]
    },
    {
     "name": "stdout",
     "output_type": "stream",
     "text": [
      "[####################################    ] | 92% Completed |  1min 37.2s"
     ]
    },
    {
     "name": "stderr",
     "output_type": "stream",
     "text": [
      "Retire worker names ('SLURMCluster-22',)\n",
      "Retire workers {<WorkerState 'tcp://18.12.2.2:41251', name: SLURMCluster-22, status: running, memory: 10, processing: 0>}\n",
      "Moving 9 keys to other workers\n",
      "Closing worker tcp://18.12.2.2:41251\n",
      "Remove worker <WorkerState 'tcp://18.12.2.2:41251', name: SLURMCluster-22, status: running, memory: 10, processing: 0>\n"
     ]
    },
    {
     "name": "stdout",
     "output_type": "stream",
     "text": [
      "[########################################] | 100% Completed |  1min 46.5s\r"
     ]
    },
    {
     "name": "stderr",
     "output_type": "stream",
     "text": [
      "Retire worker names ('SLURMCluster-55',)\n",
      "Retire workers {<WorkerState 'tcp://18.12.2.8:25328', name: SLURMCluster-55, status: running, memory: 0, processing: 0>}\n",
      "Closing worker tcp://18.12.2.8:25328\n",
      "Remove worker <WorkerState 'tcp://18.12.2.8:25328', name: SLURMCluster-55, status: running, memory: 0, processing: 0>\n"
     ]
    }
   ],
   "source": [
    "with performance_report(filename=\"dask-report.html\"):\n",
    "    output = processor.run_uproot_job(sample_dict,\n",
    "             treename='Events',\n",
    "             processor_instance=processor_instance,\n",
    "             executor=processor.dask_executor,\n",
    "             executor_args={\n",
    "                           'client': client,\n",
    "                           #'skipbadfiles': skipbadfiles,\n",
    "                           'schema': processor.NanoAODSchema,\n",
    "                           'xrootdtimeout': 10,\n",
    "                           'retries': 3,\n",
    "                           },\n",
    "             chunksize=chunksize,\n",
    "             maxchunks=maxchunks)"
   ]
  },
  {
   "cell_type": "code",
   "execution_count": 10,
   "id": "2b330d1a-1607-4936-a71a-d16fa59b0244",
   "metadata": {},
   "outputs": [
    {
     "data": {
      "text/plain": [
       "<Hist (NMuons) instance at 0x7f1a8c7ddcd0>"
      ]
     },
     "execution_count": 10,
     "metadata": {},
     "output_type": "execute_result"
    },
    {
     "name": "stderr",
     "output_type": "stream",
     "text": [
      "Retire worker names ('SLURMCluster-56',)\n",
      "Retire workers {<WorkerState 'tcp://18.12.2.7:42948', name: SLURMCluster-56, status: running, memory: 0, processing: 0>}\n",
      "Closing worker tcp://18.12.2.7:42948\n",
      "Remove worker <WorkerState 'tcp://18.12.2.7:42948', name: SLURMCluster-56, status: running, memory: 0, processing: 0>\n"
     ]
    }
   ],
   "source": [
    "output['N_Muons']"
   ]
  },
  {
   "cell_type": "code",
   "execution_count": 11,
   "id": "bbe2822f-d725-47f2-9d38-f6e2d5a0ceea",
   "metadata": {},
   "outputs": [
    {
     "name": "stderr",
     "output_type": "stream",
     "text": [
      "/home/submit/freerc/miniforge3/envs/dask/lib/python3.9/site-packages/numpy/core/_methods.py:44: RuntimeWarning: invalid value encountered in reduce\n",
      "  return umr_minimum(a, axis, None, out, keepdims, initial, where)\n",
      "/home/submit/freerc/miniforge3/envs/dask/lib/python3.9/site-packages/numpy/core/_methods.py:40: RuntimeWarning: invalid value encountered in reduce\n",
      "  return umr_maximum(a, axis, None, out, keepdims, initial, where)\n"
     ]
    },
    {
     "data": {
      "text/plain": [
       "<AxesSubplot:xlabel='Num Muons', ylabel='Events'>"
      ]
     },
     "execution_count": 11,
     "metadata": {},
     "output_type": "execute_result"
    },
    {
     "data": {
      "image/png": "[encoded data removed]",
      "text/plain": [
       "<Figure size 432x288 with 1 Axes>"
      ]
     },
     "metadata": {
      "needs_background": "light"
     },
     "output_type": "display_data"
    }
   ],
   "source": [
    "import mplhep as hep\n",
    "#import hist\n",
    "from coffea import hist\n",
    "\n",
    "# {\"ALICE\" | \"ATLAS\" | \"CMS\" | \"LHCb1\" | \"LHCb2\"}\n",
    "hep.cms.label(data=False, lumi=60, year=2018)\n",
    "\n",
    "import matplotlib.pyplot as plt\n",
    "hist.plot1d(output['N_Muons'])"
   ]
  },
  {
   "cell_type": "code",
   "execution_count": 13,
   "id": "0801beab-7cc9-465e-b177-8330359fafa9",
   "metadata": {},
   "outputs": [
    {
     "name": "stderr",
     "output_type": "stream",
     "text": [
      "/home/submit/freerc/miniforge3/envs/dask/lib/python3.9/site-packages/numpy/core/_methods.py:44: RuntimeWarning: invalid value encountered in reduce\n",
      "  return umr_minimum(a, axis, None, out, keepdims, initial, where)\n",
      "/home/submit/freerc/miniforge3/envs/dask/lib/python3.9/site-packages/numpy/core/_methods.py:40: RuntimeWarning: invalid value encountered in reduce\n",
      "  return umr_maximum(a, axis, None, out, keepdims, initial, where)\n"
     ]
    },
    {
     "data": {
      "text/plain": [
       "<AxesSubplot:xlabel='Num Electrons', ylabel='Events'>"
      ]
     },
     "execution_count": 13,
     "metadata": {},
     "output_type": "execute_result"
    },
    {
     "data": {
      "image/png": "[encoded data removed]",
      "text/plain": [
       "<Figure size 432x288 with 1 Axes>"
      ]
     },
     "metadata": {
      "needs_background": "light"
     },
     "output_type": "display_data"
    }
   ],
   "source": [
    "hep.cms.label(data=False, lumi=60, year=2018)\n",
    "hist.plot1d(output['N_Electrons'])"
   ]
  },
  {
   "cell_type": "code",
   "execution_count": null,
   "id": "20a9b88c-3816-412f-9417-3c305379090f",
   "metadata": {},
   "outputs": [],
   "source": []
  }
 ],
 "metadata": {
  "kernelspec": {
   "display_name": "dask",
   "language": "python",
   "name": "dask"
  },
  "language_info": {
   "codemirror_mode": {
    "name": "ipython",
    "version": 3
   },
   "file_extension": ".py",
   "mimetype": "text/x-python",
   "name": "python",
   "nbconvert_exporter": "python",
   "pygments_lexer": "ipython3",
   "version": "3.9.5"
  }
 },
 "nbformat": 4,
 "nbformat_minor": 5
}
