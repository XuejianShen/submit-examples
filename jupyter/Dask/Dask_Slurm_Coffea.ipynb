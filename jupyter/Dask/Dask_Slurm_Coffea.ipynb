{
 "cells": [
  {
   "cell_type": "markdown",
   "id": "89478bce-c68d-4738-b62d-b288e49503ba",
   "metadata": {},
   "source": [
    "# Dask through Jupyter Notebooks"
   ]
  },
  {
   "cell_type": "markdown",
   "id": "0a66b82e-fde3-4595-b4f9-24e25e6ae57d",
   "metadata": {},
   "source": [
    "This notebook will guide you through using Dask to analyze NanoAOD root files using a Slurm Cluster on SubMIT. This notebook utilizes a conda environment and then exports that environment in the slurm jobs. Follow the README for instructions on the conda environment. "
   ]
  },
  {
   "cell_type": "code",
   "execution_count": 1,
   "id": "36c07901-136b-4e4e-9146-33a52a8d671e",
   "metadata": {
    "tags": []
   },
   "outputs": [
    {
     "name": "stderr",
     "output_type": "stream",
     "text": [
      "/home/submit/freerc/miniforge3/envs/dask/lib/python3.9/site-packages/dask_jobqueue/core.py:20: FutureWarning: tmpfile is deprecated and will be removed in a future release. Please use dask.utils.tmpfile instead.\n",
      "  from distributed.utils import tmpfile\n"
     ]
    }
   ],
   "source": [
    "import os\n",
    "import sys\n",
    "import json\n",
    "import time\n",
    "import random\n",
    "import numpy as np\n",
    "from coffea import hist, processor\n",
    "\n",
    "from dask_jobqueue import SLURMCluster\n",
    "from distributed import Client\n",
    "from dask.distributed import performance_report"
   ]
  },
  {
   "cell_type": "markdown",
   "id": "c841c2aa-987c-4a20-8911-a8923f3d36f1",
   "metadata": {},
   "source": [
    "We set up a coffea ABC Processor to analyze the ROOT files. Here we grab the Muon and Electron collection and add some simple selections using awkward."
   ]
  },
  {
   "cell_type": "code",
   "execution_count": 2,
   "id": "768afee5-9257-4b71-a695-40c32101a1a1",
   "metadata": {},
   "outputs": [],
   "source": [
    "import awkward as ak\n",
    "import vector\n",
    "vector.register_awkward()\n",
    "\n",
    "class Simple_Process(processor.ProcessorABC):\n",
    "    def __init__(self, isMC: int, era: int, sample: str) -> None:\n",
    "        self.gensumweight = 1.0\n",
    "        self.era = era\n",
    "        self.isMC = isMC\n",
    "        self.sample = sample\n",
    "\n",
    "        #Set up for the histograms\n",
    "        self._accumulator = processor.dict_accumulator({\n",
    "            \"N_Muons\": hist.Hist(\n",
    "                \"Events\",\n",
    "                hist.Bin(\"NMuons\", \"Num Muons\", 10, 0, 10)\n",
    "            ),   \n",
    "            \"N_Electrons\": hist.Hist(\n",
    "                \"Events\",\n",
    "                hist.Bin(\"NElectrons\", \"Num Electrons\", 10, 0, 10)\n",
    "            ), \n",
    "        })\n",
    "\n",
    "    @property\n",
    "    def accumulator(self):\n",
    "        return self._accumulator\n",
    "    \n",
    "    def process(self, events):\n",
    "        output = self.accumulator.identity()\n",
    "        dataset = events.metadata['dataset']\n",
    "        Muons = ak.zip({\n",
    "              \"pt\": events.Muon.pt,\n",
    "              \"eta\": events.Muon.eta,\n",
    "              \"phi\": events.Muon.phi,\n",
    "              \"mass\": events.Muon.mass\n",
    "        }, with_name=\"Momentum4D\") \n",
    "        cut = (events.Muon.pt > 10) & \\\n",
    "            (abs(events.Muon.eta) <= 2.4) & \\\n",
    "            (events.Muon.mediumId == 1) \n",
    "        Muons = Muons[cut]\n",
    "        \n",
    "        output[\"N_Muons\"].fill(\n",
    "            NMuons = ak.num(Muons),\n",
    "        ) \n",
    "        \n",
    "        Electrons = ak.zip({\n",
    "               \"pt\": events.Electron.pt,\n",
    "               \"eta\": events.Electron.eta,\n",
    "               \"phi\": events.Electron.phi,\n",
    "               \"mass\": events.Electron.mass\n",
    "        }, with_name=\"Momentum4D\") \n",
    "        cut_ele = (events.Electron.pt > 10) & \\\n",
    "            (abs(events.Electron.eta) <= 2.4) & \\\n",
    "            (events.Electron.mvaFall17V2Iso_WP90 == 1) \n",
    "        Electrons = Electrons[cut_ele]\n",
    "        \n",
    "        output[\"N_Electrons\"].fill(\n",
    "            NElectrons = ak.num(Electrons),\n",
    "        ) \n",
    "        return output\n",
    "\n",
    "    def postprocess(self, accumulator):\n",
    "        return accumulator"
   ]
  },
  {
   "cell_type": "code",
   "execution_count": 3,
   "id": "a2ae7fe0-0bda-471a-b79b-cc6e25849edd",
   "metadata": {},
   "outputs": [],
   "source": [
    "def check_port(port):\n",
    "    import socket\n",
    "    sock = socket.socket(socket.AF_INET, socket.SOCK_STREAM)\n",
    "    try:\n",
    "        sock.bind((\"0.0.0.0\", port))\n",
    "        available = True\n",
    "    except:\n",
    "        available = False\n",
    "    sock.close()\n",
    "    return available"
   ]
  },
  {
   "cell_type": "markdown",
   "id": "a7f4b491-1ea5-4798-8186-8e184177ae20",
   "metadata": {},
   "source": [
    "The following section defines additional parts of the slurm Dask job. Here we source the bashrc to prepare Conda. We also pass in the x509 proxy. In order to share the proxy across the SubMIT machines you should move your proxy to your HOME directory."
   ]
  },
  {
   "cell_type": "code",
   "execution_count": 4,
   "id": "4a03cb39-ca96-48a9-ba57-c14bac3982f0",
   "metadata": {},
   "outputs": [],
   "source": [
    "slurm_env = [\n",
    "     'export XRD_RUNFORKHANDLER=1',\n",
    "     'export XRD_STREAMTIMEOUT=10',\n",
    "     f'source {os.environ[\"HOME\"]}/.bashrc',\n",
    "     f'conda activate dask',\n",
    "     f'export X509_USER_PROXY={os.environ[\"HOME\"]}/x509up_u206148'\n",
    "]\n",
    "\n",
    "extra_args=[\n",
    "     \"--output=dask_job_output_%j.out\",\n",
    "     \"--error=dask_job_output_%j.err\",\n",
    "     \"--partition=submit\",\n",
    "     \"--clusters=submit\",\n",
    "]"
   ]
  },
  {
   "cell_type": "code",
   "execution_count": 5,
   "id": "93adef70-3f14-4ace-bad2-6c5156f2d6c4",
   "metadata": {},
   "outputs": [],
   "source": [
    "n_port       = 6820\n",
    "w_port       = 9765\n",
    "cores        = 1\n",
    "processes    = 1\n",
    "memory       = \"5 GB\"\n",
    "chunksize    = 15000\n",
    "maxchunks    = None"
   ]
  },
  {
   "cell_type": "markdown",
   "id": "c66c9ee4-6c47-4931-8844-b0b89b2353d8",
   "metadata": {},
   "source": [
    "The following sets up the processor and json file. If you want to change files you can simply modify the json file"
   ]
  },
  {
   "cell_type": "code",
   "execution_count": 6,
   "id": "4d5cf7c3-16f8-403b-9445-d5afbb9accdc",
   "metadata": {},
   "outputs": [],
   "source": [
    "#Set up the processor\n",
    "processor_instance = Simple_Process(isMC=1, era='2018', sample='test')\n",
    "\n",
    "# load dataset\n",
    "with open(\"Rucio_JSON_Maker/sample.json\") as f:\n",
    "    sample_dict = json.load(f)\n",
    "for key in sample_dict.keys():\n",
    "    sample_dict[key] = sample_dict[key][:]"
   ]
  },
  {
   "cell_type": "markdown",
   "id": "7578929b-790e-409d-bfdb-9befceae8eb1",
   "metadata": {},
   "source": [
    "The next section forms the Slurm Cluster. You can set up various parameters of the cluster here."
   ]
  },
  {
   "cell_type": "code",
   "execution_count": 7,
   "id": "161ab5ca-0d06-4c30-96bb-24fa3915ce82",
   "metadata": {},
   "outputs": [
    {
     "name": "stderr",
     "output_type": "stream",
     "text": [
      "/home/submit/freerc/miniforge3/envs/dask/lib/python3.9/site-packages/distributed/node.py:160: UserWarning: Port 8000 is already in use.\n",
      "Perhaps you already have a cluster running?\n",
      "Hosting the HTTP server on port 8708 instead\n",
      "  warnings.warn(\n",
      "WARNING:bokeh.server.util:Host wildcard '*' will allow connections originating from multiple (or possibly all) hostnames or IPs. Use non-wildcard values to restrict access explicitly\n",
      "Clear task state\n",
      "  Scheduler at:     tcp://18.12.2.18:6820\n",
      "  dashboard at:           18.12.2.18:8708\n"
     ]
    }
   ],
   "source": [
    "if not check_port(n_port):\n",
    "    raise RuntimeError(\"Port '{}' is occupied on this node. Try another one.\".format(n_port))\n",
    "\n",
    "import socket\n",
    "cluster = SLURMCluster(\n",
    "        queue='all',\n",
    "        project=\"SUEP_Slurm\",\n",
    "        cores=cores,\n",
    "        processes=processes,\n",
    "        memory=memory,\n",
    "        #retries=10,\n",
    "        walltime='00:30:00',\n",
    "        scheduler_options={\n",
    "              'port': n_port,\n",
    "              'dashboard_address': 8000,\n",
    "              'host': socket.gethostname()\n",
    "        },\n",
    "        job_extra=extra_args,\n",
    "        env_extra=slurm_env,\n",
    ")"
   ]
  },
  {
   "cell_type": "code",
   "execution_count": 8,
   "id": "9298d20e-338a-489d-9e06-8f45d8fa3240",
   "metadata": {},
   "outputs": [
    {
     "name": "stderr",
     "output_type": "stream",
     "text": [
      "Receive client connection: Client-b4347dc5-849d-11ec-9d56-000af7bd3c78\n"
     ]
    },
    {
     "name": "stdout",
     "output_type": "stream",
     "text": [
      "<Client: 'tcp://18.12.2.18:6820' processes=0 threads=0, memory=0 B>\n"
     ]
    }
   ],
   "source": [
    "cluster.adapt(minimum=1, maximum=250)\n",
    "client = Client(cluster)\n",
    "print(client)"
   ]
  },
  {
   "cell_type": "markdown",
   "id": "25cb8d52-2382-48f9-9da3-e7ed4fbd0532",
   "metadata": {},
   "source": [
    "# Running the processor\n",
    "Now we will run the code with a performance report. This will analyze all of the input ROOT files and will store the histograms in output. Then we can analyze the output and make plots."
   ]
  },
  {
   "cell_type": "code",
   "execution_count": 9,
   "id": "0d7312b5-e2da-4548-af9f-860e7646d63b",
   "metadata": {
    "tags": []
   },
   "outputs": [
    {
     "name": "stderr",
     "output_type": "stream",
     "text": [
      "Run out-of-band function 'lambda'\n",
      "Register worker <WorkerState 'tcp://18.12.2.18:16403', name: SLURMCluster-0, status: undefined, memory: 0, processing: 0>\n",
      "Starting worker compute stream, tcp://18.12.2.18:16403\n"
     ]
    },
    {
     "name": "stdout",
     "output_type": "stream",
     "text": [
      "[                                        ] | 1% Completed |  3.2s"
     ]
    },
    {
     "name": "stderr",
     "output_type": "stream",
     "text": [
      "Register worker <WorkerState 'tcp://18.12.2.18:15678', name: SLURMCluster-3, status: undefined, memory: 0, processing: 0>\n",
      "Starting worker compute stream, tcp://18.12.2.18:15678\n",
      "Register worker <WorkerState 'tcp://18.12.2.18:2631', name: SLURMCluster-7, status: undefined, memory: 0, processing: 0>\n",
      "Starting worker compute stream, tcp://18.12.2.18:2631\n",
      "Register worker <WorkerState 'tcp://18.12.2.18:16224', name: SLURMCluster-5, status: undefined, memory: 0, processing: 0>\n",
      "Starting worker compute stream, tcp://18.12.2.18:16224\n"
     ]
    },
    {
     "name": "stdout",
     "output_type": "stream",
     "text": [
      "[#####                                   ] | 13% Completed |  9.2s"
     ]
    },
    {
     "name": "stderr",
     "output_type": "stream",
     "text": [
      "Register worker <WorkerState 'tcp://18.12.2.6:46770', name: SLURMCluster-38, status: undefined, memory: 0, processing: 0>\n",
      "Starting worker compute stream, tcp://18.12.2.6:46770\n",
      "Register worker <WorkerState 'tcp://18.12.2.6:37854', name: SLURMCluster-17, status: undefined, memory: 0, processing: 0>\n",
      "Starting worker compute stream, tcp://18.12.2.6:37854\n",
      "Register worker <WorkerState 'tcp://18.12.2.6:44326', name: SLURMCluster-20, status: undefined, memory: 0, processing: 0>\n",
      "Starting worker compute stream, tcp://18.12.2.6:44326\n",
      "Register worker <WorkerState 'tcp://18.12.2.6:37555', name: SLURMCluster-29, status: undefined, memory: 0, processing: 0>\n",
      "Starting worker compute stream, tcp://18.12.2.6:37555\n",
      "Register worker <WorkerState 'tcp://18.12.2.6:33685', name: SLURMCluster-10, status: undefined, memory: 0, processing: 0>\n",
      "Starting worker compute stream, tcp://18.12.2.6:33685\n",
      "Register worker <WorkerState 'tcp://18.12.2.6:45918', name: SLURMCluster-31, status: undefined, memory: 0, processing: 0>\n",
      "Starting worker compute stream, tcp://18.12.2.6:45918\n",
      "Register worker <WorkerState 'tcp://18.12.2.6:40098', name: SLURMCluster-42, status: undefined, memory: 0, processing: 0>\n",
      "Starting worker compute stream, tcp://18.12.2.6:40098\n",
      "Register worker <WorkerState 'tcp://18.12.2.6:34596', name: SLURMCluster-27, status: undefined, memory: 0, processing: 0>\n",
      "Starting worker compute stream, tcp://18.12.2.6:34596\n",
      "Register worker <WorkerState 'tcp://18.12.2.6:44837', name: SLURMCluster-11, status: undefined, memory: 0, processing: 0>\n",
      "Starting worker compute stream, tcp://18.12.2.6:44837\n",
      "Register worker <WorkerState 'tcp://18.12.2.6:36104', name: SLURMCluster-14, status: undefined, memory: 0, processing: 0>\n",
      "Starting worker compute stream, tcp://18.12.2.6:36104\n"
     ]
    },
    {
     "name": "stdout",
     "output_type": "stream",
     "text": [
      "[#####                                   ] | 13% Completed |  9.3s"
     ]
    },
    {
     "name": "stderr",
     "output_type": "stream",
     "text": [
      "Register worker <WorkerState 'tcp://18.12.2.18:28693', name: SLURMCluster-9, status: undefined, memory: 0, processing: 0>\n",
      "Starting worker compute stream, tcp://18.12.2.18:28693\n",
      "Register worker <WorkerState 'tcp://18.12.2.18:12726', name: SLURMCluster-4, status: undefined, memory: 0, processing: 0>\n",
      "Starting worker compute stream, tcp://18.12.2.18:12726\n",
      "Register worker <WorkerState 'tcp://18.12.2.18:9889', name: SLURMCluster-2, status: undefined, memory: 0, processing: 0>\n",
      "Starting worker compute stream, tcp://18.12.2.18:9889\n",
      "Register worker <WorkerState 'tcp://18.12.2.18:17382', name: SLURMCluster-6, status: undefined, memory: 0, processing: 0>\n",
      "Starting worker compute stream, tcp://18.12.2.18:17382\n",
      "Register worker <WorkerState 'tcp://18.12.2.18:13593', name: SLURMCluster-8, status: undefined, memory: 0, processing: 0>\n",
      "Starting worker compute stream, tcp://18.12.2.18:13593\n",
      "Register worker <WorkerState 'tcp://18.12.2.18:6504', name: SLURMCluster-1, status: undefined, memory: 0, processing: 0>\n",
      "Starting worker compute stream, tcp://18.12.2.18:6504\n"
     ]
    },
    {
     "name": "stdout",
     "output_type": "stream",
     "text": [
      "[#####                                   ] | 13% Completed |  9.6s"
     ]
    },
    {
     "name": "stderr",
     "output_type": "stream",
     "text": [
      "Retire worker names ('SLURMCluster-15', 'SLURMCluster-19', 'SLURMCluster-16')\n"
     ]
    },
    {
     "name": "stdout",
     "output_type": "stream",
     "text": [
      "[#####                                   ] | 13% Completed |  9.8s"
     ]
    },
    {
     "name": "stderr",
     "output_type": "stream",
     "text": [
      "Register worker <WorkerState 'tcp://18.12.2.2:36167', name: SLURMCluster-41, status: undefined, memory: 0, processing: 0>\n",
      "Starting worker compute stream, tcp://18.12.2.2:36167\n",
      "Register worker <WorkerState 'tcp://18.12.2.2:44257', name: SLURMCluster-45, status: undefined, memory: 0, processing: 0>\n",
      "Starting worker compute stream, tcp://18.12.2.2:44257\n",
      "Register worker <WorkerState 'tcp://18.12.2.2:35343', name: SLURMCluster-23, status: undefined, memory: 0, processing: 0>\n",
      "Starting worker compute stream, tcp://18.12.2.2:35343\n"
     ]
    },
    {
     "name": "stdout",
     "output_type": "stream",
     "text": [
      "[######                                  ] | 15% Completed | 10.4s"
     ]
    },
    {
     "name": "stderr",
     "output_type": "stream",
     "text": [
      "Register worker <WorkerState 'tcp://18.12.2.2:34865', name: SLURMCluster-33, status: undefined, memory: 0, processing: 0>\n",
      "Starting worker compute stream, tcp://18.12.2.2:34865\n"
     ]
    },
    {
     "name": "stdout",
     "output_type": "stream",
     "text": [
      "[######                                  ] | 16% Completed | 10.5s"
     ]
    },
    {
     "name": "stderr",
     "output_type": "stream",
     "text": [
      "Register worker <WorkerState 'tcp://18.12.2.2:45064', name: SLURMCluster-48, status: undefined, memory: 0, processing: 0>\n",
      "Starting worker compute stream, tcp://18.12.2.2:45064\n",
      "Register worker <WorkerState 'tcp://18.12.2.2:33538', name: SLURMCluster-35, status: undefined, memory: 0, processing: 0>\n",
      "Starting worker compute stream, tcp://18.12.2.2:33538\n"
     ]
    },
    {
     "name": "stdout",
     "output_type": "stream",
     "text": [
      "[######                                  ] | 17% Completed | 10.6s"
     ]
    },
    {
     "name": "stderr",
     "output_type": "stream",
     "text": [
      "Retire worker names ('SLURMCluster-40', 'SLURMCluster-21', 'SLURMCluster-30', 'SLURMCluster-13', 'SLURMCluster-39', 'SLURMCluster-24', 'SLURMCluster-26', 'SLURMCluster-36', 'SLURMCluster-47')\n"
     ]
    },
    {
     "name": "stdout",
     "output_type": "stream",
     "text": [
      "[######                                  ] | 17% Completed | 11.0s"
     ]
    },
    {
     "name": "stderr",
     "output_type": "stream",
     "text": [
      "Register worker <WorkerState 'tcp://18.12.2.2:38321', name: SLURMCluster-44, status: undefined, memory: 0, processing: 0>\n",
      "Starting worker compute stream, tcp://18.12.2.2:38321\n",
      "Register worker <WorkerState 'tcp://18.12.2.2:42794', name: SLURMCluster-25, status: undefined, memory: 0, processing: 0>\n",
      "Starting worker compute stream, tcp://18.12.2.2:42794\n"
     ]
    },
    {
     "name": "stdout",
     "output_type": "stream",
     "text": [
      "[#########                               ] | 24% Completed | 11.5s"
     ]
    },
    {
     "name": "stderr",
     "output_type": "stream",
     "text": [
      "Register worker <WorkerState 'tcp://18.12.2.5:19908', name: SLURMCluster-28, status: undefined, memory: 0, processing: 0>\n",
      "Starting worker compute stream, tcp://18.12.2.5:19908\n",
      "Register worker <WorkerState 'tcp://18.12.2.5:29569', name: SLURMCluster-34, status: undefined, memory: 0, processing: 0>\n",
      "Starting worker compute stream, tcp://18.12.2.5:29569\n",
      "Register worker <WorkerState 'tcp://18.12.2.5:31040', name: SLURMCluster-12, status: undefined, memory: 0, processing: 0>\n",
      "Starting worker compute stream, tcp://18.12.2.5:31040\n",
      "Register worker <WorkerState 'tcp://18.12.2.5:8145', name: SLURMCluster-18, status: undefined, memory: 0, processing: 0>\n",
      "Starting worker compute stream, tcp://18.12.2.5:8145\n",
      "Retire worker names ('SLURMCluster-46', 'SLURMCluster-28', 'SLURMCluster-37')\n",
      "Retire workers {<WorkerState 'tcp://18.12.2.5:19908', name: SLURMCluster-28, status: running, memory: 0, processing: 0>}\n",
      "Closing worker tcp://18.12.2.5:19908\n",
      "Remove worker <WorkerState 'tcp://18.12.2.5:19908', name: SLURMCluster-28, status: running, memory: 0, processing: 0>\n"
     ]
    },
    {
     "name": "stdout",
     "output_type": "stream",
     "text": [
      "[##############                          ] | 36% Completed | 12.6s"
     ]
    },
    {
     "name": "stderr",
     "output_type": "stream",
     "text": [
      "Retire worker names ('SLURMCluster-43', 'SLURMCluster-32', 'SLURMCluster-22')\n"
     ]
    },
    {
     "name": "stdout",
     "output_type": "stream",
     "text": [
      "[###############################         ] | 79% Completed | 15.5s"
     ]
    },
    {
     "name": "stderr",
     "output_type": "stream",
     "text": [
      "Retire worker names ('SLURMCluster-3',)\n",
      "Retire workers {<WorkerState 'tcp://18.12.2.18:15678', name: SLURMCluster-3, status: running, memory: 3, processing: 0>}\n",
      "Moving 3 keys to other workers\n"
     ]
    },
    {
     "name": "stdout",
     "output_type": "stream",
     "text": [
      "[####################################    ] | 91% Completed | 16.3s"
     ]
    },
    {
     "name": "stderr",
     "output_type": "stream",
     "text": [
      "\n",
      "Traceback (most recent call last):\n",
      "  File \"/home/submit/freerc/miniforge3/envs/dask/lib/python3.9/site-packages/distributed/utils.py\", line 681, in log_errors\n",
      "    yield\n",
      "  File \"/home/submit/freerc/miniforge3/envs/dask/lib/python3.9/site-packages/distributed/scheduler.py\", line 6839, in retire_workers\n",
      "    await self.replicate(\n",
      "  File \"/home/submit/freerc/miniforge3/envs/dask/lib/python3.9/site-packages/distributed/scheduler.py\", line 6590, in replicate\n",
      "    assert count > 0\n",
      "AssertionError\n",
      "Exception while handling op retire_workers\n",
      "Traceback (most recent call last):\n",
      "  File \"/home/submit/freerc/miniforge3/envs/dask/lib/python3.9/site-packages/distributed/core.py\", line 521, in handle_comm\n",
      "    result = await result\n",
      "  File \"/home/submit/freerc/miniforge3/envs/dask/lib/python3.9/site-packages/distributed/scheduler.py\", line 6839, in retire_workers\n",
      "    await self.replicate(\n",
      "  File \"/home/submit/freerc/miniforge3/envs/dask/lib/python3.9/site-packages/distributed/scheduler.py\", line 6590, in replicate\n",
      "    assert count > 0\n",
      "AssertionError\n",
      "\n",
      "Traceback (most recent call last):\n",
      "  File \"/home/submit/freerc/miniforge3/envs/dask/lib/python3.9/site-packages/distributed/utils.py\", line 681, in log_errors\n",
      "    yield\n",
      "  File \"/home/submit/freerc/miniforge3/envs/dask/lib/python3.9/site-packages/distributed/deploy/adaptive.py\", line 192, in scale_down\n",
      "    await self.scheduler.retire_workers(\n",
      "  File \"/home/submit/freerc/miniforge3/envs/dask/lib/python3.9/site-packages/distributed/core.py\", line 810, in send_recv_from_rpc\n",
      "    result = await send_recv(comm=comm, op=key, **kwargs)\n",
      "  File \"/home/submit/freerc/miniforge3/envs/dask/lib/python3.9/site-packages/distributed/core.py\", line 679, in send_recv\n",
      "    raise exc.with_traceback(tb)\n",
      "  File \"/home/submit/freerc/miniforge3/envs/dask/lib/python3.9/site-packages/distributed/core.py\", line 521, in handle_comm\n",
      "    result = await result\n",
      "  File \"/home/submit/freerc/miniforge3/envs/dask/lib/python3.9/site-packages/distributed/scheduler.py\", line 6839, in retire_workers\n",
      "    await self.replicate(\n",
      "  File \"/home/submit/freerc/miniforge3/envs/dask/lib/python3.9/site-packages/distributed/scheduler.py\", line 6590, in replicate\n",
      "    assert count > 0\n",
      "AssertionError\n"
     ]
    },
    {
     "name": "stdout",
     "output_type": "stream",
     "text": [
      "[####################################### ] | 98% Completed | 16.6s"
     ]
    },
    {
     "name": "stderr",
     "output_type": "stream",
     "text": [
      "Retire worker names ('SLURMCluster-10', 'SLURMCluster-2', 'SLURMCluster-20', 'SLURMCluster-38')\n",
      "Retire workers {<WorkerState 'tcp://18.12.2.6:33685', name: SLURMCluster-10, status: running, memory: 0, processing: 0>, <WorkerState 'tcp://18.12.2.6:44326', name: SLURMCluster-20, status: running, memory: 0, processing: 0>, <WorkerState 'tcp://18.12.2.18:9889', name: SLURMCluster-2, status: running, memory: 0, processing: 0>, <WorkerState 'tcp://18.12.2.6:46770', name: SLURMCluster-38, status: running, memory: 0, processing: 0>}\n",
      "Closing worker tcp://18.12.2.6:33685\n",
      "Remove worker <WorkerState 'tcp://18.12.2.6:33685', name: SLURMCluster-10, status: running, memory: 0, processing: 0>\n",
      "Closing worker tcp://18.12.2.6:44326\n",
      "Remove worker <WorkerState 'tcp://18.12.2.6:44326', name: SLURMCluster-20, status: running, memory: 0, processing: 0>\n",
      "Closing worker tcp://18.12.2.18:9889\n",
      "Remove worker <WorkerState 'tcp://18.12.2.18:9889', name: SLURMCluster-2, status: running, memory: 0, processing: 0>\n",
      "Closing worker tcp://18.12.2.6:46770\n",
      "Remove worker <WorkerState 'tcp://18.12.2.6:46770', name: SLURMCluster-38, status: running, memory: 0, processing: 0>\n"
     ]
    },
    {
     "name": "stdout",
     "output_type": "stream",
     "text": [
      "[###                                     ] | 8% Completed | 27.3s8s"
     ]
    },
    {
     "name": "stderr",
     "output_type": "stream",
     "text": [
      "Register worker <WorkerState 'tcp://18.12.2.6:37090', name: SLURMCluster-66, status: undefined, memory: 0, processing: 0>\n",
      "Starting worker compute stream, tcp://18.12.2.6:37090\n",
      "Register worker <WorkerState 'tcp://18.12.2.6:46199', name: SLURMCluster-85, status: undefined, memory: 0, processing: 0>\n",
      "Starting worker compute stream, tcp://18.12.2.6:46199\n",
      "Register worker <WorkerState 'tcp://18.12.2.6:34877', name: SLURMCluster-83, status: undefined, memory: 0, processing: 0>\n",
      "Starting worker compute stream, tcp://18.12.2.6:34877\n",
      "Register worker <WorkerState 'tcp://18.12.2.7:36888', name: SLURMCluster-55, status: undefined, memory: 0, processing: 0>\n",
      "Starting worker compute stream, tcp://18.12.2.7:36888\n",
      "Register worker <WorkerState 'tcp://18.12.2.7:38781', name: SLURMCluster-87, status: undefined, memory: 0, processing: 0>\n",
      "Starting worker compute stream, tcp://18.12.2.7:38781\n",
      "Register worker <WorkerState 'tcp://18.12.2.7:39862', name: SLURMCluster-84, status: undefined, memory: 0, processing: 0>\n",
      "Starting worker compute stream, tcp://18.12.2.7:39862\n",
      "Register worker <WorkerState 'tcp://18.12.2.7:42623', name: SLURMCluster-49, status: undefined, memory: 0, processing: 0>\n",
      "Starting worker compute stream, tcp://18.12.2.7:42623\n",
      "Register worker <WorkerState 'tcp://18.12.2.7:33165', name: SLURMCluster-99, status: undefined, memory: 0, processing: 0>\n",
      "Starting worker compute stream, tcp://18.12.2.7:33165\n",
      "Register worker <WorkerState 'tcp://18.12.2.7:39834', name: SLURMCluster-121, status: undefined, memory: 0, processing: 0>\n",
      "Starting worker compute stream, tcp://18.12.2.7:39834\n",
      "Register worker <WorkerState 'tcp://18.12.2.7:34717', name: SLURMCluster-107, status: undefined, memory: 0, processing: 0>\n",
      "Starting worker compute stream, tcp://18.12.2.7:34717\n",
      "Register worker <WorkerState 'tcp://18.12.2.7:45289', name: SLURMCluster-130, status: undefined, memory: 0, processing: 0>\n",
      "Starting worker compute stream, tcp://18.12.2.7:45289\n",
      "Register worker <WorkerState 'tcp://18.12.2.7:35751', name: SLURMCluster-64, status: undefined, memory: 0, processing: 0>\n",
      "Starting worker compute stream, tcp://18.12.2.7:35751\n",
      "Register worker <WorkerState 'tcp://18.12.2.7:39483', name: SLURMCluster-109, status: undefined, memory: 0, processing: 0>\n",
      "Starting worker compute stream, tcp://18.12.2.7:39483\n",
      "Register worker <WorkerState 'tcp://18.12.2.18:26707', name: SLURMCluster-70, status: undefined, memory: 0, processing: 0>\n",
      "Starting worker compute stream, tcp://18.12.2.18:26707\n",
      "Register worker <WorkerState 'tcp://18.12.2.2:38330', name: SLURMCluster-124, status: undefined, memory: 0, processing: 0>\n",
      "Starting worker compute stream, tcp://18.12.2.2:38330\n",
      "Register worker <WorkerState 'tcp://18.12.2.2:43670', name: SLURMCluster-127, status: undefined, memory: 0, processing: 0>\n",
      "Starting worker compute stream, tcp://18.12.2.2:43670\n",
      "Register worker <WorkerState 'tcp://18.12.2.5:6931', name: SLURMCluster-131, status: undefined, memory: 0, processing: 0>\n",
      "Starting worker compute stream, tcp://18.12.2.5:6931\n",
      "Register worker <WorkerState 'tcp://18.12.2.5:25522', name: SLURMCluster-52, status: undefined, memory: 0, processing: 0>\n",
      "Starting worker compute stream, tcp://18.12.2.5:25522\n",
      "Register worker <WorkerState 'tcp://18.12.2.5:16788', name: SLURMCluster-94, status: undefined, memory: 0, processing: 0>\n",
      "Starting worker compute stream, tcp://18.12.2.5:16788\n",
      "Register worker <WorkerState 'tcp://18.12.2.5:2547', name: SLURMCluster-93, status: undefined, memory: 0, processing: 0>\n",
      "Starting worker compute stream, tcp://18.12.2.5:2547\n",
      "Register worker <WorkerState 'tcp://18.12.2.5:3996', name: SLURMCluster-74, status: undefined, memory: 0, processing: 0>\n",
      "Starting worker compute stream, tcp://18.12.2.5:3996\n",
      "Register worker <WorkerState 'tcp://18.12.2.5:19409', name: SLURMCluster-102, status: undefined, memory: 0, processing: 0>\n",
      "Starting worker compute stream, tcp://18.12.2.5:19409\n",
      "Register worker <WorkerState 'tcp://18.12.2.5:13315', name: SLURMCluster-132, status: undefined, memory: 0, processing: 0>\n",
      "Starting worker compute stream, tcp://18.12.2.5:13315\n",
      "Register worker <WorkerState 'tcp://18.12.2.8:7601', name: SLURMCluster-105, status: undefined, memory: 0, processing: 0>\n",
      "Starting worker compute stream, tcp://18.12.2.8:7601\n",
      "Register worker <WorkerState 'tcp://18.12.2.8:4151', name: SLURMCluster-114, status: undefined, memory: 0, processing: 0>\n",
      "Starting worker compute stream, tcp://18.12.2.8:4151\n",
      "Register worker <WorkerState 'tcp://18.12.2.8:14382', name: SLURMCluster-106, status: undefined, memory: 0, processing: 0>\n",
      "Starting worker compute stream, tcp://18.12.2.8:14382\n",
      "Register worker <WorkerState 'tcp://18.12.2.8:26131', name: SLURMCluster-54, status: undefined, memory: 0, processing: 0>\n",
      "Starting worker compute stream, tcp://18.12.2.8:26131\n",
      "Register worker <WorkerState 'tcp://18.12.2.8:16119', name: SLURMCluster-89, status: undefined, memory: 0, processing: 0>\n",
      "Starting worker compute stream, tcp://18.12.2.8:16119\n",
      "Register worker <WorkerState 'tcp://18.12.2.8:10811', name: SLURMCluster-129, status: undefined, memory: 0, processing: 0>\n",
      "Starting worker compute stream, tcp://18.12.2.8:10811\n",
      "Register worker <WorkerState 'tcp://18.12.2.8:32965', name: SLURMCluster-119, status: undefined, memory: 0, processing: 0>\n",
      "Starting worker compute stream, tcp://18.12.2.8:32965\n",
      "Register worker <WorkerState 'tcp://18.12.2.8:27641', name: SLURMCluster-67, status: undefined, memory: 0, processing: 0>\n",
      "Starting worker compute stream, tcp://18.12.2.8:27641\n",
      "Register worker <WorkerState 'tcp://18.12.2.8:20323', name: SLURMCluster-63, status: undefined, memory: 0, processing: 0>\n",
      "Starting worker compute stream, tcp://18.12.2.8:20323\n",
      "Register worker <WorkerState 'tcp://18.12.2.8:21132', name: SLURMCluster-134, status: undefined, memory: 0, processing: 0>\n",
      "Starting worker compute stream, tcp://18.12.2.8:21132\n",
      "Register worker <WorkerState 'tcp://18.12.2.9:38296', name: SLURMCluster-101, status: undefined, memory: 0, processing: 0>\n",
      "Starting worker compute stream, tcp://18.12.2.9:38296\n",
      "Register worker <WorkerState 'tcp://18.12.2.9:40586', name: SLURMCluster-123, status: undefined, memory: 0, processing: 0>\n",
      "Starting worker compute stream, tcp://18.12.2.9:40586\n"
     ]
    },
    {
     "name": "stdout",
     "output_type": "stream",
     "text": [
      "[########                                ] | 20% Completed | 27.4s"
     ]
    },
    {
     "name": "stderr",
     "output_type": "stream",
     "text": [
      "Register worker <WorkerState 'tcp://18.12.2.9:33084', name: SLURMCluster-78, status: undefined, memory: 0, processing: 0>\n",
      "Starting worker compute stream, tcp://18.12.2.9:33084\n",
      "Register worker <WorkerState 'tcp://18.12.2.9:36244', name: SLURMCluster-111, status: undefined, memory: 0, processing: 0>\n",
      "Starting worker compute stream, tcp://18.12.2.9:36244\n",
      "Register worker <WorkerState 'tcp://18.12.2.9:44054', name: SLURMCluster-113, status: undefined, memory: 0, processing: 0>\n",
      "Starting worker compute stream, tcp://18.12.2.9:44054\n",
      "Register worker <WorkerState 'tcp://18.12.2.9:37598', name: SLURMCluster-82, status: undefined, memory: 0, processing: 0>\n",
      "Starting worker compute stream, tcp://18.12.2.9:37598\n",
      "Register worker <WorkerState 'tcp://18.12.2.9:43319', name: SLURMCluster-128, status: undefined, memory: 0, processing: 0>\n",
      "Starting worker compute stream, tcp://18.12.2.9:43319\n",
      "Register worker <WorkerState 'tcp://18.12.2.9:36564', name: SLURMCluster-122, status: undefined, memory: 0, processing: 0>\n",
      "Starting worker compute stream, tcp://18.12.2.9:36564\n",
      "Register worker <WorkerState 'tcp://18.12.2.9:44198', name: SLURMCluster-65, status: undefined, memory: 0, processing: 0>\n",
      "Starting worker compute stream, tcp://18.12.2.9:44198\n",
      "Register worker <WorkerState 'tcp://18.12.2.9:43530', name: SLURMCluster-118, status: undefined, memory: 0, processing: 0>\n",
      "Starting worker compute stream, tcp://18.12.2.9:43530\n"
     ]
    },
    {
     "name": "stdout",
     "output_type": "stream",
     "text": [
      "[###########################             ] | 67% Completed | 53.4s"
     ]
    },
    {
     "name": "stderr",
     "output_type": "stream",
     "text": [
      "Retire worker names ('SLURMCluster-50', 'SLURMCluster-194', 'SLURMCluster-145', 'SLURMCluster-266', 'SLURMCluster-152', 'SLURMCluster-245', 'SLURMCluster-217', 'SLURMCluster-246', 'SLURMCluster-90', 'SLURMCluster-120', 'SLURMCluster-60', 'SLURMCluster-239')\n"
     ]
    },
    {
     "name": "stdout",
     "output_type": "stream",
     "text": [
      "[###########################             ] | 69% Completed | 54.4s"
     ]
    },
    {
     "name": "stderr",
     "output_type": "stream",
     "text": [
      "Retire worker names ('SLURMCluster-189', 'SLURMCluster-143', 'SLURMCluster-171', 'SLURMCluster-268', 'SLURMCluster-244', 'SLURMCluster-146', 'SLURMCluster-115', 'SLURMCluster-97', 'SLURMCluster-158', 'SLURMCluster-269', 'SLURMCluster-104', 'SLURMCluster-53', 'SLURMCluster-149', 'SLURMCluster-180', 'SLURMCluster-159', 'SLURMCluster-137', 'SLURMCluster-178', 'SLURMCluster-259', 'SLURMCluster-170', 'SLURMCluster-223', 'SLURMCluster-125', 'SLURMCluster-167', 'SLURMCluster-57', 'SLURMCluster-258', 'SLURMCluster-267', 'SLURMCluster-185', 'SLURMCluster-103', 'SLURMCluster-207', 'SLURMCluster-209', 'SLURMCluster-168', 'SLURMCluster-80', 'SLURMCluster-220', 'SLURMCluster-255')\n"
     ]
    },
    {
     "name": "stdout",
     "output_type": "stream",
     "text": [
      "[#####################################   ] | 93% Completed |  1min  7.4s"
     ]
    },
    {
     "name": "stderr",
     "output_type": "stream",
     "text": [
      "Retire worker names ('SLURMCluster-237', 'SLURMCluster-210', 'SLURMCluster-165', 'SLURMCluster-140', 'SLURMCluster-261', 'SLURMCluster-141', 'SLURMCluster-96', 'SLURMCluster-62', 'SLURMCluster-92', 'SLURMCluster-200', 'SLURMCluster-164', 'SLURMCluster-253', 'SLURMCluster-133', 'SLURMCluster-247', 'SLURMCluster-206', 'SLURMCluster-72', 'SLURMCluster-77', 'SLURMCluster-197', 'SLURMCluster-196', 'SLURMCluster-225', 'SLURMCluster-76', 'SLURMCluster-262', 'SLURMCluster-235', 'SLURMCluster-73', 'SLURMCluster-88', 'SLURMCluster-251', 'SLURMCluster-176', 'SLURMCluster-135', 'SLURMCluster-234', 'SLURMCluster-184', 'SLURMCluster-271')\n"
     ]
    },
    {
     "name": "stdout",
     "output_type": "stream",
     "text": [
      "[####################################### ] | 98% Completed |  1min  9.4s"
     ]
    },
    {
     "name": "stderr",
     "output_type": "stream",
     "text": [
      "Retire worker names ('SLURMCluster-83', 'SLURMCluster-66', 'SLURMCluster-31', 'SLURMCluster-27', 'SLURMCluster-101', 'SLURMCluster-130', 'SLURMCluster-55', 'SLURMCluster-85', 'SLURMCluster-64', 'SLURMCluster-187', 'SLURMCluster-75', 'SLURMCluster-81', 'SLURMCluster-136', 'SLURMCluster-205', 'SLURMCluster-58', 'SLURMCluster-233', 'SLURMCluster-166', 'SLURMCluster-138', 'SLURMCluster-199', 'SLURMCluster-211', 'SLURMCluster-202', 'SLURMCluster-218', 'SLURMCluster-98', 'SLURMCluster-188', 'SLURMCluster-232', 'SLURMCluster-238', 'SLURMCluster-252', 'SLURMCluster-172', 'SLURMCluster-256', 'SLURMCluster-84', 'SLURMCluster-241', 'SLURMCluster-270', 'SLURMCluster-163', 'SLURMCluster-109', 'SLURMCluster-100', 'SLURMCluster-126', 'SLURMCluster-198', 'SLURMCluster-249', 'SLURMCluster-142', 'SLURMCluster-71', 'SLURMCluster-117', 'SLURMCluster-144', 'SLURMCluster-56', 'SLURMCluster-192', 'SLURMCluster-79', 'SLURMCluster-118', 'SLURMCluster-179', 'SLURMCluster-157', 'SLURMCluster-177', 'SLURMCluster-226', 'SLURMCluster-110', 'SLURMCluster-86', 'SLURMCluster-155', 'SLURMCluster-59', 'SLURMCluster-132', 'SLURMCluster-248', 'SLURMCluster-153', 'SLURMCluster-173', 'SLURMCluster-116', 'SLURMCluster-254', 'SLURMCluster-214', 'SLURMCluster-175', 'SLURMCluster-230', 'SLURMCluster-161', 'SLURMCluster-263', 'SLURMCluster-156', 'SLURMCluster-154', 'SLURMCluster-216', 'SLURMCluster-169', 'SLURMCluster-265', 'SLURMCluster-227', 'SLURMCluster-119', 'SLURMCluster-150', 'SLURMCluster-193', 'SLURMCluster-204', 'SLURMCluster-221', 'SLURMCluster-160', 'SLURMCluster-195', 'SLURMCluster-51', 'SLURMCluster-236', 'SLURMCluster-190', 'SLURMCluster-69', 'SLURMCluster-147', 'SLURMCluster-228', 'SLURMCluster-131', 'SLURMCluster-121', 'SLURMCluster-181', 'SLURMCluster-203', 'SLURMCluster-63', 'SLURMCluster-208', 'SLURMCluster-212', 'SLURMCluster-242', 'SLURMCluster-229', 'SLURMCluster-213', 'SLURMCluster-183', 'SLURMCluster-82', 'SLURMCluster-191', 'SLURMCluster-264', 'SLURMCluster-174', 'SLURMCluster-112', 'SLURMCluster-139', 'SLURMCluster-151', 'SLURMCluster-215', 'SLURMCluster-222', 'SLURMCluster-182', 'SLURMCluster-219', 'SLURMCluster-260', 'SLURMCluster-68', 'SLURMCluster-201', 'SLURMCluster-250', 'SLURMCluster-108', 'SLURMCluster-148', 'SLURMCluster-95', 'SLURMCluster-257', 'SLURMCluster-162', 'SLURMCluster-61', 'SLURMCluster-91', 'SLURMCluster-240', 'SLURMCluster-231', 'SLURMCluster-243', 'SLURMCluster-186', 'SLURMCluster-224')\n",
      "Retire workers {<WorkerState 'tcp://18.12.2.9:37598', name: SLURMCluster-82, status: running, memory: 4, processing: 0>, <WorkerState 'tcp://18.12.2.8:32965', name: SLURMCluster-119, status: running, memory: 2, processing: 0>, <WorkerState 'tcp://18.12.2.9:38296', name: SLURMCluster-101, status: running, memory: 2, processing: 0>, <WorkerState 'tcp://18.12.2.7:35751', name: SLURMCluster-64, status: running, memory: 2, processing: 0>, <WorkerState 'tcp://18.12.2.6:45918', name: SLURMCluster-31, status: running, memory: 5, processing: 0>, <WorkerState 'tcp://18.12.2.7:36888', name: SLURMCluster-55, status: running, memory: 3, processing: 0>, <WorkerState 'tcp://18.12.2.5:6931', name: SLURMCluster-131, status: running, memory: 2, processing: 0>, <WorkerState 'tcp://18.12.2.6:34877', name: SLURMCluster-83, status: running, memory: 2, processing: 0>, <WorkerState 'tcp://18.12.2.6:34596', name: SLURMCluster-27, status: running, memory: 5, processing: 0>, <WorkerState 'tcp://18.12.2.6:46199', name: SLURMCluster-85, status: running, memory: 2, processing: 0>, <WorkerState 'tcp://18.12.2.7:45289', name: SLURMCluster-130, status: running, memory: 3, processing: 0>, <WorkerState 'tcp://18.12.2.6:37090', name: SLURMCluster-66, status: running, memory: 5, processing: 0>, <WorkerState 'tcp://18.12.2.5:13315', name: SLURMCluster-132, status: running, memory: 1, processing: 0>, <WorkerState 'tcp://18.12.2.8:20323', name: SLURMCluster-63, status: running, memory: 2, processing: 0>, <WorkerState 'tcp://18.12.2.7:39483', name: SLURMCluster-109, status: running, memory: 1, processing: 0>, <WorkerState 'tcp://18.12.2.7:39834', name: SLURMCluster-121, status: running, memory: 2, processing: 0>, <WorkerState 'tcp://18.12.2.7:39862', name: SLURMCluster-84, status: running, memory: 3, processing: 0>, <WorkerState 'tcp://18.12.2.9:43530', name: SLURMCluster-118, status: running, memory: 3, processing: 0>}\n",
      "Moving 29 keys to other workers\n"
     ]
    },
    {
     "name": "stdout",
     "output_type": "stream",
     "text": [
      "[####################################### ] | 98% Completed |  1min  9.5s"
     ]
    },
    {
     "name": "stderr",
     "output_type": "stream",
     "text": [
      "Closing worker tcp://18.12.2.9:37598\n",
      "Remove worker <WorkerState 'tcp://18.12.2.9:37598', name: SLURMCluster-82, status: running, memory: 4, processing: 0>\n",
      "Closing worker tcp://18.12.2.8:32965\n",
      "Remove worker <WorkerState 'tcp://18.12.2.8:32965', name: SLURMCluster-119, status: running, memory: 2, processing: 0>\n",
      "Closing worker tcp://18.12.2.9:38296\n",
      "Remove worker <WorkerState 'tcp://18.12.2.9:38296', name: SLURMCluster-101, status: running, memory: 2, processing: 0>\n",
      "Closing worker tcp://18.12.2.7:35751\n",
      "Remove worker <WorkerState 'tcp://18.12.2.7:35751', name: SLURMCluster-64, status: running, memory: 2, processing: 0>\n",
      "Closing worker tcp://18.12.2.6:45918\n",
      "Remove worker <WorkerState 'tcp://18.12.2.6:45918', name: SLURMCluster-31, status: running, memory: 5, processing: 0>\n",
      "Closing worker tcp://18.12.2.7:36888\n",
      "Remove worker <WorkerState 'tcp://18.12.2.7:36888', name: SLURMCluster-55, status: running, memory: 3, processing: 0>\n",
      "Closing worker tcp://18.12.2.5:6931\n",
      "Remove worker <WorkerState 'tcp://18.12.2.5:6931', name: SLURMCluster-131, status: running, memory: 2, processing: 0>\n",
      "Closing worker tcp://18.12.2.6:34877\n",
      "Remove worker <WorkerState 'tcp://18.12.2.6:34877', name: SLURMCluster-83, status: running, memory: 2, processing: 0>\n",
      "Closing worker tcp://18.12.2.6:34596\n",
      "Remove worker <WorkerState 'tcp://18.12.2.6:34596', name: SLURMCluster-27, status: running, memory: 5, processing: 0>\n",
      "Closing worker tcp://18.12.2.6:46199\n",
      "Remove worker <WorkerState 'tcp://18.12.2.6:46199', name: SLURMCluster-85, status: running, memory: 2, processing: 0>\n",
      "Closing worker tcp://18.12.2.7:45289\n",
      "Remove worker <WorkerState 'tcp://18.12.2.7:45289', name: SLURMCluster-130, status: running, memory: 3, processing: 0>\n",
      "Closing worker tcp://18.12.2.6:37090\n",
      "Remove worker <WorkerState 'tcp://18.12.2.6:37090', name: SLURMCluster-66, status: running, memory: 5, processing: 0>\n",
      "Closing worker tcp://18.12.2.5:13315\n",
      "Remove worker <WorkerState 'tcp://18.12.2.5:13315', name: SLURMCluster-132, status: running, memory: 1, processing: 0>\n",
      "Closing worker tcp://18.12.2.8:20323\n",
      "Remove worker <WorkerState 'tcp://18.12.2.8:20323', name: SLURMCluster-63, status: running, memory: 2, processing: 0>\n",
      "Closing worker tcp://18.12.2.7:39483\n",
      "Remove worker <WorkerState 'tcp://18.12.2.7:39483', name: SLURMCluster-109, status: running, memory: 1, processing: 0>\n",
      "Closing worker tcp://18.12.2.7:39834\n",
      "Remove worker <WorkerState 'tcp://18.12.2.7:39834', name: SLURMCluster-121, status: running, memory: 2, processing: 0>\n",
      "Closing worker tcp://18.12.2.7:39862\n",
      "Remove worker <WorkerState 'tcp://18.12.2.7:39862', name: SLURMCluster-84, status: running, memory: 3, processing: 0>\n",
      "Closing worker tcp://18.12.2.9:43530\n",
      "Remove worker <WorkerState 'tcp://18.12.2.9:43530', name: SLURMCluster-118, status: running, memory: 3, processing: 0>\n"
     ]
    },
    {
     "name": "stdout",
     "output_type": "stream",
     "text": [
      "[####################################### ] | 99% Completed |  1min 29.4s"
     ]
    },
    {
     "name": "stderr",
     "output_type": "stream",
     "text": [
      "Retire worker names ('SLURMCluster-48', 'SLURMCluster-114', 'SLURMCluster-18', 'SLURMCluster-113', 'SLURMCluster-129', 'SLURMCluster-122', 'SLURMCluster-102', 'SLURMCluster-8', 'SLURMCluster-78', 'SLURMCluster-111', 'SLURMCluster-44')\n",
      "Retire workers {<WorkerState 'tcp://18.12.2.18:13593', name: SLURMCluster-8, status: running, memory: 3, processing: 0>, <WorkerState 'tcp://18.12.2.5:19409', name: SLURMCluster-102, status: running, memory: 1, processing: 0>, <WorkerState 'tcp://18.12.2.5:8145', name: SLURMCluster-18, status: running, memory: 2, processing: 0>, <WorkerState 'tcp://18.12.2.2:38321', name: SLURMCluster-44, status: running, memory: 1, processing: 0>, <WorkerState 'tcp://18.12.2.9:33084', name: SLURMCluster-78, status: running, memory: 2, processing: 0>, <WorkerState 'tcp://18.12.2.8:10811', name: SLURMCluster-129, status: running, memory: 1, processing: 0>, <WorkerState 'tcp://18.12.2.9:36244', name: SLURMCluster-111, status: running, memory: 2, processing: 0>, <WorkerState 'tcp://18.12.2.2:45064', name: SLURMCluster-48, status: running, memory: 1, processing: 0>, <WorkerState 'tcp://18.12.2.9:36564', name: SLURMCluster-122, status: running, memory: 1, processing: 0>, <WorkerState 'tcp://18.12.2.9:44054', name: SLURMCluster-113, status: running, memory: 1, processing: 0>, <WorkerState 'tcp://18.12.2.8:4151', name: SLURMCluster-114, status: running, memory: 2, processing: 0>}\n",
      "Moving 6 keys to other workers\n",
      "Closing worker tcp://18.12.2.18:13593\n",
      "Remove worker <WorkerState 'tcp://18.12.2.18:13593', name: SLURMCluster-8, status: running, memory: 3, processing: 0>\n",
      "Closing worker tcp://18.12.2.5:19409\n",
      "Remove worker <WorkerState 'tcp://18.12.2.5:19409', name: SLURMCluster-102, status: running, memory: 1, processing: 0>\n",
      "Closing worker tcp://18.12.2.5:8145\n",
      "Remove worker <WorkerState 'tcp://18.12.2.5:8145', name: SLURMCluster-18, status: running, memory: 2, processing: 0>\n",
      "Closing worker tcp://18.12.2.2:38321\n",
      "Remove worker <WorkerState 'tcp://18.12.2.2:38321', name: SLURMCluster-44, status: running, memory: 1, processing: 0>\n",
      "Closing worker tcp://18.12.2.9:33084\n",
      "Remove worker <WorkerState 'tcp://18.12.2.9:33084', name: SLURMCluster-78, status: running, memory: 2, processing: 0>\n",
      "Closing worker tcp://18.12.2.8:10811\n",
      "Remove worker <WorkerState 'tcp://18.12.2.8:10811', name: SLURMCluster-129, status: running, memory: 1, processing: 0>\n",
      "Closing worker tcp://18.12.2.9:36244\n",
      "Remove worker <WorkerState 'tcp://18.12.2.9:36244', name: SLURMCluster-111, status: running, memory: 2, processing: 0>\n",
      "Closing worker tcp://18.12.2.2:45064\n",
      "Remove worker <WorkerState 'tcp://18.12.2.2:45064', name: SLURMCluster-48, status: running, memory: 1, processing: 0>\n",
      "Closing worker tcp://18.12.2.9:36564\n",
      "Remove worker <WorkerState 'tcp://18.12.2.9:36564', name: SLURMCluster-122, status: running, memory: 1, processing: 0>\n",
      "Closing worker tcp://18.12.2.9:44054\n",
      "Remove worker <WorkerState 'tcp://18.12.2.9:44054', name: SLURMCluster-113, status: running, memory: 1, processing: 0>\n",
      "Closing worker tcp://18.12.2.8:4151\n",
      "Remove worker <WorkerState 'tcp://18.12.2.8:4151', name: SLURMCluster-114, status: running, memory: 2, processing: 0>\n"
     ]
    },
    {
     "name": "stdout",
     "output_type": "stream",
     "text": [
      "[####################################### ] | 99% Completed |  1min 30.4s"
     ]
    },
    {
     "name": "stderr",
     "output_type": "stream",
     "text": [
      "Retire worker names ('SLURMCluster-52', 'SLURMCluster-9', 'SLURMCluster-105', 'SLURMCluster-65', 'SLURMCluster-127', 'SLURMCluster-0', 'SLURMCluster-3', 'SLURMCluster-14', 'SLURMCluster-99', 'SLURMCluster-74', 'SLURMCluster-41', 'SLURMCluster-124', 'SLURMCluster-54', 'SLURMCluster-93', 'SLURMCluster-49', 'SLURMCluster-107', 'SLURMCluster-106', 'SLURMCluster-17', 'SLURMCluster-6', 'SLURMCluster-33', 'SLURMCluster-67', 'SLURMCluster-89', 'SLURMCluster-7', 'SLURMCluster-1', 'SLURMCluster-128', 'SLURMCluster-11', 'SLURMCluster-42', 'SLURMCluster-5', 'SLURMCluster-45', 'SLURMCluster-34', 'SLURMCluster-12', 'SLURMCluster-29', 'SLURMCluster-70', 'SLURMCluster-94', 'SLURMCluster-23', 'SLURMCluster-87', 'SLURMCluster-25')\n",
      "Retire workers {<WorkerState 'tcp://18.12.2.8:16119', name: SLURMCluster-89, status: running, memory: 1, processing: 0>, <WorkerState 'tcp://18.12.2.5:2547', name: SLURMCluster-93, status: running, memory: 1, processing: 0>, <WorkerState 'tcp://18.12.2.18:16403', name: SLURMCluster-0, status: running, memory: 4, processing: 0>, <WorkerState 'tcp://18.12.2.9:43319', name: SLURMCluster-128, status: running, memory: 4, processing: 0>, <WorkerState 'tcp://18.12.2.5:25522', name: SLURMCluster-52, status: running, memory: 2, processing: 0>, <WorkerState 'tcp://18.12.2.5:16788', name: SLURMCluster-94, status: running, memory: 3, processing: 0>, <WorkerState 'tcp://18.12.2.7:33165', name: SLURMCluster-99, status: running, memory: 1, processing: 0>, <WorkerState 'tcp://18.12.2.2:38330', name: SLURMCluster-124, status: running, memory: 1, processing: 0>, <WorkerState 'tcp://18.12.2.5:29569', name: SLURMCluster-34, status: running, memory: 1, processing: 0>, <WorkerState 'tcp://18.12.2.6:36104', name: SLURMCluster-14, status: running, memory: 4, processing: 0>, <WorkerState 'tcp://18.12.2.18:17382', name: SLURMCluster-6, status: running, memory: 3, processing: 0>, <WorkerState 'tcp://18.12.2.18:16224', name: SLURMCluster-5, status: running, memory: 1, processing: 0>, <WorkerState 'tcp://18.12.2.18:26707', name: SLURMCluster-70, status: running, memory: 1, processing: 0>, <WorkerState 'tcp://18.12.2.18:6504', name: SLURMCluster-1, status: running, memory: 2, processing: 0>, <WorkerState 'tcp://18.12.2.5:31040', name: SLURMCluster-12, status: running, memory: 3, processing: 0>, <WorkerState 'tcp://18.12.2.2:34865', name: SLURMCluster-33, status: running, memory: 1, processing: 0>, <WorkerState 'tcp://18.12.2.7:38781', name: SLURMCluster-87, status: running, memory: 2, processing: 0>, <WorkerState 'tcp://18.12.2.8:7601', name: SLURMCluster-105, status: running, memory: 3, processing: 0>, <WorkerState 'tcp://18.12.2.2:44257', name: SLURMCluster-45, status: running, memory: 1, processing: 0>, <WorkerState 'tcp://18.12.2.5:3996', name: SLURMCluster-74, status: running, memory: 1, processing: 0>, <WorkerState 'tcp://18.12.2.8:27641', name: SLURMCluster-67, status: running, memory: 1, processing: 0>, <WorkerState 'tcp://18.12.2.7:42623', name: SLURMCluster-49, status: running, memory: 2, processing: 0>, <WorkerState 'tcp://18.12.2.2:36167', name: SLURMCluster-41, status: running, memory: 1, processing: 0>, <WorkerState 'tcp://18.12.2.8:26131', name: SLURMCluster-54, status: running, memory: 4, processing: 0>, <WorkerState 'tcp://18.12.2.18:28693', name: SLURMCluster-9, status: running, memory: 2, processing: 0>, <WorkerState 'tcp://18.12.2.6:40098', name: SLURMCluster-42, status: running, memory: 1, processing: 0>, <WorkerState 'tcp://18.12.2.8:14382', name: SLURMCluster-106, status: running, memory: 2, processing: 0>, <WorkerState 'tcp://18.12.2.6:37854', name: SLURMCluster-17, status: running, memory: 2, processing: 0>, <WorkerState 'tcp://18.12.2.6:44837', name: SLURMCluster-11, status: running, memory: 3, processing: 0>, <WorkerState 'tcp://18.12.2.7:34717', name: SLURMCluster-107, status: running, memory: 3, processing: 0>, <WorkerState 'tcp://18.12.2.18:15678', name: SLURMCluster-3, status: running, memory: 2, processing: 0>, <WorkerState 'tcp://18.12.2.18:2631', name: SLURMCluster-7, status: running, memory: 1, processing: 0>, <WorkerState 'tcp://18.12.2.2:43670', name: SLURMCluster-127, status: running, memory: 1, processing: 0>, <WorkerState 'tcp://18.12.2.6:37555', name: SLURMCluster-29, status: running, memory: 2, processing: 0>, <WorkerState 'tcp://18.12.2.9:44198', name: SLURMCluster-65, status: running, memory: 3, processing: 0>, <WorkerState 'tcp://18.12.2.2:42794', name: SLURMCluster-25, status: running, memory: 2, processing: 0>, <WorkerState 'tcp://18.12.2.2:35343', name: SLURMCluster-23, status: running, memory: 1, processing: 0>}\n",
      "Moving 36 keys to other workers\n"
     ]
    },
    {
     "name": "stdout",
     "output_type": "stream",
     "text": [
      "[####################################### ] | 99% Completed |  1min 30.5s"
     ]
    },
    {
     "name": "stderr",
     "output_type": "stream",
     "text": [
      "Closing worker tcp://18.12.2.8:16119\n",
      "Remove worker <WorkerState 'tcp://18.12.2.8:16119', name: SLURMCluster-89, status: running, memory: 1, processing: 0>\n",
      "Closing worker tcp://18.12.2.5:2547\n",
      "Remove worker <WorkerState 'tcp://18.12.2.5:2547', name: SLURMCluster-93, status: running, memory: 1, processing: 0>\n",
      "Closing worker tcp://18.12.2.18:16403\n",
      "Remove worker <WorkerState 'tcp://18.12.2.18:16403', name: SLURMCluster-0, status: running, memory: 4, processing: 0>\n",
      "Closing worker tcp://18.12.2.9:43319\n",
      "Remove worker <WorkerState 'tcp://18.12.2.9:43319', name: SLURMCluster-128, status: running, memory: 4, processing: 0>\n",
      "Closing worker tcp://18.12.2.5:25522\n",
      "Remove worker <WorkerState 'tcp://18.12.2.5:25522', name: SLURMCluster-52, status: running, memory: 2, processing: 0>\n",
      "Closing worker tcp://18.12.2.5:16788\n",
      "Remove worker <WorkerState 'tcp://18.12.2.5:16788', name: SLURMCluster-94, status: running, memory: 3, processing: 0>\n",
      "Closing worker tcp://18.12.2.7:33165\n",
      "Remove worker <WorkerState 'tcp://18.12.2.7:33165', name: SLURMCluster-99, status: running, memory: 1, processing: 0>\n",
      "Closing worker tcp://18.12.2.2:38330\n",
      "Remove worker <WorkerState 'tcp://18.12.2.2:38330', name: SLURMCluster-124, status: running, memory: 1, processing: 0>\n",
      "Closing worker tcp://18.12.2.5:29569\n",
      "Remove worker <WorkerState 'tcp://18.12.2.5:29569', name: SLURMCluster-34, status: running, memory: 1, processing: 0>\n",
      "Closing worker tcp://18.12.2.6:36104\n",
      "Remove worker <WorkerState 'tcp://18.12.2.6:36104', name: SLURMCluster-14, status: running, memory: 4, processing: 0>\n",
      "Closing worker tcp://18.12.2.18:17382\n",
      "Remove worker <WorkerState 'tcp://18.12.2.18:17382', name: SLURMCluster-6, status: running, memory: 3, processing: 0>\n",
      "Closing worker tcp://18.12.2.18:16224\n",
      "Remove worker <WorkerState 'tcp://18.12.2.18:16224', name: SLURMCluster-5, status: running, memory: 1, processing: 0>\n",
      "Closing worker tcp://18.12.2.18:26707\n",
      "Remove worker <WorkerState 'tcp://18.12.2.18:26707', name: SLURMCluster-70, status: running, memory: 1, processing: 0>\n",
      "Closing worker tcp://18.12.2.18:6504\n",
      "Remove worker <WorkerState 'tcp://18.12.2.18:6504', name: SLURMCluster-1, status: running, memory: 2, processing: 0>\n",
      "Closing worker tcp://18.12.2.5:31040\n",
      "Remove worker <WorkerState 'tcp://18.12.2.5:31040', name: SLURMCluster-12, status: running, memory: 3, processing: 0>\n",
      "Closing worker tcp://18.12.2.2:34865\n",
      "Remove worker <WorkerState 'tcp://18.12.2.2:34865', name: SLURMCluster-33, status: running, memory: 1, processing: 0>\n",
      "Closing worker tcp://18.12.2.7:38781\n",
      "Remove worker <WorkerState 'tcp://18.12.2.7:38781', name: SLURMCluster-87, status: running, memory: 2, processing: 0>\n",
      "Closing worker tcp://18.12.2.8:7601\n",
      "Remove worker <WorkerState 'tcp://18.12.2.8:7601', name: SLURMCluster-105, status: running, memory: 3, processing: 0>\n",
      "Closing worker tcp://18.12.2.2:44257\n",
      "Remove worker <WorkerState 'tcp://18.12.2.2:44257', name: SLURMCluster-45, status: running, memory: 1, processing: 0>\n",
      "Closing worker tcp://18.12.2.5:3996\n",
      "Remove worker <WorkerState 'tcp://18.12.2.5:3996', name: SLURMCluster-74, status: running, memory: 1, processing: 0>\n",
      "Closing worker tcp://18.12.2.8:27641\n",
      "Remove worker <WorkerState 'tcp://18.12.2.8:27641', name: SLURMCluster-67, status: running, memory: 1, processing: 0>\n",
      "Closing worker tcp://18.12.2.7:42623\n",
      "Remove worker <WorkerState 'tcp://18.12.2.7:42623', name: SLURMCluster-49, status: running, memory: 2, processing: 0>\n",
      "Closing worker tcp://18.12.2.2:36167\n",
      "Remove worker <WorkerState 'tcp://18.12.2.2:36167', name: SLURMCluster-41, status: running, memory: 1, processing: 0>\n",
      "Closing worker tcp://18.12.2.8:26131\n",
      "Remove worker <WorkerState 'tcp://18.12.2.8:26131', name: SLURMCluster-54, status: running, memory: 4, processing: 0>\n",
      "Closing worker tcp://18.12.2.18:28693\n",
      "Remove worker <WorkerState 'tcp://18.12.2.18:28693', name: SLURMCluster-9, status: running, memory: 2, processing: 0>\n",
      "Closing worker tcp://18.12.2.6:40098\n",
      "Remove worker <WorkerState 'tcp://18.12.2.6:40098', name: SLURMCluster-42, status: running, memory: 1, processing: 0>\n",
      "Closing worker tcp://18.12.2.8:14382\n",
      "Remove worker <WorkerState 'tcp://18.12.2.8:14382', name: SLURMCluster-106, status: running, memory: 2, processing: 0>\n",
      "Closing worker tcp://18.12.2.6:37854\n",
      "Remove worker <WorkerState 'tcp://18.12.2.6:37854', name: SLURMCluster-17, status: running, memory: 2, processing: 0>\n",
      "Closing worker tcp://18.12.2.6:44837\n",
      "Remove worker <WorkerState 'tcp://18.12.2.6:44837', name: SLURMCluster-11, status: running, memory: 3, processing: 0>\n",
      "Closing worker tcp://18.12.2.7:34717\n",
      "Remove worker <WorkerState 'tcp://18.12.2.7:34717', name: SLURMCluster-107, status: running, memory: 3, processing: 0>\n",
      "Closing worker tcp://18.12.2.18:15678\n",
      "Remove worker <WorkerState 'tcp://18.12.2.18:15678', name: SLURMCluster-3, status: running, memory: 2, processing: 0>\n",
      "Closing worker tcp://18.12.2.18:2631\n",
      "Remove worker <WorkerState 'tcp://18.12.2.18:2631', name: SLURMCluster-7, status: running, memory: 1, processing: 0>\n",
      "Closing worker tcp://18.12.2.2:43670\n",
      "Remove worker <WorkerState 'tcp://18.12.2.2:43670', name: SLURMCluster-127, status: running, memory: 1, processing: 0>\n",
      "Closing worker tcp://18.12.2.6:37555\n",
      "Remove worker <WorkerState 'tcp://18.12.2.6:37555', name: SLURMCluster-29, status: running, memory: 2, processing: 0>\n",
      "Closing worker tcp://18.12.2.9:44198\n",
      "Remove worker <WorkerState 'tcp://18.12.2.9:44198', name: SLURMCluster-65, status: running, memory: 3, processing: 0>\n",
      "Closing worker tcp://18.12.2.2:42794\n",
      "Remove worker <WorkerState 'tcp://18.12.2.2:42794', name: SLURMCluster-25, status: running, memory: 2, processing: 0>\n",
      "Closing worker tcp://18.12.2.2:35343\n",
      "Remove worker <WorkerState 'tcp://18.12.2.2:35343', name: SLURMCluster-23, status: running, memory: 1, processing: 0>\n"
     ]
    },
    {
     "name": "stdout",
     "output_type": "stream",
     "text": [
      "[####################################### ] | 99% Completed |  1min 32.4s"
     ]
    },
    {
     "name": "stderr",
     "output_type": "stream",
     "text": [
      "Retire worker names ('SLURMCluster-35', 'SLURMCluster-134')\n",
      "Retire workers {<WorkerState 'tcp://18.12.2.2:33538', name: SLURMCluster-35, status: running, memory: 10, processing: 0>, <WorkerState 'tcp://18.12.2.8:21132', name: SLURMCluster-134, status: running, memory: 13, processing: 0>}\n",
      "Moving 21 keys to other workers\n",
      "Closing worker tcp://18.12.2.2:33538\n",
      "Remove worker <WorkerState 'tcp://18.12.2.2:33538', name: SLURMCluster-35, status: running, memory: 10, processing: 0>\n",
      "Closing worker tcp://18.12.2.8:21132\n",
      "Remove worker <WorkerState 'tcp://18.12.2.8:21132', name: SLURMCluster-134, status: running, memory: 13, processing: 0>\n"
     ]
    },
    {
     "name": "stdout",
     "output_type": "stream",
     "text": [
      "[####################################### ] | 99% Completed |  1min 34.4s"
     ]
    },
    {
     "name": "stderr",
     "output_type": "stream",
     "text": [
      "Retire worker names ('SLURMCluster-4',)\n",
      "Retire workers {<WorkerState 'tcp://18.12.2.18:12726', name: SLURMCluster-4, status: running, memory: 21, processing: 0>}\n",
      "Moving 20 keys to other workers\n",
      "Closing worker tcp://18.12.2.18:12726\n",
      "Remove worker <WorkerState 'tcp://18.12.2.18:12726', name: SLURMCluster-4, status: running, memory: 21, processing: 0>\n"
     ]
    },
    {
     "name": "stdout",
     "output_type": "stream",
     "text": [
      "[########################################] | 100% Completed |  1min 34.8s\r"
     ]
    }
   ],
   "source": [
    "with performance_report(filename=\"dask-report.html\"):\n",
    "    output = processor.run_uproot_job(sample_dict,\n",
    "             treename='Events',\n",
    "             processor_instance=processor_instance,\n",
    "             executor=processor.dask_executor,\n",
    "             executor_args={\n",
    "                           'client': client,\n",
    "                           #'skipbadfiles': skipbadfiles,\n",
    "                           'schema': processor.NanoAODSchema,\n",
    "                           'xrootdtimeout': 10,\n",
    "                           'retries': 3,\n",
    "                           },\n",
    "             chunksize=chunksize,\n",
    "             maxchunks=maxchunks)"
   ]
  },
  {
   "cell_type": "code",
   "execution_count": 10,
   "id": "2b330d1a-1607-4936-a71a-d16fa59b0244",
   "metadata": {},
   "outputs": [
    {
     "data": {
      "text/plain": [
       "<Hist (NMuons) instance at 0x7f66c4e3aac0>"
      ]
     },
     "execution_count": 10,
     "metadata": {},
     "output_type": "execute_result"
    }
   ],
   "source": [
    "output['N_Muons']"
   ]
  },
  {
   "cell_type": "code",
   "execution_count": 13,
   "id": "bbe2822f-d725-47f2-9d38-f6e2d5a0ceea",
   "metadata": {},
   "outputs": [
    {
     "name": "stderr",
     "output_type": "stream",
     "text": [
      "/home/submit/freerc/miniforge3/envs/dask/lib/python3.9/site-packages/numpy/core/_methods.py:44: RuntimeWarning: invalid value encountered in reduce\n",
      "  return umr_minimum(a, axis, None, out, keepdims, initial, where)\n",
      "/home/submit/freerc/miniforge3/envs/dask/lib/python3.9/site-packages/numpy/core/_methods.py:40: RuntimeWarning: invalid value encountered in reduce\n",
      "  return umr_maximum(a, axis, None, out, keepdims, initial, where)\n"
     ]
    },
    {
     "data": {
      "text/plain": [
       "<AxesSubplot:xlabel='Num Muons', ylabel='Events'>"
      ]
     },
     "execution_count": 13,
     "metadata": {},
     "output_type": "execute_result"
    },
    {
     "data": {
      "image/png": "[encoded data removed]",
      "text/plain": [
       "<Figure size 432x288 with 1 Axes>"
      ]
     },
     "metadata": {
      "needs_background": "light"
     },
     "output_type": "display_data"
    }
   ],
   "source": [
    "import mplhep as hep\n",
    "#import hist\n",
    "from coffea import hist\n",
    "\n",
    "# {\"ALICE\" | \"ATLAS\" | \"CMS\" | \"LHCb1\" | \"LHCb2\"}\n",
    "hep.cms.label(data=False, lumi=60, year=2018)\n",
    "\n",
    "import matplotlib.pyplot as plt\n",
    "hist.plot1d(output['N_Muons'])"
   ]
  },
  {
   "cell_type": "code",
   "execution_count": 14,
   "id": "0801beab-7cc9-465e-b177-8330359fafa9",
   "metadata": {},
   "outputs": [
    {
     "name": "stderr",
     "output_type": "stream",
     "text": [
      "/home/submit/freerc/miniforge3/envs/dask/lib/python3.9/site-packages/numpy/core/_methods.py:44: RuntimeWarning: invalid value encountered in reduce\n",
      "  return umr_minimum(a, axis, None, out, keepdims, initial, where)\n",
      "/home/submit/freerc/miniforge3/envs/dask/lib/python3.9/site-packages/numpy/core/_methods.py:40: RuntimeWarning: invalid value encountered in reduce\n",
      "  return umr_maximum(a, axis, None, out, keepdims, initial, where)\n"
     ]
    },
    {
     "data": {
      "text/plain": [
       "<AxesSubplot:xlabel='Num Electrons', ylabel='Events'>"
      ]
     },
     "execution_count": 14,
     "metadata": {},
     "output_type": "execute_result"
    },
    {
     "data": {
      "image/png": "[encoded data removed]",
      "text/plain": [
       "<Figure size 432x288 with 1 Axes>"
      ]
     },
     "metadata": {
      "needs_background": "light"
     },
     "output_type": "display_data"
    },
    {
     "name": "stderr",
     "output_type": "stream",
     "text": [
      "Remove worker <WorkerState 'tcp://18.12.2.9:40586', name: SLURMCluster-123, status: running, memory: 0, processing: 0>\n",
      "Lost all workers\n",
      "Register worker <WorkerState 'tcp://18.12.2.18:23426', name: SLURMCluster-123, status: undefined, memory: 0, processing: 0>\n",
      "Starting worker compute stream, tcp://18.12.2.18:23426\n"
     ]
    }
   ],
   "source": [
    "hep.cms.label(data=False, lumi=60, year=2018)\n",
    "hist.plot1d(output['N_Electrons'])"
   ]
  },
  {
   "cell_type": "code",
   "execution_count": null,
   "id": "20a9b88c-3816-412f-9417-3c305379090f",
   "metadata": {},
   "outputs": [],
   "source": []
  }
 ],
 "metadata": {
  "kernelspec": {
   "display_name": "dask",
   "language": "python",
   "name": "dask"
  },
  "language_info": {
   "codemirror_mode": {
    "name": "ipython",
    "version": 3
   },
   "file_extension": ".py",
   "mimetype": "text/x-python",
   "name": "python",
   "nbconvert_exporter": "python",
   "pygments_lexer": "ipython3",
   "version": "3.9.5"
  }
 },
 "nbformat": 4,
 "nbformat_minor": 5
}
