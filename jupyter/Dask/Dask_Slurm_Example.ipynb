{
 "cells": [
  {
   "cell_type": "markdown",
   "id": "89478bce-c68d-4738-b62d-b288e49503ba",
   "metadata": {},
   "source": [
    "# Dask through Jupyter Notebooks"
   ]
  },
  {
   "cell_type": "markdown",
   "id": "f460629d-0db7-464c-bbdb-5179b3006905",
   "metadata": {},
   "source": [
    "This notebook will guide you through using Dask to analyze some simple functions using a Slurm Cluster on SubMIT. This notebook utilizes a conda environment and then exports that environment in the slurm jobs. Follow the README for instructions on the conda environment. "
   ]
  },
  {
   "cell_type": "code",
   "execution_count": 1,
   "id": "36c07901-136b-4e4e-9146-33a52a8d671e",
   "metadata": {},
   "outputs": [
    {
     "name": "stderr",
     "output_type": "stream",
     "text": [
      "/home/submit/freerc/miniforge3/envs/dask/lib/python3.9/site-packages/dask_jobqueue/core.py:20: FutureWarning: tmpfile is deprecated and will be removed in a future release. Please use dask.utils.tmpfile instead.\n",
      "  from distributed.utils import tmpfile\n"
     ]
    }
   ],
   "source": [
    "import os\n",
    "\n",
    "from dask_jobqueue import SLURMCluster\n",
    "from distributed import Client\n",
    "from dask.distributed import performance_report"
   ]
  },
  {
   "cell_type": "code",
   "execution_count": 16,
   "id": "a2ae7fe0-0bda-471a-b79b-cc6e25849edd",
   "metadata": {},
   "outputs": [],
   "source": [
    "def check_port(port):\n",
    "    import socket\n",
    "    sock = socket.socket(socket.AF_INET, socket.SOCK_STREAM)\n",
    "    try:\n",
    "        sock.bind((\"0.0.0.0\", port))\n",
    "        available = True\n",
    "    except:\n",
    "        available = False\n",
    "    sock.close()\n",
    "    return available"
   ]
  },
  {
   "cell_type": "markdown",
   "id": "64bf36e7-05aa-4013-9a2a-c3abbf6e21b5",
   "metadata": {},
   "source": [
    "The following section defines additional parts of the slurm Dask job. Here we source the bashrc to prepare Conda."
   ]
  },
  {
   "cell_type": "code",
   "execution_count": 17,
   "id": "4a03cb39-ca96-48a9-ba57-c14bac3982f0",
   "metadata": {},
   "outputs": [],
   "source": [
    "slurm_env = [\n",
    "     'export XRD_RUNFORKHANDLER=1',\n",
    "     'export XRD_STREAMTIMEOUT=10',\n",
    "     f'source {os.environ[\"HOME\"]}/.bashrc',\n",
    "     f'conda activate dask',\n",
    "     f'export X509_USER_PROXY={os.environ[\"HOME\"]}/x509up_u206148'\n",
    "]\n",
    "\n",
    "extra_args=[\n",
    "     \"--output=dask_job_output_%j.out\",\n",
    "     \"--error=dask_job_output_%j.err\",\n",
    "     \"--partition=submit\",\n",
    "     \"--clusters=submit\",\n",
    "]"
   ]
  },
  {
   "cell_type": "code",
   "execution_count": 18,
   "id": "93adef70-3f14-4ace-bad2-6c5156f2d6c4",
   "metadata": {},
   "outputs": [],
   "source": [
    "n_port       = 6820\n",
    "w_port       = 9765\n",
    "cores        = 1\n",
    "processes    = 1\n",
    "memory       = \"5 GB\"\n",
    "chunksize    = 15000\n",
    "maxchunks    = None"
   ]
  },
  {
   "cell_type": "markdown",
   "id": "7578929b-790e-409d-bfdb-9befceae8eb1",
   "metadata": {},
   "source": [
    "The next section forms the Slurm Cluster. You can set up various parameters of the cluster here."
   ]
  },
  {
   "cell_type": "code",
   "execution_count": 7,
   "id": "161ab5ca-0d06-4c30-96bb-24fa3915ce82",
   "metadata": {},
   "outputs": [
    {
     "name": "stderr",
     "output_type": "stream",
     "text": [
      "/home/submit/freerc/miniforge3/envs/dask/lib/python3.9/site-packages/distributed/node.py:160: UserWarning: Port 8000 is already in use.\n",
      "Perhaps you already have a cluster running?\n",
      "Hosting the HTTP server on port 5435 instead\n",
      "  warnings.warn(\n",
      "WARNING:bokeh.server.util:Host wildcard '*' will allow connections originating from multiple (or possibly all) hostnames or IPs. Use non-wildcard values to restrict access explicitly\n",
      "Clear task state\n",
      "  Scheduler at:     tcp://18.12.2.18:6820\n",
      "  dashboard at:           18.12.2.18:5435\n"
     ]
    }
   ],
   "source": [
    "if not check_port(n_port):\n",
    "    raise RuntimeError(\"Port '{}' is occupied on this node. Try another one.\".format(n_port))\n",
    "\n",
    "import socket\n",
    "cluster = SLURMCluster(\n",
    "        queue='all',\n",
    "        project=\"SUEP_Slurm\",\n",
    "        cores=cores,\n",
    "        processes=processes,\n",
    "        memory=memory,\n",
    "        #retries=10,\n",
    "        walltime='00:30:00',\n",
    "        scheduler_options={\n",
    "              'port': n_port,\n",
    "              'dashboard_address': 8000,\n",
    "              'host': socket.gethostname()\n",
    "        },\n",
    "        job_extra=extra_args,\n",
    "        env_extra=slurm_env,\n",
    ")"
   ]
  },
  {
   "cell_type": "code",
   "execution_count": 8,
   "id": "9298d20e-338a-489d-9e06-8f45d8fa3240",
   "metadata": {},
   "outputs": [
    {
     "name": "stderr",
     "output_type": "stream",
     "text": [
      "Receive client connection: Client-71e593b4-820c-11ec-ab4e-000af7bd3c78\n"
     ]
    },
    {
     "name": "stdout",
     "output_type": "stream",
     "text": [
      "<Client: 'tcp://18.12.2.18:6820' processes=0 threads=0, memory=0 B>\n"
     ]
    }
   ],
   "source": [
    "cluster.adapt(minimum=1, maximum=250)\n",
    "client = Client(cluster)\n",
    "print(client)"
   ]
  },
  {
   "cell_type": "markdown",
   "id": "9205e7c8-352f-4903-82d7-81262bf79253",
   "metadata": {},
   "source": [
    "# Running the processor\n",
    "Now we will run some simple functions. You can follow your jobs with squeue in a terminal. If you want to test sometthing more complex you can modify the function below."
   ]
  },
  {
   "cell_type": "code",
   "execution_count": 26,
   "id": "2b330d1a-1607-4936-a71a-d16fa59b0244",
   "metadata": {},
   "outputs": [],
   "source": [
    "def inc(x):\n",
    "        return x + 1"
   ]
  },
  {
   "cell_type": "code",
   "execution_count": 27,
   "id": "20a9b88c-3816-412f-9417-3c305379090f",
   "metadata": {},
   "outputs": [
    {
     "data": {
      "text/html": [
       "<strong>Future: inc</strong>\n",
       "<span style=\"color: var(--jp-ui-font-color2, gray)\"> status: </span>\n",
       "\n",
       "\n",
       "<span style=\"color: var(--jp-error-color0, black)\">pending</span>,\n",
       "\n",
       "\n",
       "\n",
       "<span style=\"color: var(--jp-ui-font-color2, gray)\"> type:</span> NoneType,\n",
       "\n",
       "\n",
       "<span style=\"color: var(--jp-ui-font-color2, gray)\"> key:</span> inc-2e57ed40c00b04e711bd8f182d8a2403"
      ],
      "text/plain": [
       "<Future: pending, key: inc-2e57ed40c00b04e711bd8f182d8a2403>"
      ]
     },
     "execution_count": 27,
     "metadata": {},
     "output_type": "execute_result"
    }
   ],
   "source": [
    "x = client.submit(inc, 10)\n",
    "x"
   ]
  },
  {
   "cell_type": "code",
   "execution_count": 28,
   "id": "7d3713d7-dd11-4b37-a38c-40dbe0a6584d",
   "metadata": {},
   "outputs": [],
   "source": [
    "L = client.map(inc, range(100))"
   ]
  },
  {
   "cell_type": "code",
   "execution_count": 29,
   "id": "4772fb48-1dee-4f67-be7f-04831ca87ba6",
   "metadata": {},
   "outputs": [],
   "source": [
    "y = client.submit(inc, x)      # Submit on x, a Future\n",
    "total = client.submit(sum, L)"
   ]
  },
  {
   "cell_type": "code",
   "execution_count": 35,
   "id": "6e85b24b-dea0-4d3e-b484-b03822de216c",
   "metadata": {
    "tags": []
   },
   "outputs": [
    {
     "data": {
      "text/plain": [
       "11"
      ]
     },
     "execution_count": 35,
     "metadata": {},
     "output_type": "execute_result"
    }
   ],
   "source": [
    "x.result()"
   ]
  },
  {
   "cell_type": "code",
   "execution_count": 36,
   "id": "5c75a6b2-1391-414c-8a71-64d39398cb8b",
   "metadata": {
    "collapsed": true,
    "jupyter": {
     "outputs_hidden": true
    },
    "tags": []
   },
   "outputs": [
    {
     "data": {
      "text/plain": [
       "[1,\n",
       " 2,\n",
       " 3,\n",
       " 4,\n",
       " 5,\n",
       " 6,\n",
       " 7,\n",
       " 8,\n",
       " 9,\n",
       " 10,\n",
       " 11,\n",
       " 12,\n",
       " 13,\n",
       " 14,\n",
       " 15,\n",
       " 16,\n",
       " 17,\n",
       " 18,\n",
       " 19,\n",
       " 20,\n",
       " 21,\n",
       " 22,\n",
       " 23,\n",
       " 24,\n",
       " 25,\n",
       " 26,\n",
       " 27,\n",
       " 28,\n",
       " 29,\n",
       " 30,\n",
       " 31,\n",
       " 32,\n",
       " 33,\n",
       " 34,\n",
       " 35,\n",
       " 36,\n",
       " 37,\n",
       " 38,\n",
       " 39,\n",
       " 40,\n",
       " 41,\n",
       " 42,\n",
       " 43,\n",
       " 44,\n",
       " 45,\n",
       " 46,\n",
       " 47,\n",
       " 48,\n",
       " 49,\n",
       " 50,\n",
       " 51,\n",
       " 52,\n",
       " 53,\n",
       " 54,\n",
       " 55,\n",
       " 56,\n",
       " 57,\n",
       " 58,\n",
       " 59,\n",
       " 60,\n",
       " 61,\n",
       " 62,\n",
       " 63,\n",
       " 64,\n",
       " 65,\n",
       " 66,\n",
       " 67,\n",
       " 68,\n",
       " 69,\n",
       " 70,\n",
       " 71,\n",
       " 72,\n",
       " 73,\n",
       " 74,\n",
       " 75,\n",
       " 76,\n",
       " 77,\n",
       " 78,\n",
       " 79,\n",
       " 80,\n",
       " 81,\n",
       " 82,\n",
       " 83,\n",
       " 84,\n",
       " 85,\n",
       " 86,\n",
       " 87,\n",
       " 88,\n",
       " 89,\n",
       " 90,\n",
       " 91,\n",
       " 92,\n",
       " 93,\n",
       " 94,\n",
       " 95,\n",
       " 96,\n",
       " 97,\n",
       " 98,\n",
       " 99,\n",
       " 100]"
      ]
     },
     "execution_count": 36,
     "metadata": {},
     "output_type": "execute_result"
    }
   ],
   "source": [
    "client.gather(L)"
   ]
  },
  {
   "cell_type": "code",
   "execution_count": 37,
   "id": "cdce4b16-4f0d-4bf7-a44b-e1ebc4f920a3",
   "metadata": {},
   "outputs": [
    {
     "data": {
      "text/html": [
       "<strong>Future: sum</strong>\n",
       "<span style=\"color: var(--jp-ui-font-color2, gray)\"> status: </span>\n",
       "\n",
       "\n",
       "<span style=\"color: var(--jp-error-color0, black)\">finished</span>,\n",
       "\n",
       "\n",
       "\n",
       "<span style=\"color: var(--jp-ui-font-color2, gray)\"> type:</span> int,\n",
       "\n",
       "\n",
       "<span style=\"color: var(--jp-ui-font-color2, gray)\"> key:</span> sum-0f878e3fb419d49a4a53c71cb2e47231"
      ],
      "text/plain": [
       "<Future: finished, type: int, key: sum-0f878e3fb419d49a4a53c71cb2e47231>"
      ]
     },
     "execution_count": 37,
     "metadata": {},
     "output_type": "execute_result"
    }
   ],
   "source": [
    "total"
   ]
  },
  {
   "cell_type": "code",
   "execution_count": 40,
   "id": "1d2627e8-b2f4-407f-ae92-e2bff9cf1f12",
   "metadata": {},
   "outputs": [
    {
     "data": {
      "text/plain": [
       "5050"
      ]
     },
     "execution_count": 40,
     "metadata": {},
     "output_type": "execute_result"
    }
   ],
   "source": [
    "total.result()"
   ]
  },
  {
   "cell_type": "code",
   "execution_count": null,
   "id": "4dafee22-fc54-4d93-9036-4e3892c49391",
   "metadata": {},
   "outputs": [],
   "source": []
  }
 ],
 "metadata": {
  "kernelspec": {
   "display_name": "dask",
   "language": "python",
   "name": "dask"
  },
  "language_info": {
   "codemirror_mode": {
    "name": "ipython",
    "version": 3
   },
   "file_extension": ".py",
   "mimetype": "text/x-python",
   "name": "python",
   "nbconvert_exporter": "python",
   "pygments_lexer": "ipython3",
   "version": "3.9.5"
  }
 },
 "nbformat": 4,
 "nbformat_minor": 5
}
