{
 "cells": [
  {
   "cell_type": "markdown",
   "id": "4204ffcf-405e-496e-afcd-a2992403a7fc",
   "metadata": {},
   "source": [
    "# An Introduction to pandas"
   ]
  },
  {
   "cell_type": "markdown",
   "id": "5d0f2917-0046-47b3-aba0-8a050e91dcd1",
   "metadata": {},
   "source": [
    "**Requirements**: in order to execute this notebook, you will need the `pandas`, `matplotlib`, and `numpy` packages.\n",
    "\n",
    "You can install them by either running `pip3 install --user numpy pandas matpoltlib` in your terminal, or executing the next cell.\n",
    "\n",
    "\n",
    "N.B.: in either case, make sure that you install them on the same python that you are using for the kernel of this notebook."
   ]
  },
  {
   "cell_type": "code",
   "execution_count": 28,
   "id": "4d8b4d72-e910-4301-a760-d11a7aa506ab",
   "metadata": {},
   "outputs": [
    {
     "name": "stdout",
     "output_type": "stream",
     "text": [
      "WARNING: pip is being invoked by an old script wrapper. This will fail in a future version of pip.\n",
      "Please see https://github.com/pypa/pip/issues/5599 for advice on fixing the underlying issue.\n",
      "To avoid this problem you can invoke Python with '-m pip' instead of running pip directly.\n",
      "Looking in indexes: https://pypi.org/simple, https://pypi.ngc.nvidia.com\n",
      "Requirement already satisfied: numpy in /usr/local/lib64/python3.6/site-packages (1.19.5)\n",
      "Requirement already satisfied: pandas in /usr/local/lib64/python3.6/site-packages (1.1.5)\n",
      "Requirement already satisfied: pytz>=2017.2 in /usr/local/lib/python3.6/site-packages (from pandas) (2022.1)\n",
      "Requirement already satisfied: python-dateutil>=2.7.3 in /usr/local/lib/python3.6/site-packages (from pandas) (2.8.2)\n",
      "Requirement already satisfied: six>=1.5 in /usr/lib/python3.6/site-packages (from python-dateutil>=2.7.3->pandas) (1.14.0)\n"
     ]
    }
   ],
   "source": [
    "!pip3 install --user numpy pandas matpoltlib"
   ]
  },
  {
   "cell_type": "markdown",
   "id": "db9eb99e-cf4a-4dc4-848b-526dfd853e08",
   "metadata": {},
   "source": [
    "Now we can import the packages, using `pd`, `np`, and `plt` as shorthand for `pandas`, `numpy`, and `matplotlib`, respectively."
   ]
  },
  {
   "cell_type": "code",
   "execution_count": 74,
   "id": "1f723d71-2da4-4fb2-850f-ef10c48a6da1",
   "metadata": {},
   "outputs": [],
   "source": [
    "import pandas as pd\n",
    "import numpy as np\n",
    "import matplotlib.pyplot as plt"
   ]
  },
  {
   "cell_type": "markdown",
   "id": "a190b529-8fd5-4af5-a4a5-f8a510bca842",
   "metadata": {},
   "source": [
    "# Okay, so what is pandas?"
   ]
  },
  {
   "cell_type": "markdown",
   "id": "5eb85de9-8e77-42a4-9dcb-a78712165db8",
   "metadata": {},
   "source": [
    "pandas is a library that provides data analysis tools and structures for python.\n",
    "\n",
    "The fundemental structure is the **pandas DataFrame**, a data table like you might see in Excel, or any other spreadsheet or database.\n",
    "\n",
    "Much of the rest of pandas provides tools and functions to manipulate these DataFrames"
   ]
  },
  {
   "cell_type": "markdown",
   "id": "7b0330e0-1789-4013-b129-03ac486fb0c7",
   "metadata": {},
   "source": [
    "# Let's see some code\n",
    "\n",
    "Here is an example DataFrame, that we read in from the csv file `Sample_data.csv`. We print the first 5 entries using the function `.head()`."
   ]
  },
  {
   "cell_type": "code",
   "execution_count": 30,
   "id": "5a57158f-fb8a-4545-be46-086c0a610704",
   "metadata": {},
   "outputs": [
    {
     "name": "stdout",
     "output_type": "stream",
     "text": [
      "   entry  subentry         pt       eta       phi      mass\n",
      "0      0         0  41.156140 -0.454712 -2.491699  0.105713\n",
      "1      0         1  40.389810 -0.233673  0.681396  0.105713\n",
      "2      2         0  29.009573  1.445312 -2.372070  0.105713\n",
      "3      2         1  14.167344  1.373779  1.144287  0.105713\n",
      "4      4         0  93.018745 -0.760254  0.094955  0.105713\n"
     ]
    }
   ],
   "source": [
    "df = pd.read_csv('Sample_data.csv', delimiter = ',')\n",
    "print(df.head())"
   ]
  },
  {
   "cell_type": "markdown",
   "id": "40e3484d-a109-4c88-b255-9e63ee1ec47e",
   "metadata": {},
   "source": [
    "What do we see here? For each entry, in this case each entry is a particle, we see various columns, each with some attribute corresponding to that event. "
   ]
  },
  {
   "cell_type": "markdown",
   "id": "217d55cc-73a9-4a55-8193-a37aeae9cf21",
   "metadata": {},
   "source": [
    "## Indexing"
   ]
  },
  {
   "cell_type": "markdown",
   "id": "9e2fee2c-185a-4a93-92ef-b623b006e565",
   "metadata": {},
   "source": [
    "Indexing DataFrames is similiar to lists and numpy arrays, wich the added bonus that we can refer to columns by name. We can use iloc to refer to a particular index in the dataframe, i.e. (row, column)."
   ]
  },
  {
   "cell_type": "code",
   "execution_count": 31,
   "id": "a2c414e2-7e8d-4d57-bfc7-b41a2cdef682",
   "metadata": {},
   "outputs": [
    {
     "name": "stdout",
     "output_type": "stream",
     "text": [
      "All columns' values for first event:\n",
      "entry        0.000000\n",
      "subentry     0.000000\n",
      "pt          41.156140\n",
      "eta         -0.454712\n",
      "phi         -2.491699\n",
      "mass         0.105713\n",
      "Name: 0, dtype: float64\n",
      "Third column value for first event:\n",
      "41.15614\n"
     ]
    }
   ],
   "source": [
    "print(\"All columns' values for first event:\")\n",
    "print(df.iloc[0,:])\n",
    "print(\"Third column value for first event:\")\n",
    "print(df.iloc[0,2])"
   ]
  },
  {
   "cell_type": "markdown",
   "id": "bac8d09e-6399-4a72-a93c-39047822f35b",
   "metadata": {},
   "source": [
    "We can also access specfic columns by name directly, which returns a pandas Series"
   ]
  },
  {
   "cell_type": "code",
   "execution_count": 32,
   "id": "cd75a063-2d4c-49d4-839d-f23c5ab2bc61",
   "metadata": {},
   "outputs": [
    {
     "name": "stdout",
     "output_type": "stream",
     "text": [
      "0       41.156140\n",
      "1       40.389810\n",
      "2       29.009573\n",
      "3       14.167344\n",
      "4       93.018745\n",
      "          ...    \n",
      "7005    55.728530\n",
      "7006    40.600178\n",
      "7007    55.219284\n",
      "7008    45.488670\n",
      "7009    51.894005\n",
      "Name: pt, Length: 7010, dtype: float64\n"
     ]
    }
   ],
   "source": [
    "print(df['pt'])"
   ]
  },
  {
   "cell_type": "markdown",
   "id": "2e588c84-7569-42a0-a8dc-6699abcb3948",
   "metadata": {},
   "source": [
    "Or using `.loc()` we can access using column names, in this example, just for the first 3 events:"
   ]
  },
  {
   "cell_type": "code",
   "execution_count": 33,
   "id": "ce6e12c6-bcae-4200-b045-f0ed336aceba",
   "metadata": {},
   "outputs": [
    {
     "name": "stdout",
     "output_type": "stream",
     "text": [
      "          pt       eta\n",
      "0  41.156140 -0.454712\n",
      "1  40.389810 -0.233673\n",
      "2  29.009573  1.445312\n"
     ]
    }
   ],
   "source": [
    "print(df.loc[:2,['pt', 'eta']])"
   ]
  },
  {
   "cell_type": "markdown",
   "id": "eb2383bb-fb68-4b69-ac56-190bb86c04ed",
   "metadata": {},
   "source": [
    "We can also index using values of the columns. Here we select ony rows of the original DataFrame which have more pT > 100 and assign it to a new DataFrame."
   ]
  },
  {
   "cell_type": "code",
   "execution_count": 39,
   "id": "18a39053-bf62-427e-8a9c-377bbb66a0ed",
   "metadata": {},
   "outputs": [
    {
     "name": "stdout",
     "output_type": "stream",
     "text": [
      "New DataFrame\n",
      "      entry  subentry          pt       eta       phi      mass\n",
      "17       32         0  143.901060 -0.589722  0.319763  0.105713\n",
      "54      104         0  118.730910 -0.604614  2.487305  0.105713\n",
      "78      147         0  111.232790 -0.491760 -0.774414  0.105713\n",
      "90      167         0  168.571720 -1.301025 -3.073730  0.105713\n",
      "102     180         0  129.829710 -1.123779  1.806396  0.105713\n",
      "...     ...       ...         ...       ...       ...       ...\n",
      "6870  13077         0  103.694220 -1.097900 -0.560181  0.105713\n",
      "6873  13081         0  126.530760  2.109863 -2.864258  0.105713\n",
      "6916  13156         0  137.644580  0.217377  0.658936  0.105713\n",
      "6917  13156         1  110.041435  2.197266 -2.919922  0.105713\n",
      "6962  13213         0  222.898450 -0.768921 -1.298584  0.105713\n",
      "\n",
      "[169 rows x 6 columns]\n",
      "Old DataFrame shape: (7010, 6)\n",
      "New DataFram shape: (169, 6)\n"
     ]
    }
   ],
   "source": [
    "df_pt100 = df[df['pt'] > 100]\n",
    "print(\"New DataFrame\")\n",
    "print(df_pt100)\n",
    "print(\"Old DataFrame shape:\", df.shape)\n",
    "print(\"New DataFram shape:\", df_pt100.shape)"
   ]
  },
  {
   "cell_type": "markdown",
   "id": "35332620-b408-442d-adec-7f3f0433f5d3",
   "metadata": {},
   "source": [
    "We can get fancier, but the idea is the same"
   ]
  },
  {
   "cell_type": "code",
   "execution_count": 56,
   "id": "79ab1829-e667-4214-8d9e-eb6d1fb64272",
   "metadata": {},
   "outputs": [
    {
     "name": "stdout",
     "output_type": "stream",
     "text": [
      "Old DataFrame shape: (7010, 6)\n",
      "New DataFram shape: (2193, 6)\n"
     ]
    }
   ],
   "source": [
    "selection = (abs(df['eta']) < 1.0) & (df['pt'] > 20) & (df['mass'] < 1)\n",
    "df_new = df[selection]\n",
    "print(\"Old DataFrame shape:\", df.shape)\n",
    "print(\"New DataFram shape:\", df_new.shape)"
   ]
  },
  {
   "cell_type": "markdown",
   "id": "3168af22-f67b-4a6b-b0e4-5fbdbb502446",
   "metadata": {},
   "source": [
    "## Visualization"
   ]
  },
  {
   "cell_type": "markdown",
   "id": "c8836462-9ffd-4e4e-a6e2-2e315a9aaf3b",
   "metadata": {},
   "source": [
    "In the previous cell, we applied some selection on the original dataframe. Let's check out the distributions and see if our selections worked as expected, using pandas' built-in `.hist()` function."
   ]
  },
  {
   "cell_type": "code",
   "execution_count": 57,
   "id": "960eed53-f0d0-4518-b69b-2afb819cbf2b",
   "metadata": {},
   "outputs": [
    {
     "data": {
      "image/png": "[encoded data removed]",
      "text/plain": [
       "<Figure size 432x288 with 4 Axes>"
      ]
     },
     "metadata": {
      "needs_background": "light"
     },
     "output_type": "display_data"
    }
   ],
   "source": [
    "_ = df.hist(column = ['pt', 'eta', 'phi', 'mass'])"
   ]
  },
  {
   "cell_type": "code",
   "execution_count": 58,
   "id": "d2f1fc1d-dae4-454e-adf6-1cf1686374ef",
   "metadata": {},
   "outputs": [
    {
     "data": {
      "image/png": "[encoded data removed]",
      "text/plain": [
       "<Figure size 432x288 with 4 Axes>"
      ]
     },
     "metadata": {
      "needs_background": "light"
     },
     "output_type": "display_data"
    }
   ],
   "source": [
    "_ = df_new.hist(column = ['pt', 'eta', 'phi', 'mass'])"
   ]
  },
  {
   "cell_type": "markdown",
   "id": "f11b1893-1f9c-4608-908c-196870c9eac1",
   "metadata": {},
   "source": [
    "Indeed, we can see the selections worked as expected. `.hist()` is nice, but often times, we'll want to use matplotlib to make the plots. Here is an example of how we might do that."
   ]
  },
  {
   "cell_type": "code",
   "execution_count": 71,
   "id": "55f78414-a3e9-4771-901c-5ba80737261c",
   "metadata": {},
   "outputs": [
    {
     "data": {
      "image/png": "[encoded data removed]",
      "text/plain": [
       "<Figure size 432x288 with 1 Axes>"
      ]
     },
     "metadata": {
      "needs_background": "light"
     },
     "output_type": "display_data"
    }
   ],
   "source": [
    "eta = df['eta']\n",
    "eta_new = df_new['eta']\n",
    "bins = [-2.5,-2,-1.5,-1,-0.5,0,0.5,1,1.5,2,2.5]\n",
    "\n",
    "fig = plt.figure()\n",
    "ax = fig.subplots()\n",
    "_ = ax.hist(eta, bins=bins, alpha=0.5,label='Old Eta')\n",
    "_ = ax.hist(eta_new, bins=bins, alpha=0.5, label='New Eta')\n",
    "_ = ax.set_xlabel(\"$\\eta$\")\n",
    "_ = ax.set_ylabel(\"Events\")\n",
    "_ = ax.legend()"
   ]
  },
  {
   "cell_type": "markdown",
   "id": "712e98d5-8aeb-4b02-a2e5-dfd3e9b068c4",
   "metadata": {},
   "source": [
    "## Manipulation"
   ]
  },
  {
   "cell_type": "markdown",
   "id": "f686e1f6-7ab3-484f-bb84-d89405ddb8c2",
   "metadata": {},
   "source": [
    "We can easily add new columns to a DataFrame. For example, we can define a new variable `x = pt * np.cos(phi)` (the Cartesian x variable!) and add it as a column."
   ]
  },
  {
   "cell_type": "code",
   "execution_count": 76,
   "id": "9aa47e61-d0e0-49b8-a68a-d965162f97b9",
   "metadata": {},
   "outputs": [
    {
     "name": "stdout",
     "output_type": "stream",
     "text": [
      "   entry  subentry         pt       eta       phi      mass          x\n",
      "0      0         0  41.156140 -0.454712 -2.491699  0.105713 -32.766390\n",
      "1      0         1  40.389810 -0.233673  0.681396  0.105713  31.370517\n",
      "2      2         0  29.009573  1.445312 -2.372070  0.105713 -20.835925\n",
      "3      2         1  14.167344  1.373779  1.144287  0.105713   5.860963\n",
      "4      4         0  93.018745 -0.760254  0.094955  0.105713  92.599707\n"
     ]
    }
   ],
   "source": [
    "df['x'] = df['pt']*np.cos(df['phi'])\n",
    "print(df.head())"
   ]
  },
  {
   "cell_type": "markdown",
   "id": "cb9b0099-86ac-4472-8aee-befa28a22249",
   "metadata": {},
   "source": [
    "We can also target specific entries, and modify them."
   ]
  },
  {
   "cell_type": "code",
   "execution_count": 78,
   "id": "e7f99d17-a845-419b-bc41-a91189038398",
   "metadata": {},
   "outputs": [
    {
     "name": "stdout",
     "output_type": "stream",
     "text": [
      "   entry  subentry         pt       eta       phi      mass          x\n",
      "0      0         0  41.156140 -0.454712 -2.491699  0.105713 -32.766390\n",
      "1      0         1  40.389810 -0.233673  0.681396  0.105713  31.370517\n",
      "2      2         0  29.009573  1.445312 -2.372070  0.105713 -20.835925\n",
      "3      2         1  14.167344  1.373779  1.144287  0.105713   5.860963\n",
      "4      4         0  93.018745 -0.760254  0.094955  0.105713  92.599707\n",
      "   entry  subentry         pt       eta       phi      mass          x\n",
      "0      0         0   0.000000 -0.454712 -2.491699  0.105713 -32.766390\n",
      "1      0         1  40.389810 -0.233673  0.681396  0.105713  31.370517\n",
      "2      2         0  29.009573  1.445312 -2.372070  0.105713 -20.835925\n",
      "3      2         1  14.167344  1.373779  1.144287  0.105713   5.860963\n",
      "4      4         0  93.018745 -0.760254  0.094955  0.105713  92.599707\n"
     ]
    }
   ],
   "source": [
    "print(df.head())\n",
    "df.loc[0,'pt'] = 0\n",
    "print(df.head())"
   ]
  },
  {
   "cell_type": "markdown",
   "id": "3d3a31c2-32ce-4708-99d7-099a00198c01",
   "metadata": {},
   "source": [
    "DataFrames can also be combined. For this, let's create a couple of smaller DataFrames and stack them on top of each other."
   ]
  },
  {
   "cell_type": "code",
   "execution_count": 80,
   "id": "d76aca60-ea24-428d-b7ca-6f8ed453b4c0",
   "metadata": {},
   "outputs": [
    {
     "name": "stdout",
     "output_type": "stream",
     "text": [
      "          x         y\n",
      "0  0.143171  0.073983\n",
      "1  0.551384  0.311224\n",
      "2  0.654805  0.842063\n",
      "3  0.110548  0.717957\n",
      "4  0.160993  0.871987\n",
      "5  0.614199  0.974384\n",
      "6  0.110137  0.280677\n",
      "7  0.074545  0.725421\n",
      "8  0.407666  0.007881\n",
      "9  0.030120  0.660900\n",
      "0  0.474297  0.565678\n",
      "1  0.537274  0.599558\n",
      "2  0.234976  0.210113\n",
      "3  0.085887  0.553467\n",
      "4  0.291972  0.300663\n",
      "5  0.409298  0.795164\n",
      "6  0.131873  0.963827\n",
      "7  0.835257  0.538052\n",
      "8  0.494315  0.654342\n",
      "9  0.383735  0.045866\n"
     ]
    }
   ],
   "source": [
    "df_a = pd.DataFrame()\n",
    "df_a['x'] = np.random.random(10)\n",
    "df_a['y'] = np.random.random(10)\n",
    "\n",
    "df_b = pd.DataFrame()\n",
    "df_b['x'] = np.random.random(10)\n",
    "df_b['y'] = np.random.random(10)\n",
    "\n",
    "df_concat = pd.concat((df_a, df_b))\n",
    "print(df_concat)"
   ]
  },
  {
   "cell_type": "markdown",
   "id": "c4e0c21a-756b-48f7-8506-d251967c6f07",
   "metadata": {},
   "source": [
    "We can also combine them on the column axis."
   ]
  },
  {
   "cell_type": "code",
   "execution_count": 83,
   "id": "3bf0fde9-b6d9-4235-ad8b-85931f22e83e",
   "metadata": {},
   "outputs": [
    {
     "name": "stdout",
     "output_type": "stream",
     "text": [
      "          x         y         z      mass\n",
      "0  0.443721  0.057798  0.394995  0.128684\n",
      "1  0.732605  0.771583  0.915912  0.541600\n",
      "2  0.883849  0.729666  0.519045  0.440300\n",
      "3  0.301332  0.522619  0.161167  0.032508\n",
      "4  0.717598  0.236182  0.450888  0.992166\n",
      "5  0.948683  0.852755  0.478133  0.083454\n",
      "6  0.527211  0.787870  0.641544  0.303282\n",
      "7  0.007379  0.313657  0.275702  0.601224\n",
      "8  0.977876  0.540685  0.956402  0.945589\n",
      "9  0.201200  0.705135  0.021355  0.179796\n"
     ]
    }
   ],
   "source": [
    "df_a = pd.DataFrame()\n",
    "df_a['x'] = np.random.random(10)\n",
    "df_a['y'] = np.random.random(10)\n",
    "\n",
    "df_b = pd.DataFrame()\n",
    "df_b['z'] = np.random.random(10)\n",
    "df_b['mass'] = np.random.random(10)\n",
    "\n",
    "df_concat = pd.concat((df_a, df_b), axis=1)\n",
    "print(df_concat)"
   ]
  },
  {
   "cell_type": "markdown",
   "id": "32fe249a-e545-4116-9600-b9c3f97ea7d8",
   "metadata": {},
   "source": [
    "# Concluding Remark\n",
    "pandas is a very powerful and well-supported tool for data analysis, in particular for the manipulation of tabular data. It is well integrated with numpy and matplotlib, as well as other common scientific packages of the Python ecosystem. In this tutorial we only covered the absolute basics of the tool, you are encouraged to explore [pandas' documentation](https://pandas.pydata.org/pandas-docs/stable/index.html) for more tutorials and references for the many tools that they provide.\n",
    "\n",
    "-- Luca Lavezzo 1/5/2023"
   ]
  },
  {
   "cell_type": "code",
   "execution_count": null,
   "id": "b275eb21-3993-4415-a8e5-2ad4c7eea6e4",
   "metadata": {},
   "outputs": [],
   "source": []
  }
 ],
 "metadata": {
  "kernelspec": {
   "display_name": "suep",
   "language": "python",
   "name": "suep"
  },
  "language_info": {
   "codemirror_mode": {
    "name": "ipython",
    "version": 3
   },
   "file_extension": ".py",
   "mimetype": "text/x-python",
   "name": "python",
   "nbconvert_exporter": "python",
   "pygments_lexer": "ipython3",
   "version": "3.9.15"
  }
 },
 "nbformat": 4,
 "nbformat_minor": 5
}
