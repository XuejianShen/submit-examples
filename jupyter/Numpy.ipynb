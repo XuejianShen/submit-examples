{
 "cells": [
  {
   "cell_type": "markdown",
   "id": "3d150d14-17cf-462e-aca2-b7708f423818",
   "metadata": {},
   "source": [
    "# An Introduction to numpy"
   ]
  },
  {
   "cell_type": "markdown",
   "id": "e3b0630b-a746-4975-9727-05a08b3fd667",
   "metadata": {},
   "source": [
    "**Requirements**: in order to execute this notebook, you will need the following packages:\n",
    "\n",
    "1. numpy \n",
    "2. matpoltlib\n",
    "\n",
    "You can install them by running: `pip intall --user numpy matplotlib` in your terminal.\n",
    "\n",
    "Now we can import them, using `np` and `plt` as shorthands for `numpy` and `matplotlib.pyplot` respectively."
   ]
  },
  {
   "cell_type": "code",
   "execution_count": 1,
   "id": "6f585460-a5c0-42b5-89b0-5912ff998dbb",
   "metadata": {},
   "outputs": [],
   "source": [
    "import numpy as np\n",
    "import matplotlib.pyplot as plt"
   ]
  },
  {
   "cell_type": "markdown",
   "id": "6aa743da-717d-421a-a92f-5a35fac77f07",
   "metadata": {},
   "source": [
    "# Okay, so what is numpy?"
   ]
  },
  {
   "cell_type": "markdown",
   "id": "55a19c4f-2ed8-49b3-8df0-2c0c331877f7",
   "metadata": {},
   "source": [
    "numpy ([website](https://numpy.org/)) brands itself as \"The fundamental package for scientific computing with Python\". What's it good for?\n",
    "\n",
    "1. **Arrays**: you want to use numpy every time you are dealing with numerical lists, matrices, and higher dimensional arrays. Looping over entries with 'for' loops just isn't as quick or readable as numpy's powerful vectorization, indexing, and broadcasting.\n",
    "\n",
    "2. **Mathematical functions**: it also includes comprehensive mathematical functions, random number generators, linear algebra, transforms, and more."
   ]
  },
  {
   "cell_type": "markdown",
   "id": "57e25069-292b-464e-aafa-14bcc258eecf",
   "metadata": {},
   "source": [
    "# Let's see some code"
   ]
  },
  {
   "cell_type": "markdown",
   "id": "9a5450ca-4b25-4d5a-94f4-1838e79b0d9e",
   "metadata": {},
   "source": [
    "## Arrays\n",
    "Define `mylist` as a normal python list, and `myarray` as a numpy array, with identical contents."
   ]
  },
  {
   "cell_type": "code",
   "execution_count": 9,
   "id": "271308cb-d760-4148-8d8f-ea2e8bba7320",
   "metadata": {},
   "outputs": [
    {
     "name": "stdout",
     "output_type": "stream",
     "text": [
      "[0, 1, 2, 3, 4, 5]\n",
      "[0 1 2 3 4 5]\n"
     ]
    }
   ],
   "source": [
    "mylist = [0,1,2,3,4,5]\n",
    "myarray = np.array([0,1,2,3,4,5])\n",
    "print(mylist)\n",
    "print(myarray)"
   ]
  },
  {
   "cell_type": "markdown",
   "id": "dabe3b9c-4ce5-4809-abbc-dd7bd7a0f2d4",
   "metadata": {},
   "source": [
    "They look identical! Why is this different from normal lists?"
   ]
  },
  {
   "cell_type": "markdown",
   "id": "f1810bb1-bf4b-4cc3-bcd9-57fb9819c54d",
   "metadata": {},
   "source": [
    "numpy arrays support a lot of array operations, which don't work with lists."
   ]
  },
  {
   "cell_type": "code",
   "execution_count": 17,
   "id": "b673564e-651d-4756-a1dd-22ac4b13e5e6",
   "metadata": {},
   "outputs": [
    {
     "name": "stdout",
     "output_type": "stream",
     "text": [
      "[ 5  6  7  8  9 10]\n",
      "[ 0  2  4  6  8 10]\n",
      "[ 0  1  4  9 16 25]\n"
     ]
    }
   ],
   "source": [
    "print(myarray + 5)            # add 5 to every element in the list\n",
    "print(myarray + myarray)      # add two lists together, element by element\n",
    "print(myarray * myarray)      # multiply two lists together, element by element"
   ]
  },
  {
   "cell_type": "markdown",
   "id": "3e685c2b-182f-4747-b1ba-cc5b94ac5678",
   "metadata": {},
   "source": [
    "These operations don't work for normal lists, the following code snippet uses a `try-except` block to demonstrate this: the code under `try` will execute, but if it encounters any error, it won't crash everything, but simply execute the code under `except`."
   ]
  },
  {
   "cell_type": "code",
   "execution_count": null,
   "id": "3725890b-0cbf-4e00-aaac-f771de151418",
   "metadata": {},
   "outputs": [],
   "source": [
    "try: \n",
    "    print(mylist * mylist)\n",
    "except Exception as e:\n",
    "    print(e)\n",
    "    print(\"numpy arrays are different from lists!\")"
   ]
  },
  {
   "cell_type": "markdown",
   "id": "4f6e99ea-7e7d-4513-9e23-91d764ff5416",
   "metadata": {},
   "source": [
    "We can extend these arrays to many dimensions"
   ]
  },
  {
   "cell_type": "code",
   "execution_count": 23,
   "id": "262965e3-efbd-450b-8cec-75aed02cfd8f",
   "metadata": {},
   "outputs": [
    {
     "name": "stdout",
     "output_type": "stream",
     "text": [
      "[[[ 0  1  2]\n",
      "  [ 3  4  5]]\n",
      "\n",
      " [[ 6  7  8]\n",
      "  [ 9 10 11]]\n",
      "\n",
      " [[12 13 14]\n",
      "  [15 16 17]]]\n",
      "(3, 2, 3)\n"
     ]
    }
   ],
   "source": [
    "mymatrix = np.array([[[0,1,2],[3,4,5]], [[6,7,8],[9,10,11]], [[12,13,14], [15,16,17]]])\n",
    "print(mymatrix)\n",
    "print(mymatrix.shape)"
   ]
  },
  {
   "cell_type": "markdown",
   "id": "2b47e00f-145b-4500-9ebf-1abf434301ce",
   "metadata": {},
   "source": [
    "Indexing works pretty much the same way as lists. However, note that you can use lists to index numpy arrays."
   ]
  },
  {
   "cell_type": "code",
   "execution_count": 40,
   "id": "468fd44f-44e5-4fb4-bedc-c04105befc8a",
   "metadata": {},
   "outputs": [
    {
     "name": "stdout",
     "output_type": "stream",
     "text": [
      "0\n",
      "[1 2]\n",
      "[0 4]\n",
      "[4 3 2]\n"
     ]
    }
   ],
   "source": [
    "mylist = [0,1,2,3,4]\n",
    "myarray = np.array(mylist)\n",
    "print(myarray[0])\n",
    "print(myarray[1:3])\n",
    "print(myarray[[True, False, False, False, True]])\n",
    "print(myarray[[-1,3,2]])"
   ]
  },
  {
   "cell_type": "markdown",
   "id": "ea464a67-5bb4-434e-8c58-7244991df535",
   "metadata": {},
   "source": [
    "## Vectorization, indexing, broadcasting, etc."
   ]
  },
  {
   "cell_type": "markdown",
   "id": "0573ac3c-84ae-444a-a72c-d32e6aba78d5",
   "metadata": {},
   "source": [
    "This is the real power of numpy arrays. Let's see some examples"
   ]
  },
  {
   "cell_type": "markdown",
   "id": "d75289a1-a4f2-466f-94d8-40e0fffe90bb",
   "metadata": {},
   "source": [
    "Let's say I want to select all positive entries in a list of numbers. This is how you would've done it in the good old days."
   ]
  },
  {
   "cell_type": "code",
   "execution_count": 24,
   "id": "7f73ea77-7354-4f0a-963e-2c053945cffa",
   "metadata": {},
   "outputs": [
    {
     "name": "stdout",
     "output_type": "stream",
     "text": [
      "[2, 4, 6]\n"
     ]
    }
   ],
   "source": [
    "mylist = [0,-1,2,-3,4,-5,6]             # some list we want to get all positive numbers from\n",
    "pos = []                                # new list to append positive numbers to\n",
    "for number in mylist:\n",
    "    if number > 0:\n",
    "        pos.append(number)\n",
    "print(pos)"
   ]
  },
  {
   "cell_type": "markdown",
   "id": "63ca0edb-c5ce-4c13-a282-8fe349eba7fe",
   "metadata": {},
   "source": [
    "Once you start writing more complex code, for loops like these become slow, and hard to read. Let's see how numpy fixes this."
   ]
  },
  {
   "cell_type": "code",
   "execution_count": 26,
   "id": "161c5d2a-013f-4940-90cc-443b502c3b6e",
   "metadata": {},
   "outputs": [
    {
     "name": "stdout",
     "output_type": "stream",
     "text": [
      "[2 4 6]\n"
     ]
    }
   ],
   "source": [
    "myarray = np.array(mylist)              # some list we want to get all positive numbers from\n",
    "pos = myarray[myarray > 0]\n",
    "print(pos)"
   ]
  },
  {
   "cell_type": "markdown",
   "id": "a087fdf7-3ec5-4f60-baf2-d7f0c0fdcbe6",
   "metadata": {},
   "source": [
    "Very nice! How did it work? Let's see some details."
   ]
  },
  {
   "cell_type": "markdown",
   "id": "371d87a9-7813-4c2b-b1bf-5dfc86b5fc23",
   "metadata": {},
   "source": [
    "When we print `myarray > 0` we see that it returns an array of booleans, stating whether the **expression** that we have just written (myarray > 0) is True or False, at each index of the array."
   ]
  },
  {
   "cell_type": "code",
   "execution_count": 31,
   "id": "6dea532b-70d3-49b9-819f-0f63e47c1131",
   "metadata": {},
   "outputs": [
    {
     "name": "stdout",
     "output_type": "stream",
     "text": [
      "[False False  True False  True False  True]\n"
     ]
    }
   ],
   "source": [
    "expr = myarray > 0\n",
    "print(expr)"
   ]
  },
  {
   "cell_type": "markdown",
   "id": "1e6896fe-c483-4c38-9a93-bb4428d59bc7",
   "metadata": {},
   "source": [
    "We can then use this array to index our original numpy array"
   ]
  },
  {
   "cell_type": "code",
   "execution_count": 33,
   "id": "840fb2b9-3931-4be1-9e81-890fd445aad7",
   "metadata": {},
   "outputs": [
    {
     "name": "stdout",
     "output_type": "stream",
     "text": [
      "[2 4 6]\n"
     ]
    }
   ],
   "source": [
    "print(myarray[expr])"
   ]
  },
  {
   "cell_type": "markdown",
   "id": "872b0a8e-ed09-40f4-9557-9b6dffff25c9",
   "metadata": {},
   "source": [
    "We can now build more complicated expressions, but the idea is the same."
   ]
  },
  {
   "cell_type": "code",
   "execution_count": 42,
   "id": "a8a1cf7b-6349-406d-ab4b-b1735c26bcd9",
   "metadata": {},
   "outputs": [
    {
     "name": "stdout",
     "output_type": "stream",
     "text": [
      "[ 6  8 10]\n"
     ]
    }
   ],
   "source": [
    "myarray = np.array([0,1,2,3,4,5,6,7,8,9,10])\n",
    "print(myarray[ (myarray%2==0) & (myarray>5) ])    # select all even numbers greater than 5"
   ]
  },
  {
   "cell_type": "markdown",
   "id": "ad8d7b3a-7c0b-4533-8b8f-128500b67af4",
   "metadata": {},
   "source": [
    "## Some useful functions"
   ]
  },
  {
   "cell_type": "markdown",
   "id": "a46c1a95-0b88-40ff-9b1d-3cf121b52997",
   "metadata": {},
   "source": [
    "I won't even get close to scratching the surface of all the math functions that numpy provides for us. numpy has a good [user's guide and tutorials](https://numpy.org/doc/stable/user/whatisnumpy.html), that you should check out after you're done with this notebook."
   ]
  },
  {
   "cell_type": "markdown",
   "id": "c94b2305-14d3-4c09-906c-233d0fa2cd38",
   "metadata": {},
   "source": [
    "Initializing new arrays:"
   ]
  },
  {
   "cell_type": "code",
   "execution_count": 58,
   "id": "6eaec766-2ca9-454c-9b4f-4ea10e15d856",
   "metadata": {},
   "outputs": [
    {
     "name": "stdout",
     "output_type": "stream",
     "text": [
      "[0 1 2 3 4 5 6 7 8 9]\n",
      "[0.  0.5 1.  1.5 2.  2.5 3.  3.5 4.  4.5 5.  5.5 6.  6.5 7.  7.5 8.  8.5\n",
      " 9.  9.5]\n",
      "[[0.94732123 0.18025672 0.11336971]\n",
      " [0.59348573 0.69768466 0.14787952]\n",
      " [0.31788316 0.69607598 0.99209459]]\n",
      "[   1.   10.  100. 1000.]\n"
     ]
    }
   ],
   "source": [
    "myarray = np.arange(0,10,1)                  # initialize arrays with all integers from 0 to 9\n",
    "print(myarray)\n",
    "myarray = np.arange(0,10,0.5)                # initialize arrays with all half integers from 0 to 9.5\n",
    "print(myarray)\n",
    "mymatrix = np.random.random((3,3))           # random [0,1] 3x3 matrix\n",
    "print(mymatrix)\n",
    "myarray = np.logspace(0,3,4)                 # logarithmic space\n",
    "print(myarray)"
   ]
  },
  {
   "cell_type": "markdown",
   "id": "9f2f81a6-5dbc-4a35-9b68-bbb21602978b",
   "metadata": {},
   "source": [
    "Simple functions:"
   ]
  },
  {
   "cell_type": "code",
   "execution_count": 66,
   "id": "13bee782-d6b0-4d90-b183-8379764d466a",
   "metadata": {},
   "outputs": [
    {
     "name": "stdout",
     "output_type": "stream",
     "text": [
      "[[2.60752952 1.76955569 2.35279975]\n",
      " [1.89576584 1.46074149 1.49524997]\n",
      " [2.71598705 1.83965509 2.70215557]]\n",
      "[[-4.24866834e-02 -5.60841682e-01 -1.55945286e-01]\n",
      " [-4.46876501e-01 -9.70366381e-01 -9.10573620e-01]\n",
      " [-8.44915125e-04 -4.94988192e-01 -5.96795982e-03]]\n",
      "6.408381545418203\n",
      "0.9991554417148625\n",
      "0.37894417483476783\n"
     ]
    }
   ],
   "source": [
    "mymatrix = np.random.random((3,3))\n",
    "print(np.exp(mymatrix))                # exponentiate every entry\n",
    "print(np.log(mymatrix))                # take log of every entry\n",
    "print(mymatrix.sum())                  # sum all entries\n",
    "print(mymatrix.max())                  # get max of all entries\n",
    "print(mymatrix.min())                  # get min of all entries"
   ]
  },
  {
   "cell_type": "markdown",
   "id": "8167c338-9522-4549-b4be-03895f8b0936",
   "metadata": {},
   "source": [
    "## Joining arrays"
   ]
  },
  {
   "cell_type": "markdown",
   "id": "534581da-42dc-4d21-8162-8e176cc9a464",
   "metadata": {},
   "source": [
    "Simple concatenation"
   ]
  },
  {
   "cell_type": "code",
   "execution_count": 71,
   "id": "fd20bf06-5be8-41ca-ba8c-be9f723be159",
   "metadata": {},
   "outputs": [
    {
     "name": "stdout",
     "output_type": "stream",
     "text": [
      "[0 1 2 3 4] [5 6 7 8 9]\n",
      "[0 1 2 3 4 5 6 7 8 9]\n"
     ]
    }
   ],
   "source": [
    "myarray1 = np.arange(0,5,1)\n",
    "myarray2 = np.arange(5,10,1)\n",
    "print(myarray1, myarray2)\n",
    "print(np.concatenate((myarray1, myarray2), axis=0))"
   ]
  },
  {
   "cell_type": "markdown",
   "id": "b037d4ac-5809-415c-abea-ac83215deaea",
   "metadata": {},
   "source": [
    "Stacking two arrays on top of each other"
   ]
  },
  {
   "cell_type": "code",
   "execution_count": 74,
   "id": "869b050d-f860-45f1-91cb-1f677601a931",
   "metadata": {},
   "outputs": [
    {
     "name": "stdout",
     "output_type": "stream",
     "text": [
      "[0 1 2 3 4] [5 6 7 8 9]\n",
      "[[0 1 2 3 4]\n",
      " [5 6 7 8 9]]\n"
     ]
    }
   ],
   "source": [
    "myarray1 = np.arange(0,5,1)\n",
    "myarray2 = np.arange(5,10,1)\n",
    "print(myarray1, myarray2)\n",
    "print(np.vstack((myarray1, myarray2)))"
   ]
  },
  {
   "cell_type": "markdown",
   "id": "27ff9b73-bf0a-4284-9fe7-6a9345e3aa28",
   "metadata": {},
   "source": [
    "Here is another way to do it"
   ]
  },
  {
   "cell_type": "code",
   "execution_count": 90,
   "id": "16a46045-005f-45f3-964c-2785d8a84f4f",
   "metadata": {},
   "outputs": [
    {
     "name": "stdout",
     "output_type": "stream",
     "text": [
      "Original arrays [0 1 2 3 4] [5 6 7 8 9]\n",
      "Expanded arrays [[0 1 2 3 4]] [[5 6 7 8 9]]\n",
      "Resulting matrix [[0 1 2 3 4]\n",
      " [5 6 7 8 9]]\n",
      "transposed [[0 5]\n",
      " [1 6]\n",
      " [2 7]\n",
      " [3 8]\n",
      " [4 9]]\n"
     ]
    }
   ],
   "source": [
    "myarray1 = np.arange(0,5,1)\n",
    "myarray2 = np.arange(5,10,1)\n",
    "print(\"Original arrays\", myarray1, myarray2)\n",
    "\n",
    "myarray1_new = np.expand_dims(myarray1, axis=0)\n",
    "myarray2_new = np.expand_dims(myarray2, axis=0)\n",
    "print(\"Expanded arrays\", myarray1_new, myarray2_new)\n",
    "\n",
    "mymatrix = np.concatenate((myarray1_new, myarray2_new), axis=0)\n",
    "print(\"Resulting matrix\", mymatrix)\n",
    "print(\"transposed\", mymatrix.T)"
   ]
  },
  {
   "cell_type": "code",
   "execution_count": null,
   "id": "9975c058-a2cd-4f40-90d2-c2d65ec0324c",
   "metadata": {},
   "outputs": [],
   "source": []
  }
 ],
 "metadata": {
  "kernelspec": {
   "display_name": "suep",
   "language": "python",
   "name": "suep"
  },
  "language_info": {
   "codemirror_mode": {
    "name": "ipython",
    "version": 3
   },
   "file_extension": ".py",
   "mimetype": "text/x-python",
   "name": "python",
   "nbconvert_exporter": "python",
   "pygments_lexer": "ipython3",
   "version": "3.9.15"
  }
 },
 "nbformat": 4,
 "nbformat_minor": 5
}
