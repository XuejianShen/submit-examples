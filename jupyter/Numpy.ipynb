{
 "cells": [
  {
   "cell_type": "markdown",
   "id": "3d150d14-17cf-462e-aca2-b7708f423818",
   "metadata": {},
   "source": [
    "# An Introduction to numpy"
   ]
  },
  {
   "cell_type": "markdown",
   "id": "2e479812-59be-4426-96c8-f3fb1ebc5bc1",
   "metadata": {},
   "source": [
    "**Requirements**: in order to execute this notebook, you will need the `numpy` package.\n",
    "\n",
    "You can install itby either running `pip3 install --user numpy` in your terminal, or executing the next cell.\n",
    "\n",
    "\n",
    "N.B.: in either case, make sure that you install them on the same python that you are using for the kernel of this notebook."
   ]
  },
  {
   "cell_type": "code",
   "execution_count": 92,
   "id": "24d510e9-bbcf-4ee8-8516-ef90f7547d8e",
   "metadata": {},
   "outputs": [
    {
     "name": "stdout",
     "output_type": "stream",
     "text": [
      "WARNING: pip is being invoked by an old script wrapper. This will fail in a future version of pip.\n",
      "Please see https://github.com/pypa/pip/issues/5599 for advice on fixing the underlying issue.\n",
      "To avoid this problem you can invoke Python with '-m pip' instead of running pip directly.\n",
      "Looking in indexes: https://pypi.org/simple, https://pypi.ngc.nvidia.com\n",
      "Requirement already satisfied: numpy in /usr/local/lib64/python3.6/site-packages (1.19.5)\n",
      "Requirement already satisfied: matplotlib in /usr/local/lib64/python3.6/site-packages (3.3.4)\n",
      "Requirement already satisfied: kiwisolver>=1.0.1 in /usr/local/lib64/python3.6/site-packages (from matplotlib) (1.3.1)\n",
      "Requirement already satisfied: pyparsing!=2.0.4,!=2.1.2,!=2.1.6,>=2.0.3 in /usr/local/lib/python3.6/site-packages (from matplotlib) (3.0.8)\n",
      "Requirement already satisfied: pillow>=6.2.0 in /usr/local/lib64/python3.6/site-packages (from matplotlib) (8.4.0)\n",
      "Requirement already satisfied: python-dateutil>=2.1 in /usr/local/lib/python3.6/site-packages (from matplotlib) (2.8.2)\n",
      "Requirement already satisfied: cycler>=0.10 in /usr/local/lib/python3.6/site-packages (from matplotlib) (0.11.0)\n",
      "Requirement already satisfied: six>=1.5 in /usr/lib/python3.6/site-packages (from python-dateutil>=2.1->matplotlib) (1.14.0)\n"
     ]
    }
   ],
   "source": [
    "!pip3 install --user numpy"
   ]
  },
  {
   "cell_type": "markdown",
   "id": "de9ada56-b375-45ae-8311-1df5ebd49484",
   "metadata": {},
   "source": [
    "Now we can import the package, using `np` as shorthand for `numpy`."
   ]
  },
  {
   "cell_type": "code",
   "execution_count": 101,
   "id": "6f585460-a5c0-42b5-89b0-5912ff998dbb",
   "metadata": {},
   "outputs": [],
   "source": [
    "import numpy as np"
   ]
  },
  {
   "cell_type": "markdown",
   "id": "6aa743da-717d-421a-a92f-5a35fac77f07",
   "metadata": {},
   "source": [
    "# Okay, so what is numpy?"
   ]
  },
  {
   "cell_type": "markdown",
   "id": "55a19c4f-2ed8-49b3-8df0-2c0c331877f7",
   "metadata": {},
   "source": [
    "numpy ([website](https://numpy.org/)) brands itself as \"The fundamental package for scientific computing with Python\". What's it good for?\n",
    "\n",
    "1. **Numpy Arrays**: you want to use numpy every time you are dealing with numerical lists, matrices, and higher dimensional arrays. numpy's powerful arrays support vectorization, indexing, and broadcasting, which are extremely efficient and easy to read.\n",
    "\n",
    "2. **Mathematical functions**: numpy also includes comprehensive mathematical functions, random number generators, linear algebra, transforms, and much more, all of which are designed to be used over its arrays."
   ]
  },
  {
   "cell_type": "markdown",
   "id": "57e25069-292b-464e-aafa-14bcc258eecf",
   "metadata": {},
   "source": [
    "# Let's see some code"
   ]
  },
  {
   "cell_type": "markdown",
   "id": "9a5450ca-4b25-4d5a-94f4-1838e79b0d9e",
   "metadata": {},
   "source": [
    "## numpy Arrays\n",
    "Define `mylist` as a normal python list, and `myarray` as a numpy array, with identical contents."
   ]
  },
  {
   "cell_type": "code",
   "execution_count": 104,
   "id": "271308cb-d760-4148-8d8f-ea2e8bba7320",
   "metadata": {},
   "outputs": [
    {
     "name": "stdout",
     "output_type": "stream",
     "text": [
      "[0, 1, 2, 3, 4, 5]\n",
      "[0 1 2 3 4 5]\n"
     ]
    }
   ],
   "source": [
    "mylist = [0,1,2,3,4,5]\n",
    "myarray = np.array([0,1,2,3,4,5])\n",
    "print(mylist)\n",
    "print(myarray)"
   ]
  },
  {
   "cell_type": "markdown",
   "id": "dabe3b9c-4ce5-4809-abbc-dd7bd7a0f2d4",
   "metadata": {},
   "source": [
    "They look identical! Why is this different from normal lists?"
   ]
  },
  {
   "cell_type": "markdown",
   "id": "f1810bb1-bf4b-4cc3-bcd9-57fb9819c54d",
   "metadata": {},
   "source": [
    "numpy arrays are designed to hold homogenous data (while lists can have multiple types of objects in them), and are thus optimized for various array operations. For example, numpy arrays support a lot of array operations, which don't work with lists."
   ]
  },
  {
   "cell_type": "code",
   "execution_count": 105,
   "id": "b673564e-651d-4756-a1dd-22ac4b13e5e6",
   "metadata": {},
   "outputs": [
    {
     "name": "stdout",
     "output_type": "stream",
     "text": [
      "[ 5  6  7  8  9 10]\n",
      "[ 0  2  4  6  8 10]\n",
      "[ 0  1  4  9 16 25]\n"
     ]
    }
   ],
   "source": [
    "print(myarray + 5)            # add 5 to every element in the list\n",
    "print(myarray + myarray)      # add two lists together, element by element\n",
    "print(myarray * myarray)      # multiply two lists together, element by element"
   ]
  },
  {
   "cell_type": "markdown",
   "id": "3e685c2b-182f-4747-b1ba-cc5b94ac5678",
   "metadata": {},
   "source": [
    "These operations don't work for normal lists, the following code snippet uses a `try-except` block to demonstrate this: the code under `try` will execute, but if it encounters any error, it won't crash everything, but simply execute the code under `except`."
   ]
  },
  {
   "cell_type": "code",
   "execution_count": 106,
   "id": "3725890b-0cbf-4e00-aaac-f771de151418",
   "metadata": {},
   "outputs": [
    {
     "name": "stdout",
     "output_type": "stream",
     "text": [
      "can't multiply sequence by non-int of type 'list'\n",
      "numpy arrays are different from lists!\n"
     ]
    }
   ],
   "source": [
    "try: \n",
    "    print(mylist * mylist)\n",
    "except Exception as e:\n",
    "    print(e)\n",
    "    print(\"numpy arrays are different from lists!\")"
   ]
  },
  {
   "cell_type": "markdown",
   "id": "4f6e99ea-7e7d-4513-9e23-91d764ff5416",
   "metadata": {},
   "source": [
    "We can extend these arrays to many dimensions"
   ]
  },
  {
   "cell_type": "code",
   "execution_count": 107,
   "id": "262965e3-efbd-450b-8cec-75aed02cfd8f",
   "metadata": {},
   "outputs": [
    {
     "name": "stdout",
     "output_type": "stream",
     "text": [
      "[[[ 0  1  2]\n",
      "  [ 3  4  5]]\n",
      "\n",
      " [[ 6  7  8]\n",
      "  [ 9 10 11]]\n",
      "\n",
      " [[12 13 14]\n",
      "  [15 16 17]]]\n",
      "(3, 2, 3)\n"
     ]
    }
   ],
   "source": [
    "mymatrix = np.array([[[0,1,2],[3,4,5]], [[6,7,8],[9,10,11]], [[12,13,14], [15,16,17]]])\n",
    "print(mymatrix)\n",
    "print(mymatrix.shape)"
   ]
  },
  {
   "cell_type": "markdown",
   "id": "2b47e00f-145b-4500-9ebf-1abf434301ce",
   "metadata": {},
   "source": [
    "Indexing works pretty much the same way as lists. However, note that you can use lists to index numpy arrays."
   ]
  },
  {
   "cell_type": "code",
   "execution_count": 108,
   "id": "468fd44f-44e5-4fb4-bedc-c04105befc8a",
   "metadata": {},
   "outputs": [
    {
     "name": "stdout",
     "output_type": "stream",
     "text": [
      "0\n",
      "[1 2]\n",
      "[0 4]\n",
      "[4 3 2]\n"
     ]
    }
   ],
   "source": [
    "mylist = [0,1,2,3,4]\n",
    "myarray = np.array(mylist)\n",
    "print(myarray[0])\n",
    "print(myarray[1:3])\n",
    "print(myarray[[True, False, False, False, True]])\n",
    "print(myarray[[-1,3,2]])"
   ]
  },
  {
   "cell_type": "markdown",
   "id": "ea464a67-5bb4-434e-8c58-7244991df535",
   "metadata": {},
   "source": [
    "## Vectorization, indexing, broadcasting, etc."
   ]
  },
  {
   "cell_type": "markdown",
   "id": "0573ac3c-84ae-444a-a72c-d32e6aba78d5",
   "metadata": {},
   "source": [
    "This is the real power of numpy arrays. Let's see some examples"
   ]
  },
  {
   "cell_type": "markdown",
   "id": "d75289a1-a4f2-466f-94d8-40e0fffe90bb",
   "metadata": {},
   "source": [
    "Let's say I want to select all positive entries in a list of numbers. This is how you would've done it in the good old days."
   ]
  },
  {
   "cell_type": "code",
   "execution_count": 109,
   "id": "7f73ea77-7354-4f0a-963e-2c053945cffa",
   "metadata": {},
   "outputs": [
    {
     "name": "stdout",
     "output_type": "stream",
     "text": [
      "[2, 4, 6]\n"
     ]
    }
   ],
   "source": [
    "mylist = [0,-1,2,-3,4,-5,6]             # some list we want to get all positive numbers from\n",
    "pos = []                                # new list to append positive numbers to\n",
    "for number in mylist:\n",
    "    if number > 0:\n",
    "        pos.append(number)\n",
    "print(pos)"
   ]
  },
  {
   "cell_type": "markdown",
   "id": "63ca0edb-c5ce-4c13-a282-8fe349eba7fe",
   "metadata": {},
   "source": [
    "Once you start writing more complex code, for loops like these become slow, and hard to read. Let's see how numpy fixes this."
   ]
  },
  {
   "cell_type": "code",
   "execution_count": 110,
   "id": "161c5d2a-013f-4940-90cc-443b502c3b6e",
   "metadata": {},
   "outputs": [
    {
     "name": "stdout",
     "output_type": "stream",
     "text": [
      "[2 4 6]\n"
     ]
    }
   ],
   "source": [
    "myarray = np.array(mylist)              # some list we want to get all positive numbers from\n",
    "pos = myarray[myarray > 0]\n",
    "print(pos)"
   ]
  },
  {
   "cell_type": "markdown",
   "id": "a087fdf7-3ec5-4f60-baf2-d7f0c0fdcbe6",
   "metadata": {},
   "source": [
    "Very nice! How did it work? Let's see some details."
   ]
  },
  {
   "cell_type": "markdown",
   "id": "371d87a9-7813-4c2b-b1bf-5dfc86b5fc23",
   "metadata": {},
   "source": [
    "When we print `myarray > 0` we see that it returns an array of booleans, stating whether the **expression** that we have just written (myarray > 0) is True or False, at each index of the array."
   ]
  },
  {
   "cell_type": "code",
   "execution_count": 111,
   "id": "6dea532b-70d3-49b9-819f-0f63e47c1131",
   "metadata": {},
   "outputs": [
    {
     "name": "stdout",
     "output_type": "stream",
     "text": [
      "[False False  True False  True False  True]\n"
     ]
    }
   ],
   "source": [
    "expr = myarray > 0\n",
    "print(expr)"
   ]
  },
  {
   "cell_type": "markdown",
   "id": "1e6896fe-c483-4c38-9a93-bb4428d59bc7",
   "metadata": {},
   "source": [
    "We can then use this array to index our original numpy array"
   ]
  },
  {
   "cell_type": "code",
   "execution_count": 112,
   "id": "840fb2b9-3931-4be1-9e81-890fd445aad7",
   "metadata": {},
   "outputs": [
    {
     "name": "stdout",
     "output_type": "stream",
     "text": [
      "[2 4 6]\n"
     ]
    }
   ],
   "source": [
    "print(myarray[expr])"
   ]
  },
  {
   "cell_type": "markdown",
   "id": "872b0a8e-ed09-40f4-9557-9b6dffff25c9",
   "metadata": {},
   "source": [
    "We can now build more complicated expressions, but the idea is the same."
   ]
  },
  {
   "cell_type": "code",
   "execution_count": 113,
   "id": "a8a1cf7b-6349-406d-ab4b-b1735c26bcd9",
   "metadata": {},
   "outputs": [
    {
     "name": "stdout",
     "output_type": "stream",
     "text": [
      "[ 6  8 10]\n"
     ]
    }
   ],
   "source": [
    "myarray = np.array([0,1,2,3,4,5,6,7,8,9,10])\n",
    "print(myarray[ (myarray%2==0) & (myarray>5) ])    # select all even numbers greater than 5"
   ]
  },
  {
   "cell_type": "markdown",
   "id": "ad8d7b3a-7c0b-4533-8b8f-128500b67af4",
   "metadata": {},
   "source": [
    "## Some useful functions"
   ]
  },
  {
   "cell_type": "markdown",
   "id": "a46c1a95-0b88-40ff-9b1d-3cf121b52997",
   "metadata": {},
   "source": [
    "I won't even get close to scratching the surface of all the math functions that numpy provides for us. numpy has a good [user's guide and tutorials](https://numpy.org/doc/stable/user/whatisnumpy.html), that you should check out after you're done with this notebook."
   ]
  },
  {
   "cell_type": "markdown",
   "id": "c94b2305-14d3-4c09-906c-233d0fa2cd38",
   "metadata": {},
   "source": [
    "Initializing new arrays:"
   ]
  },
  {
   "cell_type": "code",
   "execution_count": 117,
   "id": "6eaec766-2ca9-454c-9b4f-4ea10e15d856",
   "metadata": {},
   "outputs": [
    {
     "name": "stdout",
     "output_type": "stream",
     "text": [
      "Integers from 0 to 9 [0 1 2 3 4 5 6 7 8 9]\n",
      "Half integers 0 from 9.5 [0.  0.5 1.  1.5 2.  2.5 3.  3.5 4.  4.5 5.  5.5 6.  6.5 7.  7.5 8.  8.5\n",
      " 9.  9.5]\n",
      "Random 3x3 matrix [[0.10876912 0.86211295 0.1060116 ]\n",
      " [0.86764082 0.37156861 0.61320559]\n",
      " [0.87962668 0.34436341 0.49392533]]\n",
      "Logarithmic space array [   1.   10.  100. 1000.]\n"
     ]
    }
   ],
   "source": [
    "myarray = np.arange(0,10,1)                  # initialize arrays with all integers from 0 to 9\n",
    "print(\"Integers from 0 to 9\", myarray)\n",
    "myarray = np.arange(0,10,0.5)                # initialize arrays with all half integers from 0 to 9.5\n",
    "print(\"Half integers 0 from 9.5\", myarray)\n",
    "mymatrix = np.random.random((3,3))           # random [0,1] 3x3 matrix\n",
    "print(\"Random 3x3 matrix\", mymatrix)\n",
    "myarray = np.logspace(0,3,4)                 # logarithmic space\n",
    "print(\"Logarithmic space array\", myarray)"
   ]
  },
  {
   "cell_type": "markdown",
   "id": "9f2f81a6-5dbc-4a35-9b68-bbb21602978b",
   "metadata": {},
   "source": [
    "Simple functions:"
   ]
  },
  {
   "cell_type": "code",
   "execution_count": 119,
   "id": "13bee782-d6b0-4d90-b183-8379764d466a",
   "metadata": {},
   "outputs": [
    {
     "name": "stdout",
     "output_type": "stream",
     "text": [
      "Exponentiate [[1.31003387 2.68075106 1.63259118]\n",
      " [1.67069799 2.32571187 2.1829025 ]\n",
      " [2.12642699 1.01795265 1.48115539]]\n",
      "Logarithm [[-1.30913706 -0.01400055 -0.71300621]\n",
      " [-0.66700878 -0.16957177 -0.24762144]\n",
      " [-0.28177542 -4.02892758 -0.93439755]]\n",
      "Sum of entries 5.049300467104399\n",
      "Maximum 0.986096999888426\n",
      "Minimum 0.017793401664856878\n"
     ]
    }
   ],
   "source": [
    "mymatrix = np.random.random((3,3))\n",
    "print(\"Exponentiate\", np.exp(mymatrix))             # exponentiate every entry\n",
    "print(\"Logarithm\", np.log(mymatrix))                # take log of every entry\n",
    "print(\"Sum of entries\", mymatrix.sum())             # sum all entries\n",
    "print(\"Maximum\", mymatrix.max())                    # get max of all entries\n",
    "print(\"Minimum\", mymatrix.min())                    # get min of all entries"
   ]
  },
  {
   "cell_type": "markdown",
   "id": "8167c338-9522-4549-b4be-03895f8b0936",
   "metadata": {},
   "source": [
    "## Joining arrays"
   ]
  },
  {
   "cell_type": "markdown",
   "id": "534581da-42dc-4d21-8162-8e176cc9a464",
   "metadata": {},
   "source": [
    "Simple concatenation"
   ]
  },
  {
   "cell_type": "code",
   "execution_count": 121,
   "id": "fd20bf06-5be8-41ca-ba8c-be9f723be159",
   "metadata": {},
   "outputs": [
    {
     "name": "stdout",
     "output_type": "stream",
     "text": [
      "Original arrays: [0 1 2 3 4] [5 6 7 8 9]\n",
      "Concatenated: [0 1 2 3 4 5 6 7 8 9]\n"
     ]
    }
   ],
   "source": [
    "myarray1 = np.arange(0,5,1)\n",
    "myarray2 = np.arange(5,10,1)\n",
    "print(\"Original arrays:\", myarray1, myarray2)\n",
    "print(\"Concatenated:\", np.concatenate((myarray1, myarray2), axis=0))"
   ]
  },
  {
   "cell_type": "markdown",
   "id": "b037d4ac-5809-415c-abea-ac83215deaea",
   "metadata": {},
   "source": [
    "Stacking two arrays on top of each other"
   ]
  },
  {
   "cell_type": "code",
   "execution_count": 122,
   "id": "869b050d-f860-45f1-91cb-1f677601a931",
   "metadata": {},
   "outputs": [
    {
     "name": "stdout",
     "output_type": "stream",
     "text": [
      "Original arrays: [0 1 2 3 4] [5 6 7 8 9]\n",
      "Stacked: [[0 1 2 3 4]\n",
      " [5 6 7 8 9]]\n"
     ]
    }
   ],
   "source": [
    "myarray1 = np.arange(0,5,1)\n",
    "myarray2 = np.arange(5,10,1)\n",
    "print(\"Original arrays:\", myarray1, myarray2)\n",
    "print(\"Stacked:\", np.vstack((myarray1, myarray2)))"
   ]
  },
  {
   "cell_type": "markdown",
   "id": "27ff9b73-bf0a-4284-9fe7-6a9345e3aa28",
   "metadata": {},
   "source": [
    "Here is another way to do it"
   ]
  },
  {
   "cell_type": "code",
   "execution_count": 123,
   "id": "16a46045-005f-45f3-964c-2785d8a84f4f",
   "metadata": {},
   "outputs": [
    {
     "name": "stdout",
     "output_type": "stream",
     "text": [
      "Original arrays [0 1 2 3 4] [5 6 7 8 9]\n",
      "Expanded arrays [[0 1 2 3 4]] [[5 6 7 8 9]]\n",
      "Resulting matrix [[0 1 2 3 4]\n",
      " [5 6 7 8 9]]\n",
      "Transposed [[0 5]\n",
      " [1 6]\n",
      " [2 7]\n",
      " [3 8]\n",
      " [4 9]]\n"
     ]
    }
   ],
   "source": [
    "myarray1 = np.arange(0,5,1)\n",
    "myarray2 = np.arange(5,10,1)\n",
    "print(\"Original arrays\", myarray1, myarray2)\n",
    "\n",
    "myarray1_new = np.expand_dims(myarray1, axis=0)\n",
    "myarray2_new = np.expand_dims(myarray2, axis=0)\n",
    "print(\"Expanded arrays\", myarray1_new, myarray2_new)\n",
    "\n",
    "mymatrix = np.concatenate((myarray1_new, myarray2_new), axis=0)\n",
    "print(\"Resulting matrix\", mymatrix)\n",
    "print(\"Transposed\", mymatrix.T)"
   ]
  },
  {
   "cell_type": "markdown",
   "id": "bfcbac6d-bea9-4132-a129-c46b76bce06e",
   "metadata": {},
   "source": [
    "## Linear Algebra"
   ]
  },
  {
   "cell_type": "markdown",
   "id": "a36e0b22-6116-47d9-a967-8fcc9a520ab7",
   "metadata": {},
   "source": [
    "The linear algebra package, numpy.linalg, is quite nice; here is a couple examples."
   ]
  },
  {
   "cell_type": "markdown",
   "id": "36c88cb0-9c07-4c5c-a422-4ba5d5dd787c",
   "metadata": {},
   "source": [
    "Matrix multiplication"
   ]
  },
  {
   "cell_type": "code",
   "execution_count": 124,
   "id": "73f20b20-ad1e-428c-8ac7-f05eaaef7a38",
   "metadata": {},
   "outputs": [
    {
     "name": "stdout",
     "output_type": "stream",
     "text": [
      "[[1.05589368 0.76217535 0.85790371 1.04536037]\n",
      " [1.78051597 1.5987149  1.66783975 1.94923429]\n",
      " [1.63134215 1.21647504 1.33061557 1.42230855]\n",
      " [1.78877201 1.0293976  1.31419496 1.23351037]]\n"
     ]
    }
   ],
   "source": [
    "m1 = np.random.random((4,5))\n",
    "m2 = np.random.random((5,4))\n",
    "print(m1@m2)"
   ]
  },
  {
   "cell_type": "markdown",
   "id": "0de08bdc-5fe9-48c3-ba2c-7c75d6e74212",
   "metadata": {},
   "source": [
    "Eigenvalues"
   ]
  },
  {
   "cell_type": "code",
   "execution_count": 125,
   "id": "c66e4fae-017a-4aca-b7dc-53a880be809a",
   "metadata": {},
   "outputs": [
    {
     "name": "stdout",
     "output_type": "stream",
     "text": [
      "[1.62456766+0.j         0.07189804+0.j         0.31273332+0.13919685j\n",
      " 0.31273332-0.13919685j]\n"
     ]
    }
   ],
   "source": [
    "m3 = np.random.random((4,4))\n",
    "print(np.linalg.eigvals(m3))"
   ]
  },
  {
   "cell_type": "markdown",
   "id": "47d1f37e-ce1c-4299-b647-cf53434734ce",
   "metadata": {},
   "source": [
    "Most standard linear algebra functions are already supported through this package: traces, determinants, singular value decomposition, etc. See [here](https://numpy.org/doc/stable/reference/routines.linalg.html) for full list."
   ]
  },
  {
   "cell_type": "markdown",
   "id": "3652c5f9-695d-4c08-9a8b-0b2e99ec5c54",
   "metadata": {},
   "source": [
    "# Concluding Remark\n",
    "numpy is an extremely powerful, well-supported, and ubiquitous package for numerical and scientific computing in the Python ecosystem. Its main scope is the manipulation of multidimensional homogenous arrays, for which it provides extensive functions and tools.\n",
    "For more information, see their [documentation](https://numpy.org/doc/stable/index.html).\n",
    "\n",
    "-- Luca Lavezzo, 1/5/2023"
   ]
  },
  {
   "cell_type": "code",
   "execution_count": null,
   "id": "c4f7891f-f069-406f-86c3-1dda37870ac5",
   "metadata": {},
   "outputs": [],
   "source": []
  }
 ],
 "metadata": {
  "kernelspec": {
   "display_name": "suep",
   "language": "python",
   "name": "suep"
  },
  "language_info": {
   "codemirror_mode": {
    "name": "ipython",
    "version": 3
   },
   "file_extension": ".py",
   "mimetype": "text/x-python",
   "name": "python",
   "nbconvert_exporter": "python",
   "pygments_lexer": "ipython3",
   "version": "3.9.15"
  }
 },
 "nbformat": 4,
 "nbformat_minor": 5
}
